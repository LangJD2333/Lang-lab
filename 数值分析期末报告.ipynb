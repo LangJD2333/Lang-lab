{
 "cells": [
  {
   "cell_type": "code",
   "execution_count": 2,
   "metadata": {
    "code_folding": [
     0
    ]
   },
   "outputs": [],
   "source": [
    "class Solution:\n",
    "    def combinationSum(self,new_input,left,target,cut):\n",
    "          \n",
    "        Solution.stop = 0\n",
    "        Solution.ans_list = []\n",
    "        Solution.target = target\n",
    "        if cut == 0:\n",
    "            new_input.sort(key=lambda k: k[1],reverse = False)\n",
    "        else:\n",
    "            new_input.sort(key=lambda k: k[1],reverse = True)\n",
    "        \n",
    "        new_input = left + new_input\n",
    "\n",
    "        if cut == 0:\n",
    "            self.find_no_cut(new_input, target, 0, [])\n",
    "        else:\n",
    "            while Solution.stop < 10:\n",
    "                self.find_one_cut(new_input, target, 0, [])\n",
    "\n",
    "        return Solution.ans_list\n",
    "\n",
    "    def find_no_cut(self, new_input, target,i,valuelist):\n",
    "        \n",
    "\n",
    "        if len(Solution.ans_list) > 0:\n",
    "            return\n",
    "\n",
    "        if target >= -1 and target <= 1:\n",
    "            if len(valuelist) == 3 or len(valuelist) == 4:\n",
    "                Solution.ans_list.append(valuelist)\n",
    "\n",
    "        for i in range(i, len(new_input)):\n",
    "            if new_input[i][1] > target:\n",
    "                return\n",
    "\n",
    "            self.find_no_cut(new_input, target - new_input[i][1], i + 1,valuelist + [new_input[i]])\n",
    "\n",
    "\n",
    "\n",
    "    def find_one_cut(self,new_input,target,i,valuelist):\n",
    "        \n",
    "        if len(Solution.ans_list) > 0:\n",
    "            return\n",
    "\n",
    "        if target >= -2 and target <= 2:\n",
    "            if len(valuelist) == 5 or len(valuelist) == 6 or len(valuelist) == 7:\n",
    "                Solution.ans_list.append(valuelist)\n",
    "\n",
    "        for i in range(i, len(new_input)):\n",
    "            if new_input[i][1] > target:\n",
    "                return\n",
    "            \n",
    "            Solution.stop +=1\n",
    "            self.find_one_cut(new_input, target - new_input[i][1], i + 1,valuelist + [new_input[i]])"
   ]
  },
  {
   "cell_type": "code",
   "execution_count": 3,
   "metadata": {
    "code_folding": []
   },
   "outputs": [],
   "source": [
    "class Solution1:\n",
    "    def combinationSum(self,new_input,left,target,cut):\n",
    "        \n",
    "        Solution1.ans_list = []\n",
    "        Solution1.target = target\n",
    "        new_input.sort(key=lambda k: k[1],reverse = True)\n",
    "     \n",
    "        new_input = left + new_input  \n",
    "        self.find_two_cut(new_input, target, 0, [])\n",
    "        return Solution1.ans_list\n",
    "\n",
    "    def find_two_cut(self,new_input,target,i,valuelist):\n",
    "        \n",
    "        if len(Solution1.ans_list) > 0:\n",
    "            return\n",
    "\n",
    "        if target >= -3 and target <= 3:\n",
    "            if len(valuelist) >= 7 and len(valuelist) <= 10:\n",
    "                Solution1.ans_list.append(valuelist)\n",
    "\n",
    "        for i in range(i, len(new_input)):\n",
    "            if new_input[i][1] > target:\n",
    "                return\n",
    "            \n",
    "            self.find_two_cut(new_input, target - new_input[i][1], i + 1,valuelist + [new_input[i]])"
   ]
  },
  {
   "cell_type": "code",
   "execution_count": 4,
   "metadata": {
    "code_folding": [
     1
    ]
   },
   "outputs": [],
   "source": [
    "sol = Solution()\n",
    "def show_690(input_data,left_data,limit):\n",
    "    solution = {\"690\":[],\"690*2\":[]}\n",
    "    \n",
    "    target = 690\n",
    "    cut = 0\n",
    "    while len(input_data) > 0:\n",
    "        answer = sol.combinationSum(input_data,left_data,target,cut)\n",
    "        \n",
    "        if len(answer) == 0:\n",
    "            break\n",
    "        \n",
    "        #print answer\n",
    "        for i in answer:\n",
    "            solution[\"690\"].append(i)\n",
    "            for j in i:\n",
    "                if j in left_data:\n",
    "                    left_data.remove(j)\n",
    "                if j in input_data:\n",
    "                    input_data.remove(j)\n",
    "    \n",
    "    print \"Cut one time\"\n",
    "    target = 690*2\n",
    "    cut = 1\n",
    "    time = 0\n",
    "    while len(input_data) > 0:\n",
    "        answer = sol.combinationSum(input_data,left_data,target,cut)\n",
    "        \n",
    "        if len(answer) == 0:\n",
    "            break\n",
    "        else:\n",
    "            time += 1\n",
    "            \n",
    "        \n",
    "        print answer\n",
    "        for i in answer:\n",
    "            solution[\"690*2\"].append(i)\n",
    "            for j in i:\n",
    "                if j in input_data:\n",
    "                    input_data.remove(j)\n",
    "                if j in left_data:\n",
    "                    left_data.remove(j)\n",
    "        \n",
    "        if time == int(limit):\n",
    "            break\n",
    "    \n",
    "    return solution"
   ]
  },
  {
   "cell_type": "code",
   "execution_count": 5,
   "metadata": {
    "code_folding": [
     0
    ]
   },
   "outputs": [],
   "source": [
    "def save_answer(Solution,no):\n",
    "    sol_dict_690 = {\"No.\":[],\"ID\":[],\"Length\":[]}\n",
    "    \n",
    "    for i in Solution[\"690\"]:\n",
    "        for j in i:\n",
    "            sol_dict_690[\"No.\"].append(j[2])\n",
    "            sol_dict_690[\"ID\"].append(j[0])\n",
    "            sol_dict_690[\"Length\"].append(j[1])\n",
    "        \n",
    "        sol_dict_690[\"No.\"].append(\" \")\n",
    "        sol_dict_690[\"ID\"].append(\" \")\n",
    "        sol_dict_690[\"Length\"].append(\" \")\n",
    "    \n",
    "    df = pd.DataFrame(sol_dict_690)\n",
    "    name = \"Solution\"+ str(no) +\"_690\"+\".csv\"\n",
    "    df.to_csv(name)\n",
    "    \n",
    "    sol_dict_690_2 = {\"No.\":[],\"ID\":[],\"Length\":[],\"Cut\":[]}\n",
    "    \n",
    "    for i in range(len(Solution[\"690*2\"])):\n",
    "        solution = Solution[\"690*2\"][i]  \n",
    "        solution = adjust_list(solution)\n",
    "        \n",
    "        for j in range(len(solution)):\n",
    "            if j != len(solution)/2:\n",
    "                sol_dict_690_2[\"No.\"].append(solution[j][2])\n",
    "                sol_dict_690_2[\"ID\"].append(solution[j][0])\n",
    "                sol_dict_690_2[\"Length\"].append(solution[j][1])\n",
    "                sol_dict_690_2[\"Cut\"].append(\"False\")\n",
    "            \n",
    "            else:\n",
    "                sol_dict_690_2[\"No.\"].append(solution[j][2])\n",
    "                sol_dict_690_2[\"ID\"].append(solution[j][0])\n",
    "                left_value = 690-solution[j-1][1]-solution[j-2][1]\n",
    "                sol_dict_690_2[\"Length\"].append(left_value)\n",
    "                sol_dict_690_2[\"Cut\"].append(\"Yes\")\n",
    "                \n",
    "                sol_dict_690_2[\"No.\"].append(solution[j][2])\n",
    "                sol_dict_690_2[\"ID\"].append(solution[j][0])\n",
    "                sol_dict_690_2[\"Length\"].append(solution[j][1] - left_value)\n",
    "                sol_dict_690_2[\"Cut\"].append(\"Yes\")\n",
    "            \n",
    "        sol_dict_690_2[\"No.\"].append(\" \")\n",
    "        sol_dict_690_2[\"ID\"].append(\" \")\n",
    "        sol_dict_690_2[\"Length\"].append(\" \")\n",
    "        sol_dict_690_2[\"Cut\"].append(\" \")\n",
    "        \n",
    "    df = pd.DataFrame(sol_dict_690_2)\n",
    "    name = \"Solution\"+str(no)+\"_690_2\"+\".csv\"\n",
    "    df.to_csv(name)"
   ]
  },
  {
   "cell_type": "code",
   "execution_count": 6,
   "metadata": {
    "code_folding": [
     0
    ]
   },
   "outputs": [],
   "source": [
    "def adjust_list(solution):\n",
    "    solution.sort(key = lambda key:key[2])\n",
    "    i = 0\n",
    "    index = 0\n",
    "    leng = len(solution)\n",
    "    \n",
    "    while i < leng:\n",
    "        if solution[i][2] <= 300:\n",
    "            i +=1\n",
    "        else:\n",
    "            index = i\n",
    "            i = leng\n",
    "    if index > leng/2:\n",
    "        part1 = solution[:leng/2]\n",
    "        part2 = solution[index:]\n",
    "        part3 = solution[leng/2:index]   \n",
    "        solution = part1 + part2 + part3\n",
    "    else:\n",
    "        return solution\n",
    "    \n",
    "    \n",
    "    return solution"
   ]
  },
  {
   "cell_type": "code",
   "execution_count": 7,
   "metadata": {
    "code_folding": [
     0
    ]
   },
   "outputs": [],
   "source": [
    "def adjust_list_3(solution):\n",
    "    solution.sort(key = lambda key:key[2])\n",
    "    i = 0\n",
    "    index = 0\n",
    "    leng = len(solution)\n",
    "    \n",
    "    while i < leng:\n",
    "        if solution[i][2] <= 300:\n",
    "            i +=1\n",
    "        else:\n",
    "            index = i\n",
    "            i = leng\n",
    "    print index\n",
    "    if leng > index > leng/3:\n",
    "        part1 = solution[:leng/3]\n",
    "        part2 = solution[index:index+1]\n",
    "        part3 = solution[leng/3:index-1]\n",
    "        part4 = solution[index+1:]\n",
    "        part5 = solution[index-1:index]\n",
    "        solution = part1 + part2 + part3+part4+part5\n",
    "    else:\n",
    "        return solution\n",
    "    \n",
    "    \n",
    "    return solution"
   ]
  },
  {
   "cell_type": "code",
   "execution_count": 8,
   "metadata": {
    "code_folding": [
     0
    ]
   },
   "outputs": [],
   "source": [
    "def save_answer_2(Solution,no):\n",
    "\n",
    "    sol_dict_690_2 = {\"No.\":[],\"ID\":[],\"Length\":[],\"Cut\":[]}\n",
    "    \n",
    "    for i in range(len(Solution[\"690*3\"])):\n",
    "        solution = Solution[\"690*3\"][i]  \n",
    "        solution = adjust_list_3(solution)\n",
    "        \n",
    "        for j in range(len(solution)):\n",
    "            if j != len(solution)/3 and j != (2*len(solution)/3):\n",
    "                sol_dict_690_2[\"No.\"].append(solution[j][2])\n",
    "                sol_dict_690_2[\"ID\"].append(solution[j][0])\n",
    "                sol_dict_690_2[\"Length\"].append(solution[j][1])\n",
    "                sol_dict_690_2[\"Cut\"].append(\"False\")\n",
    "            \n",
    "            else:\n",
    "                if j == len(solution)/3:\n",
    "                    sol_dict_690_2[\"No.\"].append(solution[j][2])\n",
    "                    sol_dict_690_2[\"ID\"].append(solution[j][0])\n",
    "                    left_value = 690-solution[j-1][1]-solution[j-2][1]\n",
    "                    sol_dict_690_2[\"Length\"].append(left_value)\n",
    "                    sol_dict_690_2[\"Cut\"].append(\"Yes\")\n",
    "                    \n",
    "                    sol_dict_690_2[\"No.\"].append(solution[j][2])\n",
    "                    sol_dict_690_2[\"ID\"].append(solution[j][0])\n",
    "                    sol_dict_690_2[\"Length\"].append(solution[j][1] - left_value)\n",
    "                    sol_dict_690_2[\"Cut\"].append(\"Yes\")\n",
    "                    \n",
    "                else:\n",
    "                    left_value_last = 690-solution[len(solution)/3 - 1][1]-solution[len(solution)/3 - 1][1]\n",
    "                    left = solution[len(solution)/3][1] - left_value_last\n",
    "                    \n",
    "                    left_value = 690- solution[j-1][1]-solution[j-2][1]-left\n",
    "                    sol_dict_690_2[\"No.\"].append(solution[j][2])\n",
    "                    sol_dict_690_2[\"ID\"].append(solution[j][0])\n",
    "                    sol_dict_690_2[\"Length\"].append(left_value)\n",
    "                    sol_dict_690_2[\"Cut\"].append(\"Yes\")\n",
    "                    \n",
    "                    sol_dict_690_2[\"No.\"].append(solution[j][2])\n",
    "                    sol_dict_690_2[\"ID\"].append(solution[j][0])\n",
    "                    sol_dict_690_2[\"Length\"].append(solution[j][1] - left_value)\n",
    "                    sol_dict_690_2[\"Cut\"].append(\"Yes\")\n",
    "                    \n",
    "                                \n",
    "        sol_dict_690_2[\"No.\"].append(\" \")\n",
    "        sol_dict_690_2[\"ID\"].append(\" \")\n",
    "        sol_dict_690_2[\"Length\"].append(\" \")\n",
    "        sol_dict_690_2[\"Cut\"].append(\" \")\n",
    "        \n",
    "    df = pd.DataFrame(sol_dict_690_2)\n",
    "    name = \"Solution\"+str(no)+\"_690_3\"+\".csv\"\n",
    "    df.to_csv(name)"
   ]
  },
  {
   "cell_type": "code",
   "execution_count": 9,
   "metadata": {
    "code_folding": [
     7,
     11
    ]
   },
   "outputs": [],
   "source": [
    "import pandas as pd\n",
    "df = pd.read_csv(\"A.csv\")\n",
    "df = df.iloc[:,1:]\n",
    "df = df[1:]\n",
    "df = (df.values).tolist()\n",
    "\n",
    "df_lst = []\n",
    "for i in range(len(df)):\n",
    "    df_lst.append((df[i][0],df[i][1]))\n",
    "    \n",
    "input_dict = {}\n",
    "for i in range(1,len(df_lst)/300 + 1):    \n",
    "    input_dict[i] = []\n",
    "    for j in range(300*(i-1),300*i):\n",
    "        input_dict[i].append(df_lst[j])"
   ]
  },
  {
   "cell_type": "code",
   "execution_count": 10,
   "metadata": {},
   "outputs": [],
   "source": [
    "input1 = [(input_dict[1][i][0],input_dict[1][i][1],i+1) for i in range(len(input_dict[1]))]\n",
    "left_data = []\n",
    "limit = int(len(input1)*0.1)"
   ]
  },
  {
   "cell_type": "code",
   "execution_count": 11,
   "metadata": {},
   "outputs": [
    {
     "name": "stdout",
     "output_type": "stream",
     "text": [
      "Cut one time\n",
      "[[('SI32309ZC07-XT-I34106-07', 304.0, 193), ('SI32407ZC07-XT-I32805-06', 302.0, 228), ('SI32407ZC07-XT-I32805-02', 293.0, 224), ('SI32214ZC07-XT-I31102-08', 245.0, 58), ('SI32214ZC07-XT-I31102-49', 236.0, 99)]]\n",
      "[[('SI32309ZC07-XT-I34106-11', 298.0, 197), ('SI32309ZC07-XT-I34106-12', 298.0, 198), ('SI32309ZC07-XT-I34106-16', 290.0, 202), ('SI32219ZC07-XT-I32403-15', 247.0, 150), ('SI32219ZC07-XT-I32403-17', 247.0, 152)]]\n",
      "[[('SI32309ZC07-XT-I34106-01', 295.0, 187), ('SI32407ZC07-XT-I32805-05', 295.0, 227), ('SI32407ZC07-XT-I32805-11', 293.0, 233), ('SI32219ZC07-XT-I32403-44', 249.0, 180), ('SI32202ZC07-XT-I33002-31', 248.0, 32)]]\n",
      "[[('SI32407ZC07-XT-I32805-07', 295.0, 229), ('SI32407ZC07-XT-I32805-29', 294.0, 251), ('SI32309ZC07-XT-I34106-04', 291.0, 190), ('SI32202ZC07-XT-I33002-15', 250.0, 16), ('SI32214ZC07-XT-I31102-15', 250.0, 65)]]\n",
      "[[('SI32309ZC07-XT-I34106-10', 292.0, 196), ('SI32309ZC07-XT-I34106-32', 292.0, 218), ('SI32403ZC07-XT-I30404-06', 292.0, 264), ('SI32214ZC07-XT-I31102-32', 253.0, 82), ('SI32214ZC07-XT-I31102-45', 251.0, 95)]]\n",
      "[[('SI32309ZC07-XT-I34106-13', 291.0, 199), ('SI32309ZC07-XT-I34106-18', 291.0, 204), ('SI32309ZC07-XT-I34106-36', 291.0, 222), ('SI32409ZC07-XT-I35104-31', 254.0, 130), ('SI32214ZC07-XT-I31102-25', 253.0, 75)]]\n",
      "[[('SI32407ZC07-XT-I32805-12', 291.0, 234), ('SI32407ZC07-XT-I32805-26', 291.0, 248), ('SI32309ZC07-XT-I34106-19', 290.0, 205), ('SI32202ZC07-XT-I33002-40', 254.0, 41), ('SI32214ZC07-XT-I31102-05', 254.0, 55)]]\n",
      "[[('SI32407ZC07-XT-I32805-28', 291.0, 250), ('SI32407ZC07-XT-I32805-31', 291.0, 253), ('SI32309ZC07-XT-I34106-27', 290.0, 213), ('SI32214ZC07-XT-I31102-23', 254.0, 73), ('SI32214ZC07-XT-I31102-38', 254.0, 88)]]\n",
      "[[('SI32407ZC07-XT-I32805-34', 291.0, 256), ('SI32309ZC07-XT-I34106-35', 290.0, 221), ('SI32407ZC07-XT-I32805-13', 290.0, 235), ('SI32409ZC07-XT-I35104-15', 255.0, 114), ('SI32409ZC07-XT-I35104-02', 254.0, 101)]]\n",
      "[[('SI32403ZC07-XT-I30404-21', 290.0, 279), ('SI32403ZC07-XT-I30404-25', 290.0, 283), ('SI32409ZC07-XT-I35104-25', 289.0, 124), ('SI32214ZC07-XT-I31102-12', 256.0, 62), ('SI32202ZC07-XT-I33002-01', 255.0, 2)]]\n",
      "[[('SI32309ZC07-XT-I34106-06', 289.0, 192), ('SI32309ZC07-XT-I34106-25', 289.0, 211), ('SI32309ZC07-XT-I34106-26', 289.0, 212), ('SI32214ZC07-XT-I31102-19', 257.0, 69), ('SI32202ZC07-XT-I33002-10', 256.0, 11)]]\n",
      "[[('SI32407ZC07-XT-I32805-36', 289.0, 258), ('SI32403ZC07-XT-I30404-03', 289.0, 261), ('SI32403ZC07-XT-I30404-07', 289.0, 265), ('SI32202ZC07-XT-I33002-27', 257.0, 28), ('SI32214ZC07-XT-I31102-01', 256.0, 51)]]\n",
      "[[('SI32403ZC07-XT-I30404-12', 289.0, 270), ('SI32403ZC07-XT-I30404-13', 289.0, 271), ('SI32403ZC07-XT-I30404-15', 289.0, 273), ('SI32403ZC07-XT-I30404-08', 258.0, 266), ('SI32202ZC07-XT-I33002-08', 255.0, 9)]]\n",
      "[[('SI32403ZC07-XT-I30404-16', 289.0, 274), ('SI32403ZC07-XT-I30404-22', 289.0, 280), ('SI32403ZC07-XT-I30404-32', 289.0, 290), ('SI32214ZC07-XT-I31102-04', 258.0, 54), ('SI32214ZC07-XT-I31102-43', 255.0, 93)]]\n",
      "[[('SI32214ZC07-XT-I31102-41', 288.0, 91), ('SI32309ZC07-XT-I34106-09', 288.0, 195), ('SI32309ZC07-XT-I34106-14', 288.0, 200), ('SI32202ZC07-XT-I33002-14', 258.0, 15), ('SI32202ZC07-XT-I33002-29', 258.0, 30)]]\n",
      "[[('SI32309ZC07-XT-I34106-24', 288.0, 210), ('SI32309ZC07-XT-I34106-29', 288.0, 215), ('SI32407ZC07-XT-I32805-09', 287.0, 231), ('SI32410ZC00-XT-I32605-21', 259.0, 300), ('SI32202ZC07-XT-I33002-38', 258.0, 39)]]\n",
      "[[('SI32407ZC07-XT-I32805-04', 288.0, 226), ('SI32403ZC07-XT-I30404-19', 288.0, 277), ('SI32219ZC07-XT-I32403-26', 286.0, 162), ('SI32202ZC07-XT-I33002-16', 259.0, 17), ('SI32214ZC07-XT-I31102-14', 259.0, 64)]]\n",
      "[[('SI32403ZC07-XT-I30404-20', 288.0, 278), ('SI32403ZC07-XT-I30404-31', 288.0, 289), ('SI32309ZC07-XT-I34106-03', 286.0, 189), ('SI32409ZC07-XT-I35104-03', 259.0, 102), ('SI32219ZC07-XT-I32403-13', 259.0, 148)]]\n",
      "[[('SI32407ZC07-XT-I32805-19', 287.0, 241), ('SI32403ZC07-XT-I30404-26', 287.0, 284), ('SI32403ZC07-XT-I30404-35', 287.0, 293), ('SI32219ZC07-XT-I32403-04', 260.0, 139), ('SI32403ZC07-XT-I30404-02', 259.0, 260)]]\n",
      "[[('SI32309ZC07-XT-I34106-21', 286.0, 207), ('SI32403ZC07-XT-I30404-09', 286.0, 267), ('SI32403ZC07-XT-I30404-29', 286.0, 287), ('SI32202ZC07-XT-I33002-05', 261.0, 6), ('SI32202ZC07-XT-I33002-06', 261.0, 7)]]\n",
      "[[('SI32214ZC07-XT-I31102-48', 285.0, 98), ('SI32309ZC07-XT-I34106-17', 285.0, 203), ('SI32309ZC07-XT-I34106-22', 285.0, 208), ('SI32219ZC07-XT-I32403-48', 263.0, 185), ('SI32202ZC07-XT-I33002-07', 262.0, 8)]]\n",
      "[[('SI32309ZC07-XT-I34106-23', 285.0, 209), ('SI32407ZC07-XT-I32805-03', 285.0, 225), ('SI32403ZC07-XT-I30404-05', 285.0, 263), ('SI32219ZC07-XT-I32403-40', 263.0, 176), ('SI32202ZC07-XT-I33002-22', 262.0, 23)]]\n",
      "[[('SI32403ZC07-XT-I30404-28', 285.0, 286), ('SI32214ZC07-XT-I31102-47', 284.0, 97), ('SI32409ZC07-XT-I35104-13', 284.0, 112), ('SI32219ZC07-XT-I32403-20', 264.0, 155), ('SI32202ZC07-XT-I33002-11', 263.0, 12)]]\n",
      "[[('SI32409ZC07-XT-I35104-19', 284.0, 118), ('SI32309ZC07-XT-I34106-20', 284.0, 206), ('SI32309ZC07-XT-I34106-30', 284.0, 216), ('SI32202ZC07-XT-I33002-02', 264.0, 3), ('SI32202ZC07-XT-I33002-24', 264.0, 25)]]\n",
      "[[('SI32309ZC07-XT-I34106-34', 284.0, 220), ('SI32407ZC07-XT-I32805-25', 284.0, 247), ('SI32403ZC07-XT-I30404-04', 284.0, 262), ('SI32202ZC07-XT-I33002-33', 264.0, 34), ('SI32202ZC07-XT-I33002-37', 264.0, 38)]]\n",
      "[[('SI32403ZC07-XT-I30404-34', 284.0, 292), ('SI32309ZC07-XT-I34106-02', 283.0, 188), ('SI32309ZC07-XT-I34106-15', 283.0, 201), ('SI32202ZC07-XT-I33002-12', 265.0, 13), ('SI32202ZC07-XT-I33002-21', 265.0, 22)]]\n",
      "[[('SI32309ZC07-XT-I34106-33', 283.0, 219), ('SI32407ZC07-XT-I32805-30', 283.0, 252), ('SI32403ZC07-XT-I30404-10', 283.0, 268), ('SI32219ZC07-XT-I32403-33', 266.0, 169), ('SI32202ZC07-XT-I33002-30', 265.0, 31)]]\n",
      "[[('SI32403ZC07-XT-I30404-11', 283.0, 269), ('SI32403ZC07-XT-I30404-14', 283.0, 272), ('SI32403ZC07-XT-I30404-23', 283.0, 281), ('SI32219ZC07-XT-I32403-32', 266.0, 168), ('SI32214ZC07-XT-I31102-28', 265.0, 78)]]\n",
      "[[('SI32214ZC07-XT-I31102-02', 282.0, 52), ('SI32309ZC07-XT-I34106-08', 282.0, 194), ('SI32407ZC07-XT-I32805-10', 282.0, 232), ('SI32202ZC07-XT-I33002-45', 267.0, 46), ('SI32214ZC07-XT-I31102-06', 267.0, 56)]]\n",
      "[[('SI32214ZC07-XT-I31102-20', 281.0, 70), ('SI32214ZC07-XT-I31102-40', 281.0, 90), ('SI32409ZC07-XT-I35104-14', 281.0, 113), ('SI32407ZC07-XT-I32805-18', 269.0, 240), ('SI32202ZC07-XT-I33002-09', 268.0, 10)]]\n"
     ]
    }
   ],
   "source": [
    "solution1 = show_690(input1,left_data,limit)"
   ]
  },
  {
   "cell_type": "code",
   "execution_count": 13,
   "metadata": {},
   "outputs": [],
   "source": [
    "save_answer(solution1,1)"
   ]
  },
  {
   "cell_type": "code",
   "execution_count": 14,
   "metadata": {},
   "outputs": [
    {
     "name": "stdout",
     "output_type": "stream",
     "text": [
      "3 30\n"
     ]
    }
   ],
   "source": [
    "print len(solution1[\"690\"]),len(solution1[\"690*2\"])"
   ]
  },
  {
   "cell_type": "code",
   "execution_count": 15,
   "metadata": {},
   "outputs": [
    {
     "data": {
      "text/plain": [
       "139"
      ]
     },
     "execution_count": 15,
     "metadata": {},
     "output_type": "execute_result"
    }
   ],
   "source": [
    "len(input1)"
   ]
  },
  {
   "cell_type": "markdown",
   "metadata": {},
   "source": [
    "# 2 组"
   ]
  },
  {
   "cell_type": "code",
   "execution_count": 16,
   "metadata": {},
   "outputs": [],
   "source": [
    "input2 = [(input_dict[2][i][0],input_dict[2][i][1],i+1) for i in range(len(input_dict[2]))]"
   ]
  },
  {
   "cell_type": "code",
   "execution_count": 17,
   "metadata": {},
   "outputs": [
    {
     "data": {
      "text/plain": [
       "139"
      ]
     },
     "execution_count": 17,
     "metadata": {},
     "output_type": "execute_result"
    }
   ],
   "source": [
    "left_data = [(input1[i][0],input1[i][1],300+i+1) for i in range(len(input1))]\n",
    "len(left_data)"
   ]
  },
  {
   "cell_type": "code",
   "execution_count": 18,
   "metadata": {},
   "outputs": [
    {
     "data": {
      "text/plain": [
       "43"
      ]
     },
     "execution_count": 18,
     "metadata": {},
     "output_type": "execute_result"
    }
   ],
   "source": [
    "limit = int(len(left_data + input2)*0.1)\n",
    "limit"
   ]
  },
  {
   "cell_type": "code",
   "execution_count": 19,
   "metadata": {},
   "outputs": [
    {
     "name": "stdout",
     "output_type": "stream",
     "text": [
      "Cut one time\n",
      "[[('SI32407ZC07-XT-I32805-21', 280.0, 310), ('SI32407ZC07-XT-I32805-23', 280.0, 311), ('SI32407ZC07-XT-I32805-24', 280.0, 312), ('SI32202ZC07-XT-I33002-13', 270.0, 369), ('SI32202ZC07-XT-I33002-43', 270.0, 370)]]\n",
      "[[('SI32403ZC07-XT-I30404-33', 280.0, 313), ('SI32409ZC07-XT-I35104-04', 279.0, 315), ('SI32409ZC07-XT-I35104-07', 279.0, 316), ('SI32214ZC07-XT-I31102-17', 271.0, 365), ('SI32219ZC07-XT-I32403-08', 271.0, 366)]]\n",
      "[[('SI32409ZC07-XT-I35104-08', 279.0, 317), ('SI32409ZC07-XT-I35104-10', 279.0, 318), ('SI32219ZC07-XT-I32403-02', 279.0, 319), ('SI32219ZC07-XT-I32403-49', 272.0, 364), ('SI32219ZC07-XT-I32403-11', 271.0, 367)]]\n",
      "[[('SI32219ZC07-XT-I32403-10', 279.0, 320), ('SI32407ZC07-XT-I32805-15', 279.0, 321), ('SI32407ZC07-XT-I32805-22', 279.0, 322), ('SI32219ZC07-XT-I32403-42', 272.0, 363), ('SI32403ZC07-XT-I30404-36', 271.0, 368)]]\n",
      "[[('SI32403ZC07-XT-I30404-01', 279.0, 323), ('SI32403ZC07-XT-I30404-27', 279.0, 324), ('SI32409ZC07-XT-I35104-18', 278.0, 325), ('SI32409ZC07-XT-I35104-22', 272.0, 360), ('SI32219ZC07-XT-I32403-23', 272.0, 361)]]\n",
      "[[('SI32409ZC07-XT-I35104-24', 278.0, 326), ('SI32407ZC07-XT-I32805-33', 278.0, 327), ('SI32202ZC07-XT-I33002-03', 277.0, 328), ('SI32407ZC07-XT-I32805-08', 274.0, 351), ('SI32202ZC07-XT-I33002-20', 273.0, 352)]]\n",
      "[[('SI32219ZC07-XT-I32403-36', 277.0, 329), ('SI32407ZC07-XT-I32805-01', 277.0, 330), ('SI32407ZC07-XT-I32805-14', 277.0, 331), ('SI32403ZC07-XT-I30404-18', 275.0, 341), ('SI32214ZC07-XT-I31102-11', 274.0, 342)]]\n",
      "[[('SI32214ZC07-XT-I31102-13', 276.0, 332), ('SI32409ZC07-XT-I35104-01', 276.0, 333), ('SI32407ZC07-XT-I32805-20', 276.0, 334), ('SI32214ZC07-XT-I31102-09', 275.0, 335), ('SI32214ZC07-XT-I31102-27', 275.0, 336)]]\n",
      "[[('SI32409ZC07-XT-I35104-12', 275.0, 337), ('SI32409ZC07-XT-I35104-27', 275.0, 338), ('SI32219ZC07-XT-I32403-09', 275.0, 339), ('SI32406ZC07-XT-I35903-34', 278.0, 288), ('SI32408ZC07-XT-I35005-09', 277.0, 153)]]\n",
      "[[('SI32407ZC07-XT-I32805-27', 275.0, 340), ('SI32214ZC07-XT-I31102-30', 274.0, 343), ('SI32214ZC07-XT-I31102-37', 274.0, 344), ('SI32202ZC07-XT-I33002-26', 260.0, 432), ('SI32404ZC07-XT-I32903-06', 297.0, 113)]]\n",
      "[[('SI32214ZC07-XT-I31102-44', 274.0, 345), ('SI32409ZC07-XT-I35104-06', 274.0, 346), ('SI32409ZC07-XT-I35104-26', 274.0, 347), ('SI32214ZC07-XT-I31102-24', 261.0, 428), ('SI32601XQ01-XT-I35405-06', 297.0, 297)]]\n",
      "[[('SI32219ZC07-XT-I32403-01', 274.0, 348), ('SI32219ZC07-XT-I32403-38', 274.0, 349), ('SI32219ZC07-XT-I32403-46', 274.0, 350), ('SI32202ZC07-XT-I33002-18', 263.0, 415), ('SI32404ZC07-XT-I32903-36', 295.0, 144)]]\n",
      "[[('SI32214ZC07-XT-I31102-16', 273.0, 353), ('SI32214ZC07-XT-I31102-22', 273.0, 354), ('SI32214ZC07-XT-I31102-34', 273.0, 355), ('SI32202ZC07-XT-I33002-35', 266.0, 401), ('SI32601XQ01-XT-I35405-03', 295.0, 294)]]\n",
      "[[('SI32409ZC07-XT-I35104-30', 273.0, 356), ('SI32409ZC07-XT-I35104-33', 273.0, 357), ('SI32403ZC07-XT-I30404-24', 273.0, 358), ('SI32214ZC07-XT-I31102-31', 267.0, 394), ('SI32404ZC07-XT-I32903-12', 294.0, 119)]]\n",
      "[[('SI32403ZC07-XT-I30404-30', 273.0, 359), ('SI32219ZC07-XT-I32403-30', 272.0, 362), ('SI32202ZC07-XT-I33002-46', 270.0, 371), ('SI32214ZC07-XT-I31102-29', 270.0, 372), ('SI32406ZC07-XT-I35903-36', 294.0, 290)]]\n",
      "[[('SI32409ZC07-XT-I35104-34', 270.0, 373), ('SI32219ZC07-XT-I32403-28', 270.0, 374), ('SI32219ZC07-XT-I32403-34', 270.0, 375), ('SI32404ZC07-XT-I32903-08', 285.0, 115), ('SI32408ZC07-XT-I35005-30', 285.0, 174)]]\n",
      "[[('SI32202ZC07-XT-I33002-04', 269.0, 376), ('SI32214ZC07-XT-I31102-10', 269.0, 377), ('SI32214ZC07-XT-I31102-18', 269.0, 378), ('SI32406ZC07-XT-I35903-19', 287.0, 272), ('SI32603XQ01-XT-I33705-13', 285.0, 229)]]\n",
      "[[('SI32214ZC07-XT-I31102-36', 269.0, 379), ('SI32409ZC07-XT-I35104-17', 269.0, 380), ('SI32409ZC07-XT-I35104-32', 269.0, 381), ('SI32406ZC07-XT-I35903-06', 287.0, 258), ('SI32603XQ01-XT-I33705-27', 285.0, 243)]]\n",
      "[[('SI32219ZC07-XT-I32403-19', 269.0, 382), ('SI32219ZC07-XT-I32403-24', 269.0, 383), ('SI32219ZC07-XT-I32403-37', 269.0, 384), ('SI32406ZC07-XT-I35903-01', 287.0, 253), ('SI32406ZC07-XT-I35903-07', 285.0, 259)]]\n",
      "[[('SI32219ZC07-XT-I32403-39', 269.0, 385), ('SI32202ZC07-XT-I33002-25', 268.0, 387), ('SI32202ZC07-XT-I33002-49', 268.0, 388), ('SI32406ZC07-XT-I35903-25', 288.0, 278), ('SI32404ZC07-XT-I32903-10', 287.0, 117)]]\n",
      "[[('SI32214ZC07-XT-I31102-21', 268.0, 389), ('SI32219ZC07-XT-I32403-12', 268.0, 390), ('SI32219ZC07-XT-I32403-18', 268.0, 391), ('SI32404ZC07-XT-I32903-02', 288.0, 109), ('SI32408ZC07-XT-I35005-29', 288.0, 173)]]\n",
      "[[('SI32219ZC07-XT-I32403-31', 268.0, 392), ('SI32407ZC07-XT-I32805-35', 268.0, 393), ('SI32409ZC07-XT-I35104-09', 267.0, 395), ('SI32603XQ01-XT-I33705-19', 289.0, 235), ('SI32406ZC07-XT-I35903-11', 288.0, 263)]]\n",
      "[[('SI32409ZC07-XT-I35104-23', 267.0, 396), ('SI32409ZC07-XT-I35104-29', 267.0, 397), ('SI32409ZC07-XT-I35104-35', 267.0, 398), ('SI32601XQ01-XT-I35405-09', 290.0, 300), ('SI32404ZC07-XT-I32903-14', 289.0, 121)]]\n",
      "[[('SI32409ZC07-XT-I35104-36', 267.0, 399), ('SI32219ZC07-XT-I32403-05', 267.0, 400), ('SI32202ZC07-XT-I33002-41', 266.0, 402), ('SI32404ZC07-XT-I32903-03', 290.0, 110), ('SI32408ZC07-XT-I35005-33', 290.0, 177)]]\n",
      "[[('SI32202ZC07-XT-I33002-47', 266.0, 403), ('SI32202ZC07-XT-I33002-48', 266.0, 404), ('SI32409ZC07-XT-I35104-11', 266.0, 405), ('SI32404ZC07-XT-I32903-11', 291.0, 118), ('SI32404ZC07-XT-I32903-26', 291.0, 134)]]\n",
      "[[('SI32219ZC07-XT-I32403-07', 265.0, 406), ('SI32219ZC07-XT-I32403-21', 265.0, 407), ('SI32219ZC07-XT-I32403-27', 265.0, 408), ('SI32406ZC07-XT-I35903-24', 293.0, 277), ('SI32404ZC07-XT-I32903-22', 292.0, 129)]]\n",
      "[[('SI32219ZC07-XT-I32403-35', 265.0, 409), ('SI32219ZC07-XT-I32403-41', 265.0, 410), ('SI32410ZC00-XT-I32605-01', 265.0, 411), ('SI32404ZC07-XT-I32903-24', 293.0, 131), ('SI32404ZC07-XT-I32903-30', 292.0, 138)]]\n",
      "[[('SI32202ZC07-XT-I33002-39', 264.0, 412), ('SI32214ZC07-XT-I31102-07', 264.0, 413), ('SI32219ZC07-XT-I32403-14', 264.0, 414), ('SI32601XQ01-XT-I35405-02', 294.0, 293), ('SI32404ZC07-XT-I32903-18', 293.0, 125)]]\n",
      "[[('SI32202ZC07-XT-I33002-19', 263.0, 416), ('SI32202ZC07-XT-I33002-23', 263.0, 417), ('SI32601XQ01-XT-I35405-05', 292.0, 296), ('SI32404ZC07-XT-I32903-15', 281.0, 122), ('SI32408ZC07-XT-I35005-01', 281.0, 145)]]\n",
      "[[('SI32202ZC07-XT-I33002-28', 263.0, 418), ('SI32202ZC07-XT-I33002-42', 263.0, 419), ('SI32601XQ01-XT-I35405-08', 292.0, 299), ('SI32603XQ01-XT-I33705-21', 281.0, 237), ('SI32603XQ01-XT-I33705-35', 281.0, 251)]]\n",
      "[[('SI32214ZC07-XT-I31102-35', 263.0, 420), ('SI32214ZC07-XT-I31102-46', 263.0, 421), ('SI32404ZC07-XT-I32903-33', 291.0, 141), ('SI32603XQ01-XT-I33705-32', 282.0, 248), ('SI32406ZC07-XT-I35903-04', 281.0, 256)]]\n",
      "[[('SI32219ZC07-XT-I32403-22', 263.0, 422), ('SI32202ZC07-XT-I33002-36', 262.0, 423), ('SI32408ZC07-XT-I35005-35', 291.0, 179), ('SI32408ZC07-XT-I35005-06', 282.0, 150), ('SI32401ZC07-XT-I33905-01', 282.0, 181)]]\n",
      "[[('SI32202ZC07-XT-I33002-44', 262.0, 424), ('SI32214ZC07-XT-I31102-26', 262.0, 425), ('SI32406ZC07-XT-I35903-14', 291.0, 266), ('SI32406ZC07-XT-I35903-32', 283.0, 286), ('SI32406ZC07-XT-I35903-05', 281.0, 257)]]\n",
      "[[('SI32214ZC07-XT-I31102-33', 262.0, 426), ('SI32219ZC07-XT-I32403-47', 262.0, 427), ('SI32601XQ01-XT-I35405-04', 290.0, 295), ('SI32404ZC07-XT-I32903-21', 283.0, 128), ('SI32603XQ01-XT-I33705-30', 283.0, 246)]]\n",
      "[[('SI32214ZC07-XT-I31102-42', 261.0, 429), ('SI32219ZC07-XT-I32403-29', 261.0, 430), ('SI32404ZC07-XT-I32903-16', 289.0, 123), ('SI32406ZC07-XT-I35903-27', 285.0, 280), ('SI32404ZC07-XT-I32903-04', 284.0, 111)]]\n",
      "[[('SI32410ZC00-XT-I32605-08', 261.0, 431), ('SI32202ZC07-XT-I33002-32', 260.0, 433), ('SI32404ZC07-XT-I32903-27', 289.0, 135), ('SI32406ZC07-XT-I35903-13', 285.0, 265), ('SI32408ZC07-XT-I35005-02', 284.0, 146)]]\n",
      "[[('SI32202ZC07-XT-I33002-34', 260.0, 434), ('SI32214ZC07-XT-I31102-03', 260.0, 435), ('SI32404ZC07-XT-I32903-28', 289.0, 136), ('SI32408ZC07-XT-I35005-24', 287.0, 168), ('SI32408ZC07-XT-I35005-08', 284.0, 152)]]\n",
      "[[('SI32219ZC07-XT-I32403-03', 260.0, 436), ('SI32406ZC07-XT-I35903-12', 288.0, 264), ('SI32404ZC07-XT-I32903-20', 287.0, 127), ('SI32603XQ01-XT-I33705-22', 273.0, 238), ('SI32401ZC07-XT-I33905-11', 272.0, 191)]]\n",
      "[[('SI32409ZC07-XT-I35104-28', 254.0, 437), ('SI32408ZC07-XT-I35005-12', 284.0, 156), ('SI32408ZC07-XT-I35005-27', 284.0, 171), ('SI32216ZC07-XT-I32301-42', 279.0, 50), ('SI32408ZC07-XT-I35005-17', 279.0, 161)]]\n",
      "[[('SI32603XQ01-XT-I33705-25', 284.0, 241), ('SI32406ZC07-XT-I35903-15', 284.0, 267), ('SI32406ZC07-XT-I35903-35', 284.0, 289), ('SI32216ZC07-XT-I32301-46', 264.0, 54), ('SI32404ZC07-XT-I32903-01', 264.0, 108)]]\n",
      "[[('SI32406ZC07-XT-I35903-20', 283.0, 273), ('SI32406ZC07-XT-I35903-26', 281.0, 279), ('SI32216ZC07-XT-I32301-35', 280.0, 42), ('SI32410ZC00-XT-I32605-41', 268.0, 3), ('SI32216ZC07-XT-I32301-03', 268.0, 10)]]\n",
      "[[('SI32404ZC07-XT-I32903-09', 280.0, 116), ('SI32408ZC07-XT-I35005-14', 280.0, 158), ('SI32408ZC07-XT-I35005-18', 280.0, 162), ('SI32216ZC07-XT-I32301-09', 270.0, 16), ('SI32216ZC07-XT-I32301-15', 270.0, 22)]]\n",
      "[[('SI32401ZC07-XT-I33905-18', 280.0, 198), ('SI32603XQ01-XT-I33705-03', 280.0, 219), ('SI32603XQ01-XT-I33705-09', 280.0, 225), ('SI32216ZC07-XT-I32301-33', 270.0, 40), ('SI32404ZC07-XT-I32903-07', 270.0, 114)]]\n"
     ]
    }
   ],
   "source": [
    "solution2 = show_690(input2,left_data,limit)"
   ]
  },
  {
   "cell_type": "code",
   "execution_count": 18,
   "metadata": {
    "code_folding": [
     0
    ]
   },
   "outputs": [],
   "source": [
    "save_answer(solution2,2)"
   ]
  },
  {
   "cell_type": "code",
   "execution_count": 20,
   "metadata": {
    "code_folding": []
   },
   "outputs": [
    {
     "name": "stdout",
     "output_type": "stream",
     "text": [
      "0 179\n"
     ]
    }
   ],
   "source": [
    "print len(left_data),len(input2)"
   ]
  },
  {
   "cell_type": "markdown",
   "metadata": {},
   "source": [
    "# 第三组"
   ]
  },
  {
   "cell_type": "code",
   "execution_count": 21,
   "metadata": {},
   "outputs": [],
   "source": [
    "left_data = [(input2[i][0],input2[i][1],300+i+1) for i in range(len(input2))]"
   ]
  },
  {
   "cell_type": "code",
   "execution_count": 22,
   "metadata": {},
   "outputs": [],
   "source": [
    "input3 = [(input_dict[3][i][0],input_dict[3][i][1],i+1) for i in range(len(input_dict[3]))]"
   ]
  },
  {
   "cell_type": "code",
   "execution_count": null,
   "metadata": {},
   "outputs": [],
   "source": [
    "limit = 47"
   ]
  },
  {
   "cell_type": "code",
   "execution_count": 23,
   "metadata": {},
   "outputs": [
    {
     "name": "stdout",
     "output_type": "stream",
     "text": [
      "Cut one time\n",
      "[[('SI32603XQ01-XT-I33705-02', 276.0, 331), ('SI32603XQ01-XT-I33705-07', 276.0, 332), ('SI32603XQ01-XT-I33705-18', 276.0, 333), ('SI32603XQ01-XT-I33705-36', 276.0, 334), ('SI32406ZC07-XT-I35903-03', 276.0, 335)]]\n",
      "[[('SI32404ZC07-XT-I32903-13', 275.0, 336), ('SI32401ZC07-XT-I33905-07', 275.0, 337), ('SI32401ZC07-XT-I33905-26', 275.0, 338), ('SI32216ZC07-XT-I32301-10', 257.0, 421), ('SI32304ZC07-XT-I35805-02', 298.0, 30)]]\n",
      "[[('SI32603XQ01-XT-I33705-26', 275.0, 339), ('SI32603XQ01-XT-I33705-28', 275.0, 340), ('SI32603XQ01-XT-I33705-31', 275.0, 341), ('SI32216ZC07-XT-I32301-18', 257.0, 422), ('SI32605XQ01-XT-I34305-05', 298.0, 69)]]\n",
      "[[('SI32603XQ01-XT-I33705-34', 275.0, 342), ('SI32406ZC07-XT-I35903-02', 275.0, 343), ('SI32406ZC07-XT-I35903-17', 275.0, 344), ('SI32218ZC07-XT-I31703-16', 257.0, 423), ('SI32605XQ01-XT-I34305-26', 298.0, 90)]]\n",
      "[[('SI32406ZC07-XT-I35903-28', 275.0, 345), ('SI32216ZC07-XT-I32301-37', 274.0, 346), ('SI32404ZC07-XT-I32903-17', 274.0, 347), ('SI32216ZC07-XT-I32301-25', 260.0, 412), ('SI32601XQ01-XT-I35405-13', 297.0, 5)]]\n",
      "[[('SI32404ZC07-XT-I32903-23', 274.0, 348), ('SI32408ZC07-XT-I35005-10', 274.0, 349), ('SI32401ZC07-XT-I33905-04', 274.0, 350), ('SI32216ZC07-XT-I32301-22', 261.0, 405), ('SI32601XQ01-XT-I35405-19', 297.0, 11)]]\n",
      "[[('SI32406ZC07-XT-I35903-16', 274.0, 351), ('SI32410ZC00-XT-I32605-48', 273.0, 352), ('SI32404ZC07-XT-I32903-19', 273.0, 353), ('SI32216ZC07-XT-I32301-47', 263.0, 395), ('SI32304ZC07-XT-I35805-01', 297.0, 29)]]\n",
      "[[('SI32408ZC07-XT-I35005-04', 273.0, 354), ('SI32408ZC07-XT-I35005-07', 273.0, 355), ('SI32408ZC07-XT-I35005-16', 273.0, 356), ('SI32401ZC07-XT-I33905-21', 264.0, 393), ('SI32605XQ01-XT-I34305-04', 297.0, 68)]]\n",
      "[[('SI32408ZC07-XT-I35005-36', 273.0, 357), ('SI32401ZC07-XT-I33905-08', 273.0, 358), ('SI32401ZC07-XT-I33905-16', 273.0, 359), ('SI32603XQ01-XT-I33705-06', 265.0, 392), ('SI32601XQ01-XT-I35405-25', 296.0, 17)]]\n",
      "[[('SI32401ZC07-XT-I33905-15', 272.0, 360), ('SI32401ZC07-XT-I33905-24', 272.0, 361), ('SI32401ZC07-XT-I33905-25', 272.0, 362), ('SI32218ZC07-XT-I31703-41', 268.0, 376), ('SI32304ZC07-XT-I35805-30', 296.0, 58)]]\n",
      "[[('SI32603XQ01-XT-I33705-12', 272.0, 363), ('SI32603XQ01-XT-I33705-33', 272.0, 364), ('SI32406ZC07-XT-I35903-33', 272.0, 365), ('SI32401ZC07-XT-I33905-05', 268.0, 377), ('SI32605XQ01-XT-I34305-10', 296.0, 74)]]\n",
      "[[('SI32408ZC07-XT-I35005-11', 271.0, 367), ('SI32603XQ01-XT-I33705-17', 271.0, 368), ('SI32216ZC07-XT-I32301-04', 269.0, 369), ('SI32405ZC07-XT-I36005-25', 285.0, 198), ('SI32601XQ01-XT-I35405-22', 284.0, 14)]]\n",
      "[[('SI32216ZC07-XT-I32301-14', 269.0, 370), ('SI32216ZC07-XT-I32301-16', 269.0, 371), ('SI32408ZC07-XT-I35005-32', 269.0, 372), ('SI32304ZC07-XT-I35805-33', 287.0, 61), ('SI32601XQ01-XT-I35405-33', 286.0, 25)]]\n",
      "[[('SI32603XQ01-XT-I33705-05', 269.0, 373), ('SI32603XQ01-XT-I33705-16', 269.0, 374), ('SI32401ZC07-XT-I33905-12', 268.0, 378), ('SI32601XQ01-XT-I35405-17', 287.0, 9), ('SI32605XQ01-XT-I34305-02', 286.0, 66)]]\n",
      "[[('SI32401ZC07-XT-I33905-20', 268.0, 379), ('SI32216ZC07-XT-I32301-20', 267.0, 380), ('SI32216ZC07-XT-I32301-44', 267.0, 381), ('SI32605XQ01-XT-I34305-28', 290.0, 92), ('SI32601XQ01-XT-I35405-26', 288.0, 18)]]\n",
      "[[('SI32218ZC07-XT-I31703-43', 267.0, 382), ('SI32408ZC07-XT-I35005-05', 267.0, 383), ('SI32401ZC07-XT-I33905-13', 267.0, 384), ('SI32605XQ01-XT-I34305-06', 290.0, 70), ('SI32304ZC07-XT-I35805-14', 288.0, 42)]]\n",
      "[[('SI32401ZC07-XT-I33905-14', 267.0, 385), ('SI32401ZC07-XT-I33905-17', 267.0, 386), ('SI32603XQ01-XT-I33705-14', 267.0, 387), ('SI32601XQ01-XT-I35405-32', 290.0, 24), ('SI32304ZC07-XT-I35805-20', 288.0, 48)]]\n",
      "[[('SI32401ZC07-XT-I33905-34', 266.0, 390), ('SI32603XQ01-XT-I33705-04', 264.0, 394), ('SI32218ZC07-XT-I31703-42', 263.0, 396), ('SI32601XQ01-XT-I35405-35', 294.0, 27), ('SI32601XQ01-XT-I35405-14', 293.0, 6)]]\n",
      "[[('SI32401ZC07-XT-I33905-19', 263.0, 397), ('SI32401ZC07-XT-I33905-29', 263.0, 398), ('SI32401ZC07-XT-I33905-35', 263.0, 399), ('SI32605XQ01-XT-I34305-36', 296.0, 101), ('SI32304ZC07-XT-I35805-08', 295.0, 36)]]\n",
      "[[('SI32216ZC07-XT-I32301-26', 262.0, 401), ('SI32216ZC07-XT-I32301-29', 262.0, 402), ('SI32304ZC07-XT-I35805-29', 295.0, 57), ('SI32604XQ01-XT-I35304-12', 281.0, 257), ('SI32304ZC07-XT-I35805-07', 280.0, 35)]]\n",
      "[[('SI32216ZC07-XT-I32301-36', 262.0, 403), ('SI32216ZC07-XT-I32301-40', 262.0, 404), ('SI32601XQ01-XT-I35405-18', 294.0, 10), ('SI32605XQ01-XT-I34305-08', 281.0, 72), ('SI32605XQ01-XT-I34305-22', 281.0, 86)]]\n",
      "[[('SI32216ZC07-XT-I32301-27', 261.0, 406), ('SI32216ZC07-XT-I32301-34', 261.0, 407), ('SI32601XQ01-XT-I35405-24', 293.0, 16), ('SI32405ZC07-XT-I36005-04', 283.0, 177), ('SI32601XQ01-XT-I35405-15', 282.0, 7)]]\n",
      "[[('SI32218ZC07-XT-I31703-34', 261.0, 408), ('SI32218ZC07-XT-I31703-46', 261.0, 409), ('SI32304ZC07-XT-I35805-05', 293.0, 33), ('SI32605XQ01-XT-I34305-33', 283.0, 98), ('SI32601XQ01-XT-I35405-21', 282.0, 13)]]\n",
      "[[('SI32603XQ01-XT-I33705-10', 261.0, 410), ('SI32603XQ01-XT-I33705-23', 261.0, 411), ('SI32605XQ01-XT-I34305-12', 293.0, 76), ('SI32304ZC07-XT-I35805-27', 283.0, 55), ('SI32304ZC07-XT-I35805-10', 282.0, 38)]]\n",
      "[[('SI32216ZC07-XT-I32301-32', 260.0, 413), ('SI32218ZC07-XT-I31703-48', 260.0, 414), ('SI32604XQ01-XT-I35304-28', 293.0, 273), ('SI32604XQ01-XT-I35304-08', 284.0, 253), ('SI32601XQ01-XT-I35405-27', 283.0, 19)]]\n",
      "[[('SI32401ZC07-XT-I33905-22', 259.0, 416), ('SI32218ZC07-XT-I31703-09', 258.0, 418), ('SI32601XQ01-XT-I35405-30', 292.0, 22), ('SI32405ZC07-XT-I36005-19', 286.0, 192), ('SI32304ZC07-XT-I35805-03', 285.0, 31)]]\n",
      "[[('SI32218ZC07-XT-I31703-11', 258.0, 419), ('SI32218ZC07-XT-I31703-25', 258.0, 420), ('SI32304ZC07-XT-I35805-11', 292.0, 39), ('SI32605XQ01-XT-I34305-14', 286.0, 78), ('SI32405ZC07-XT-I36005-06', 286.0, 179)]]\n",
      "[[('SI32218ZC07-XT-I31703-33', 257.0, 424), ('SI32218ZC07-XT-I31703-39', 257.0, 425), ('SI32304ZC07-XT-I35805-12', 292.0, 40), ('SI32604XQ01-XT-I35304-11', 288.0, 256), ('SI32304ZC07-XT-I35805-32', 285.0, 60)]]\n",
      "[[('SI32216ZC07-XT-I32301-11', 256.0, 426), ('SI32216ZC07-XT-I32301-31', 256.0, 427), ('SI32601XQ01-XT-I35405-10', 290.0, 1), ('SI32601XQ01-XT-I35405-28', 290.0, 20), ('SI32605XQ01-XT-I34305-20', 288.0, 84)]]\n",
      "[[('SI32216ZC07-XT-I32301-38', 256.0, 428), ('SI32216ZC07-XT-I32301-45', 256.0, 429), ('SI32304ZC07-XT-I35805-17', 292.0, 45), ('SI32601XQ01-XT-I35405-20', 290.0, 12), ('SI32405ZC07-XT-I36005-13', 285.0, 186)]]\n"
     ]
    }
   ],
   "source": [
    "solution3 = show_690(input3,left_data,30)"
   ]
  },
  {
   "cell_type": "code",
   "execution_count": 24,
   "metadata": {},
   "outputs": [
    {
     "name": "stdout",
     "output_type": "stream",
     "text": [
      "Cut one time\n",
      "[[('SI32218ZC07-XT-I31703-36', 256.0, 430), ('SI32603XQ01-XT-I33705-20', 256.0, 431), ('SI32304ZC07-XT-I35805-23', 292.0, 51), ('SI32601XQ01-XT-I35405-11', 290.0, 2), ('SI32405ZC07-XT-I36005-21', 285.0, 194)]]\n",
      "[[('SI32216ZC07-XT-I32301-24', 255.0, 432), ('SI32218ZC07-XT-I31703-18', 251.0, 444), ('SI32605XQ01-XT-I34305-35', 292.0, 100), ('SI32601XQ01-XT-I35405-29', 291.0, 21), ('SI32601XQ01-XT-I35405-34', 291.0, 26)]]\n",
      "[[('SI32218ZC07-XT-I31703-22', 255.0, 433), ('SI32218ZC07-XT-I31703-38', 251.0, 445), ('SI32304ZC07-XT-I35805-35', 291.0, 63), ('SI32605XQ01-XT-I34305-34', 291.0, 99), ('SI32604XQ01-XT-I35304-34', 291.0, 279)]]\n",
      "[[('SI32218ZC07-XT-I31703-23', 255.0, 434), ('SI32601XQ01-XT-I35405-31', 284.0, 23), ('SI32304ZC07-XT-I35805-04', 284.0, 32), ('SI32608XQ01-XT-I34205-06', 279.0, 215), ('SI32605XQ01-XT-I34305-07', 278.0, 71)]]\n",
      "[[('SI32218ZC07-XT-I31703-32', 255.0, 435), ('SI32304ZC07-XT-I35805-13', 284.0, 41), ('SI32304ZC07-XT-I35805-31', 284.0, 59), ('SI32405ZC07-XT-I36005-36', 279.0, 209), ('SI32605XQ01-XT-I34305-13', 278.0, 77)]]\n",
      "[[('SI32401ZC07-XT-I33905-33', 255.0, 436), ('SI32405ZC07-XT-I36005-27', 284.0, 200), ('SI32304ZC07-XT-I35805-09', 283.0, 37), ('SI32605XQ01-XT-I34305-15', 279.0, 79), ('SI32605XQ01-XT-I34305-29', 279.0, 93)]]\n",
      "[[('SI32216ZC07-XT-I32301-17', 254.0, 437), ('SI32304ZC07-XT-I35805-18', 283.0, 46), ('SI32304ZC07-XT-I35805-25', 283.0, 53), ('SI32304ZC07-XT-I35805-26', 280.0, 54), ('SI32304ZC07-XT-I35805-34', 280.0, 62)]]\n",
      "[[('SI32218ZC07-XT-I31703-29', 254.0, 438), ('SI32304ZC07-XT-I35805-15', 282.0, 43), ('SI32304ZC07-XT-I35805-19', 282.0, 47), ('SI32605XQ01-XT-I34305-27', 281.0, 91), ('SI32405ZC07-XT-I36005-26', 281.0, 199)]]\n",
      "[[('SI32218ZC07-XT-I31703-30', 254.0, 439), ('SI32304ZC07-XT-I35805-21', 282.0, 49), ('SI32605XQ01-XT-I34305-16', 282.0, 80), ('SI32608XQ01-XT-I34205-34', 281.0, 243), ('SI32604XQ01-XT-I35304-02', 281.0, 247)]]\n",
      "[[('SI32218ZC07-XT-I31703-10', 253.0, 441), ('SI32606XQ01-XT-I35503-07', 282.0, 108), ('SI32405ZC07-XT-I36005-05', 282.0, 178), ('SI32608XQ01-XT-I34205-28', 282.0, 237), ('SI32605XQ01-XT-I34305-21', 280.0, 85)]]\n"
     ]
    }
   ],
   "source": [
    "input3_part1 = input3[:60]\n",
    "left_data_part1 = left_data[:20]\n",
    "solution_rest = show_690(input3_part1,left_data_part1,10)"
   ]
  },
  {
   "cell_type": "code",
   "execution_count": 25,
   "metadata": {},
   "outputs": [
    {
     "data": {
      "text/plain": [
       "10"
      ]
     },
     "execution_count": 25,
     "metadata": {},
     "output_type": "execute_result"
    }
   ],
   "source": [
    "len(solution_rest[\"690*2\"])"
   ]
  },
  {
   "cell_type": "code",
   "execution_count": 26,
   "metadata": {},
   "outputs": [
    {
     "name": "stdout",
     "output_type": "stream",
     "text": [
      "162 45\n"
     ]
    }
   ],
   "source": [
    "print len(input3),len(left_data)"
   ]
  },
  {
   "cell_type": "code",
   "execution_count": 27,
   "metadata": {},
   "outputs": [],
   "source": [
    "for i in solution_rest[\"690*2\"]:\n",
    "    for j in i:\n",
    "        if j in input3:\n",
    "            input3.remove(j)\n",
    "        if j in left_data:\n",
    "            left_data.remove(j)"
   ]
  },
  {
   "cell_type": "code",
   "execution_count": 28,
   "metadata": {},
   "outputs": [
    {
     "name": "stdout",
     "output_type": "stream",
     "text": [
      "125 32\n"
     ]
    }
   ],
   "source": [
    "print len(input3),len(left_data)"
   ]
  },
  {
   "cell_type": "code",
   "execution_count": 29,
   "metadata": {},
   "outputs": [],
   "source": [
    "sol2 = Solution1()"
   ]
  },
  {
   "cell_type": "code",
   "execution_count": 30,
   "metadata": {
    "code_folding": []
   },
   "outputs": [
    {
     "name": "stdout",
     "output_type": "stream",
     "text": [
      "[[('SI32218ZC07-XT-I31703-13', 253.0, 442), ('SI32401ZC07-XT-I33905-09', 251.0, 446), ('SI32216ZC07-XT-I32301-49', 250.0, 447), ('SI32218ZC07-XT-I31703-05', 250.0, 448), ('SI32408ZC07-XT-I35005-25', 250.0, 449), ('SI32405ZC07-XT-I36005-10', 282.0, 183), ('SI32607XQ01-XT-I34503-28', 267.0, 165), ('SI32607XQ01-XT-I34503-34', 267.0, 171)]]\n",
      "[[('SI32218ZC07-XT-I31703-07', 249.0, 450), ('SI32218ZC07-XT-I31703-20', 249.0, 451), ('SI32410ZC00-XT-I32605-42', 248.0, 452), ('SI32218ZC07-XT-I31703-45', 248.0, 453), ('SI32408ZC07-XT-I35005-19', 248.0, 454), ('SI32405ZC07-XT-I36005-11', 280.0, 184), ('SI32405ZC07-XT-I36005-23', 274.0, 196), ('SI32405ZC07-XT-I36005-24', 274.0, 197)]]\n",
      "[[('SI32603XQ01-XT-I33705-29', 247.0, 455), ('SI32218ZC07-XT-I31703-31', 246.0, 456), ('SI32218ZC07-XT-I31703-03', 245.0, 457), ('SI32218ZC07-XT-I31703-12', 245.0, 458), ('SI32607XQ01-XT-I34503-36', 279.0, 173), ('SI32607XQ01-XT-I34503-31', 278.0, 168), ('SI32608XQ01-XT-I34205-25', 265.0, 234), ('SI32604XQ01-XT-I35304-27', 264.0, 272)]]\n"
     ]
    }
   ],
   "source": [
    "x = input3[:]\n",
    "y = left_data[:]\n",
    "solution_dict = {\"690*3\":[]}\n",
    "limit = 3\n",
    "lst = []\n",
    "target = 690*3\n",
    "time = 0\n",
    "while len(x) > 0 and len(y) >0:\n",
    "        answer = sol2.combinationSum(x,y,target,0)\n",
    "        \n",
    "        if len(answer) == 0:\n",
    "            break\n",
    "        else:\n",
    "            time += 1\n",
    "                    \n",
    "        print answer\n",
    "        for i in answer:\n",
    "            solution_dict[\"690*3\"].append(i)\n",
    "            for j in i:\n",
    "                if j in x:\n",
    "                    x.remove(j)\n",
    "                if j in y:\n",
    "                    y.remove(j)\n",
    "        \n",
    "        if time == int(limit):\n",
    "            break"
   ]
  },
  {
   "cell_type": "code",
   "execution_count": 31,
   "metadata": {},
   "outputs": [
    {
     "name": "stdout",
     "output_type": "stream",
     "text": [
      "8\n",
      "8\n",
      "8\n"
     ]
    }
   ],
   "source": [
    "for i in solution_dict[\"690*3\"]:\n",
    "    print len(i)"
   ]
  },
  {
   "cell_type": "code",
   "execution_count": 32,
   "metadata": {},
   "outputs": [],
   "source": [
    "for i in solution_dict[\"690*3\"]:\n",
    "    for j in i:\n",
    "        if j in input3:\n",
    "            input3.remove(j)\n",
    "        if j in left_data:\n",
    "            left_data.remove(j)"
   ]
  },
  {
   "cell_type": "code",
   "execution_count": 33,
   "metadata": {},
   "outputs": [
    {
     "name": "stdout",
     "output_type": "stream",
     "text": [
      "115 18\n"
     ]
    }
   ],
   "source": [
    "print len(input3),len(left_data)"
   ]
  },
  {
   "cell_type": "code",
   "execution_count": 34,
   "metadata": {},
   "outputs": [
    {
     "data": {
      "text/plain": [
       "30"
      ]
     },
     "execution_count": 34,
     "metadata": {},
     "output_type": "execute_result"
    }
   ],
   "source": [
    "len(solution3[\"690*2\"])"
   ]
  },
  {
   "cell_type": "code",
   "execution_count": 35,
   "metadata": {},
   "outputs": [],
   "source": [
    "for i in solution_rest[\"690*2\"]:\n",
    "    solution3[\"690*2\"].append(i)"
   ]
  },
  {
   "cell_type": "code",
   "execution_count": 35,
   "metadata": {},
   "outputs": [],
   "source": [
    "save_answer(solution3,3)"
   ]
  },
  {
   "cell_type": "code",
   "execution_count": null,
   "metadata": {},
   "outputs": [],
   "source": [
    "solution_dict[\"690*3\"][0].sort(key = lambda key:key[2])\n",
    "#dic = {\"ID\":[],\"Len\":[],\"No.\":[]}\n",
    "for i in range(len(solution_dict[\"690*3\"])):\n",
    "    dic = {\"ID\":[],\"Len\":[],\"No.\":[]}\n",
    "    x = adjust_list(solution_dict[\"690*3\"][i])\n",
    "    for j in x:\n",
    "        dic[\"ID\"].append(j[0]) \n",
    "        dic[\"Len\"].append(j[1])\n",
    "        dic[\"No.\"].append(j[2])\n",
    "    print pd.DataFrame(dic)"
   ]
  },
  {
   "cell_type": "code",
   "execution_count": 36,
   "metadata": {},
   "outputs": [
    {
     "name": "stdout",
     "output_type": "stream",
     "text": [
      "3\n",
      "3\n",
      "4\n"
     ]
    }
   ],
   "source": [
    "save_answer_2(solution_dict,3)"
   ]
  },
  {
   "cell_type": "code",
   "execution_count": 51,
   "metadata": {},
   "outputs": [
    {
     "name": "stdout",
     "output_type": "stream",
     "text": [
      "Cut one time\n",
      "[[('SI32606XQ01-XT-I35503-01', 262.0, 366), ('SI32609XQ01-XT-I34603-35', 284.0, 251), ('SI32616XQ01-XT-I32104-14', 283.0, 181), ('SI32609XQ01-XT-I34603-23', 276.0, 239), ('SI32613XQ01-XT-I31203-11', 275.0, 129)]]\n",
      "[[('SI32405ZC07-XT-I36005-30', 262.0, 367), ('SI32616XQ01-XT-I32104-23', 283.0, 190), ('SI32609XQ01-XT-I34603-13', 282.0, 229), ('SI32612XQ01-XT-I31103-47', 277.0, 299), ('SI32616XQ01-XT-I32104-35', 276.0, 202)]]\n",
      "[[('SI32608XQ01-XT-I34205-18', 262.0, 368), ('SI32616XQ01-XT-I32104-07', 281.0, 174), ('SI32616XQ01-XT-I32104-34', 281.0, 201), ('SI32613XQ01-XT-I31203-17', 278.0, 135), ('SI32616XQ01-XT-I32104-08', 278.0, 175)]]\n",
      "[[('SI32604XQ01-XT-I35304-01', 262.0, 369), ('SI32609XQ01-XT-I34603-25', 281.0, 241), ('SI32609XQ01-XT-I34603-31', 281.0, 247), ('SI32616XQ01-XT-I32104-28', 278.0, 195), ('SI32609XQ01-XT-I34603-10', 278.0, 226)]]\n",
      "[[('SI32604XQ01-XT-I35304-29', 262.0, 370), ('SI32616XQ01-XT-I32104-13', 280.0, 180), ('SI32616XQ01-XT-I32104-20', 280.0, 187), ('SI32613XQ01-XT-I31203-09', 279.0, 127), ('SI32613XQ01-XT-I31203-25', 279.0, 143)]]\n",
      "[[('SI32604XQ01-XT-I35304-22', 261.0, 374), ('SI32609XQ01-XT-I34603-22', 280.0, 238), ('SI32609XQ01-XT-I34603-27', 280.0, 243), ('SI32616XQ01-XT-I32104-21', 279.0, 188), ('SI32609XQ01-XT-I34603-06', 279.0, 222)]]\n"
     ]
    }
   ],
   "source": [
    "x = input4[:45]\n",
    "y = left_data_1[:10]\n",
    "solution4_rest = show_690(x,y,6)"
   ]
  },
  {
   "cell_type": "code",
   "execution_count": 58,
   "metadata": {},
   "outputs": [],
   "source": [
    "for i in solution4_rest[\"690*2\"]:\n",
    "    for j in i:\n",
    "        if j in input4:\n",
    "            input4.remove(j)\n",
    "        if j in left_data_1:\n",
    "            left_data_1.remove(j)"
   ]
  },
  {
   "cell_type": "code",
   "execution_count": 37,
   "metadata": {},
   "outputs": [],
   "source": [
    "left = left_data + input3"
   ]
  },
  {
   "cell_type": "code",
   "execution_count": 38,
   "metadata": {},
   "outputs": [
    {
     "name": "stdout",
     "output_type": "stream",
     "text": [
      "18 115\n"
     ]
    }
   ],
   "source": [
    "print len(left_data),len(input3)"
   ]
  },
  {
   "cell_type": "markdown",
   "metadata": {},
   "source": [
    "# 第四组"
   ]
  },
  {
   "cell_type": "code",
   "execution_count": 39,
   "metadata": {},
   "outputs": [
    {
     "data": {
      "text/plain": [
       "133"
      ]
     },
     "execution_count": 39,
     "metadata": {},
     "output_type": "execute_result"
    }
   ],
   "source": [
    "left_data_1 = [(left[i][0],left[i][1],300+i+1) for i in range(len(left))]\n",
    "len(left_data_1)"
   ]
  },
  {
   "cell_type": "code",
   "execution_count": 40,
   "metadata": {},
   "outputs": [],
   "source": [
    "input4 = [(input_dict[4][i][0],input_dict[4][i][1],i+1) for i in range(len(input_dict[4]))]"
   ]
  },
  {
   "cell_type": "code",
   "execution_count": 41,
   "metadata": {},
   "outputs": [
    {
     "name": "stdout",
     "output_type": "stream",
     "text": [
      "Cut one time\n",
      "[[('SI32304ZC07-XT-I35805-22', 276.0, 328), ('SI32304ZC07-XT-I35805-28', 276.0, 329), ('SI32605XQ01-XT-I34305-11', 276.0, 330), ('SI32605XQ01-XT-I34305-17', 276.0, 331), ('SI32605XQ01-XT-I34305-23', 276.0, 332)]]\n",
      "[[('SI32405ZC07-XT-I36005-01', 276.0, 333), ('SI32405ZC07-XT-I36005-22', 276.0, 334), ('SI32604XQ01-XT-I35304-17', 276.0, 335), ('SI32604XQ01-XT-I35304-36', 276.0, 336), ('SI32601XQ01-XT-I35405-36', 275.0, 337)]]\n",
      "[[('SI32405ZC07-XT-I36005-15', 273.0, 340), ('SI32405ZC07-XT-I36005-32', 273.0, 341), ('SI32607XQ01-XT-I34503-06', 272.0, 343), ('SI32607XQ01-XT-I34503-23', 272.0, 344), ('SI32609XQ01-XT-I34603-32', 290.0, 248)]]\n",
      "[[('SI32405ZC07-XT-I36005-34', 272.0, 345), ('SI32608XQ01-XT-I34205-17', 272.0, 346), ('SI32405ZC07-XT-I36005-29', 271.0, 348), ('SI32609XQ01-XT-I34603-29', 283.0, 245), ('SI32613XQ01-XT-I31203-10', 282.0, 128)]]\n",
      "[[('SI32605XQ01-XT-I34305-09', 270.0, 349), ('SI32607XQ01-XT-I34503-29', 270.0, 350), ('SI32405ZC07-XT-I36005-12', 270.0, 351), ('SI32612XQ01-XT-I31103-09', 286.0, 261), ('SI32616XQ01-XT-I32104-02', 284.0, 169)]]\n",
      "[[('SI32405ZC07-XT-I36005-28', 270.0, 352), ('SI32607XQ01-XT-I34503-35', 269.0, 353), ('SI32607XQ01-XT-I34503-02', 268.0, 355), ('SI32609XQ01-XT-I34603-07', 287.0, 223), ('SI32609XQ01-XT-I34603-26', 286.0, 242)]]\n",
      "[[('SI32405ZC07-XT-I36005-14', 268.0, 356), ('SI32405ZC07-XT-I36005-35', 268.0, 357), ('SI32608XQ01-XT-I34205-09', 268.0, 358), ('SI32609XQ01-XT-I34603-34', 288.0, 250), ('SI32609XQ01-XT-I34603-36', 286.0, 252)]]\n",
      "[[('SI32604XQ01-XT-I35304-33', 268.0, 359), ('SI32608XQ01-XT-I34205-19', 263.0, 365), ('SI32609XQ01-XT-I34603-28', 284.0, 244), ('SI32609XQ01-XT-I34603-19', 283.0, 235), ('SI32609XQ01-XT-I34603-12', 282.0, 228)]]\n"
     ]
    }
   ],
   "source": [
    "solution4 = show_690(input4,left_data_1,8)"
   ]
  },
  {
   "cell_type": "code",
   "execution_count": 42,
   "metadata": {},
   "outputs": [
    {
     "name": "stdout",
     "output_type": "stream",
     "text": [
      "196 53\n"
     ]
    }
   ],
   "source": [
    "print len(input4),len(left_data_1)"
   ]
  },
  {
   "cell_type": "code",
   "execution_count": 43,
   "metadata": {},
   "outputs": [
    {
     "name": "stdout",
     "output_type": "stream",
     "text": [
      "Cut one time\n",
      "[[('SI32606XQ01-XT-I35503-01', 262.0, 366), ('SI32609XQ01-XT-I34603-35', 284.0, 251), ('SI32616XQ01-XT-I32104-14', 283.0, 181), ('SI32609XQ01-XT-I34603-23', 276.0, 239), ('SI32613XQ01-XT-I31203-11', 275.0, 129)]]\n",
      "[[('SI32405ZC07-XT-I36005-30', 262.0, 367), ('SI32616XQ01-XT-I32104-23', 283.0, 190), ('SI32609XQ01-XT-I34603-13', 282.0, 229), ('SI32612XQ01-XT-I31103-47', 277.0, 299), ('SI32616XQ01-XT-I32104-35', 276.0, 202)]]\n",
      "[[('SI32608XQ01-XT-I34205-18', 262.0, 368), ('SI32616XQ01-XT-I32104-07', 281.0, 174), ('SI32616XQ01-XT-I32104-34', 281.0, 201), ('SI32613XQ01-XT-I31203-17', 278.0, 135), ('SI32616XQ01-XT-I32104-08', 278.0, 175)]]\n",
      "[[('SI32604XQ01-XT-I35304-01', 262.0, 369), ('SI32609XQ01-XT-I34603-25', 281.0, 241), ('SI32609XQ01-XT-I34603-31', 281.0, 247), ('SI32616XQ01-XT-I32104-28', 278.0, 195), ('SI32609XQ01-XT-I34603-10', 278.0, 226)]]\n",
      "[[('SI32604XQ01-XT-I35304-29', 262.0, 370), ('SI32616XQ01-XT-I32104-13', 280.0, 180), ('SI32616XQ01-XT-I32104-20', 280.0, 187), ('SI32613XQ01-XT-I31203-09', 279.0, 127), ('SI32613XQ01-XT-I31203-25', 279.0, 143)]]\n",
      "[[('SI32604XQ01-XT-I35304-22', 261.0, 374), ('SI32609XQ01-XT-I34603-22', 280.0, 238), ('SI32609XQ01-XT-I34603-27', 280.0, 243), ('SI32616XQ01-XT-I32104-21', 279.0, 188), ('SI32609XQ01-XT-I34603-06', 279.0, 222)]]\n"
     ]
    }
   ],
   "source": [
    "x = input4[:45]\n",
    "y = left_data_1[:10]\n",
    "solution4_rest = show_690(x,y,6)"
   ]
  },
  {
   "cell_type": "code",
   "execution_count": 44,
   "metadata": {},
   "outputs": [],
   "source": [
    "for i in solution4_rest[\"690*2\"]:\n",
    "    for j in i:\n",
    "        if j in input4:\n",
    "            input4.remove(j)\n",
    "        if j in left_data_1:\n",
    "            left_data_1.remove(j)"
   ]
  },
  {
   "cell_type": "code",
   "execution_count": 45,
   "metadata": {},
   "outputs": [
    {
     "name": "stdout",
     "output_type": "stream",
     "text": [
      "172 47\n"
     ]
    }
   ],
   "source": [
    "print len(input4),len(left_data_1)"
   ]
  },
  {
   "cell_type": "code",
   "execution_count": 46,
   "metadata": {},
   "outputs": [],
   "source": [
    "for i in solution4_rest[\"690*2\"]:\n",
    "    solution4[\"690*2\"].append(i)"
   ]
  },
  {
   "cell_type": "code",
   "execution_count": 47,
   "metadata": {},
   "outputs": [
    {
     "data": {
      "text/plain": [
       "14"
      ]
     },
     "execution_count": 47,
     "metadata": {},
     "output_type": "execute_result"
    }
   ],
   "source": [
    "len(solution4[\"690*2\"])"
   ]
  },
  {
   "cell_type": "code",
   "execution_count": 48,
   "metadata": {},
   "outputs": [
    {
     "name": "stdout",
     "output_type": "stream",
     "text": [
      "[[('SI32605XQ01-XT-I34305-18', 260.0, 375), ('SI32605XQ01-XT-I34305-24', 260.0, 376), ('SI32405ZC07-XT-I36005-20', 260.0, 377), ('SI32604XQ01-XT-I35304-10', 260.0, 378), ('SI32604XQ01-XT-I35304-25', 260.0, 379), ('SI32604XQ01-XT-I35304-30', 260.0, 380), ('SI32607XQ01-XT-I34503-27', 255.0, 390), ('SI32405ZC07-XT-I36005-07', 255.0, 391)]]\n",
      "[[('SI32604XQ01-XT-I35304-03', 259.0, 382), ('SI32604XQ01-XT-I35304-09', 259.0, 383), ('SI32604XQ01-XT-I35304-20', 259.0, 384), ('SI32604XQ01-XT-I35304-32', 259.0, 385), ('SI32604XQ01-XT-I35304-19', 256.0, 388), ('SI32604XQ01-XT-I35304-26', 256.0, 389), ('SI32607XQ01-XT-I34503-01', 242.0, 422), ('SI32612XQ01-XT-I31103-15', 279.0, 267)]]\n",
      "[[('SI32604XQ01-XT-I35304-31', 255.0, 392), ('SI32606XQ01-XT-I35503-19', 254.0, 393), ('SI32606XQ01-XT-I35503-34', 253.0, 394), ('SI32606XQ01-XT-I35503-36', 253.0, 395), ('SI32604XQ01-XT-I35304-16', 253.0, 396), ('SI32607XQ01-XT-I34503-14', 252.0, 397), ('SI32616XQ01-XT-I32104-04', 275.0, 171), ('SI32609XQ01-XT-I34603-03', 275.0, 219)]]\n",
      "[[('SI32405ZC07-XT-I36005-03', 252.0, 398), ('SI32606XQ01-XT-I35503-28', 251.0, 399), ('SI32607XQ01-XT-I34503-20', 250.0, 400), ('SI32607XQ01-XT-I34503-22', 250.0, 401), ('SI32608XQ01-XT-I34205-02', 250.0, 402), ('SI32612XQ01-XT-I31103-16', 279.0, 268), ('SI32610XQ01-XT-I33204-26', 269.0, 57), ('SI32615XQ01-XT-I32404-42', 269.0, 111)]]\n",
      "[[('SI32604XQ01-XT-I35304-21', 250.0, 403), ('SI32606XQ01-XT-I35503-06', 249.0, 404), ('SI32607XQ01-XT-I34503-16', 249.0, 405), ('SI32608XQ01-XT-I34205-08', 249.0, 406), ('SI32607XQ01-XT-I34503-13', 248.0, 407), ('SI32612XQ01-XT-I31103-40', 279.0, 292), ('SI32613XQ01-XT-I31203-16', 273.0, 134), ('SI32613XQ01-XT-I31203-18', 273.0, 136)]]\n",
      "[[('SI32607XQ01-XT-I34503-21', 248.0, 408), ('SI32405ZC07-XT-I36005-08', 248.0, 409), ('SI32608XQ01-XT-I34205-30', 248.0, 410), ('SI32606XQ01-XT-I35503-13', 247.0, 411), ('SI32606XQ01-XT-I35503-25', 247.0, 412), ('SI32609XQ01-XT-I34603-16', 278.0, 232), ('SI32609XQ01-XT-I34603-04', 277.0, 220), ('SI32612XQ01-XT-I31103-03', 277.0, 255)]]\n",
      "[[('SI32607XQ01-XT-I34503-15', 247.0, 413), ('SI32608XQ01-XT-I34205-31', 247.0, 414), ('SI32405ZC07-XT-I36005-02', 246.0, 415), ('SI32608XQ01-XT-I34205-32', 246.0, 416), ('SI32612XQ01-XT-I31103-04', 278.0, 256), ('SI32616XQ01-XT-I32104-37', 276.0, 204), ('SI32616XQ01-XT-I32104-46', 265.0, 213), ('SI32609XQ01-XT-I34603-02', 265.0, 218)]]\n",
      "[[('SI32607XQ01-XT-I34503-12', 245.0, 417), ('SI32604XQ01-XT-I35304-24', 245.0, 418), ('SI32606XQ01-XT-I35503-32', 244.0, 419), ('SI32607XQ01-XT-I34503-19', 244.0, 420), ('SI32616XQ01-XT-I32104-42', 276.0, 209), ('SI32609XQ01-XT-I34603-11', 275.0, 227), ('SI32612XQ01-XT-I31103-46', 271.0, 298), ('SI32613XQ01-XT-I31203-29', 270.0, 147)]]\n",
      "[[('SI32608XQ01-XT-I34205-26', 244.0, 421), ('SI32607XQ01-XT-I34503-07', 240.0, 423), ('SI32604XQ01-XT-I35304-18', 240.0, 424), ('SI32609XQ01-XT-I34603-17', 275.0, 233), ('SI32612XQ01-XT-I31103-36', 275.0, 288), ('SI32613XQ01-XT-I31203-01', 274.0, 119), ('SI32612XQ01-XT-I31103-26', 262.0, 278), ('SI32613XQ01-XT-I31203-35', 260.0, 153)]]\n"
     ]
    }
   ],
   "source": [
    "x = input4[:]\n",
    "y = left_data_1[:]\n",
    "solution4_dict = {\"690*3\":[]}\n",
    "limit = 9\n",
    "lst = []\n",
    "target = 690*3\n",
    "time = 0\n",
    "while len(x) > 0 and len(y) >0:\n",
    "        answer = sol2.combinationSum(x,y,target,0)\n",
    "        \n",
    "        if len(answer) == 0:\n",
    "            break\n",
    "        else:\n",
    "            time += 1\n",
    "                    \n",
    "        print answer\n",
    "        for i in answer:\n",
    "            solution4_dict[\"690*3\"].append(i)\n",
    "            for j in i:\n",
    "                if j in x:\n",
    "                    x.remove(j)\n",
    "                if j in y:\n",
    "                    y.remove(j)\n",
    "        \n",
    "        if time == int(limit):\n",
    "            break"
   ]
  },
  {
   "cell_type": "code",
   "execution_count": 49,
   "metadata": {},
   "outputs": [],
   "source": [
    "for i in solution4_dict[\"690*3\"]:\n",
    "    for j in i:\n",
    "        if j in input4:\n",
    "            input4.remove(j)\n",
    "        if j in left_data_1:\n",
    "            left_data_1.remove(j)"
   ]
  },
  {
   "cell_type": "code",
   "execution_count": 50,
   "metadata": {},
   "outputs": [
    {
     "name": "stdout",
     "output_type": "stream",
     "text": [
      "147 0\n"
     ]
    }
   ],
   "source": [
    "print len(input4),len(left_data_1)"
   ]
  },
  {
   "cell_type": "code",
   "execution_count": 51,
   "metadata": {},
   "outputs": [
    {
     "data": {
      "text/plain": [
       "9"
      ]
     },
     "execution_count": 51,
     "metadata": {},
     "output_type": "execute_result"
    }
   ],
   "source": [
    "len(solution4_dict[\"690*3\"])"
   ]
  },
  {
   "cell_type": "code",
   "execution_count": 94,
   "metadata": {},
   "outputs": [],
   "source": [
    "save_answer(solution4,4)"
   ]
  },
  {
   "cell_type": "code",
   "execution_count": 95,
   "metadata": {},
   "outputs": [
    {
     "name": "stdout",
     "output_type": "stream",
     "text": [
      "0\n",
      "1\n",
      "2\n",
      "3\n",
      "3\n",
      "3\n",
      "4\n",
      "4\n",
      "5\n"
     ]
    }
   ],
   "source": [
    "save_answer_2(solution4_dict,4)"
   ]
  },
  {
   "cell_type": "markdown",
   "metadata": {},
   "source": [
    "# 第五组"
   ]
  },
  {
   "cell_type": "code",
   "execution_count": 52,
   "metadata": {},
   "outputs": [],
   "source": [
    "input5 = [(input_dict[5][i][0],input_dict[5][i][1],i+1) for i in range(len(input_dict[5]))]\n",
    "left_data_2 = [(input4[i][0],input4[i][1],300+i+1) for i in range(len(input4))]"
   ]
  },
  {
   "cell_type": "code",
   "execution_count": 53,
   "metadata": {},
   "outputs": [
    {
     "name": "stdout",
     "output_type": "stream",
     "text": [
      "Cut one time\n",
      "[[('SI32609XQ01-XT-I34603-01', 268.0, 334), ('SI32609XQ01-XT-I34603-21', 268.0, 335), ('SI33006Y025-XT-I35305-29', 282.0, 222), ('SI32602XQ01-XT-I32705-33', 281.0, 8), ('SI32701TC01-XT-I33003-41', 281.0, 47)]]\n",
      "[[('SI32612XQ01-XT-I31103-21', 268.0, 336), ('SI32613XQ01-XT-I31203-07', 267.0, 337), ('SI33006Y025-XT-I35305-34', 282.0, 227), ('SI33006Y025-XT-I35305-35', 282.0, 228), ('SI32614XQ01-XT-I31002-33', 281.0, 90)]]\n"
     ]
    }
   ],
   "source": [
    "solution5 = show_690(input5,left_data_2,2)"
   ]
  },
  {
   "cell_type": "code",
   "execution_count": 54,
   "metadata": {},
   "outputs": [
    {
     "name": "stdout",
     "output_type": "stream",
     "text": [
      "Cut one time\n",
      "[[('SI32613XQ01-XT-I31203-22', 267.0, 338), ('SI33006Y025-XT-I35305-21', 281.0, 214), ('SI33006Y025-XT-I35305-31', 281.0, 224), ('SI33006Y025-XT-I35305-20', 276.0, 213), ('SI32614XQ01-XT-I31002-26', 275.0, 83)]]\n",
      "[[('SI32613XQ01-XT-I31203-28', 267.0, 339), ('SI33006Y025-XT-I35305-32', 281.0, 225), ('SI33006Y025-XT-I35305-36', 281.0, 229), ('SI33006Y025-XT-I35305-08', 276.0, 201), ('SI32614XQ01-XT-I31002-41', 275.0, 98)]]\n",
      "[[('SI32613XQ01-XT-I31203-39', 267.0, 340), ('SI32614XQ01-XT-I31002-09', 280.0, 66), ('SI32614XQ01-XT-I31002-16', 280.0, 73), ('SI33006Y025-XT-I35305-33', 277.0, 226), ('SI32614XQ01-XT-I31002-12', 276.0, 69)]]\n",
      "[[('SI32616XQ01-XT-I32104-31', 267.0, 341), ('SI33006Y025-XT-I35305-19', 280.0, 212), ('SI33006Y025-XT-I35305-15', 279.0, 208), ('SI32611XQ01-XT-I34704-12', 277.0, 118), ('SI33006Y025-XT-I35305-11', 277.0, 204)]]\n",
      "[[('SI32616XQ01-XT-I32104-48', 267.0, 342), ('SI33006Y025-XT-I35305-17', 279.0, 210), ('SI33006Y025-XT-I35305-24', 279.0, 217), ('SI33006Y025-XT-I35305-28', 278.0, 221), ('SI33006Y025-XT-I35305-13', 277.0, 206)]]\n",
      "[[('SI32612XQ01-XT-I31103-01', 267.0, 343), ('SI33007Y026-XT-I32904-20', 279.0, 288), ('SI32602XQ01-XT-I32705-06', 278.0, 2), ('SI32701TC01-XT-I33003-26', 278.0, 30), ('SI32614XQ01-XT-I31002-28', 278.0, 85)]]\n",
      "[[('SI32612XQ01-XT-I31103-25', 267.0, 344), ('SI32614XQ01-XT-I31002-49', 278.0, 106), ('SI33006Y025-XT-I35305-04', 278.0, 197), ('SI33006Y025-XT-I35305-06', 278.0, 199), ('SI33006Y025-XT-I35305-14', 278.0, 207)]]\n"
     ]
    }
   ],
   "source": [
    "x = input5[:60]\n",
    "y = left_data_2[:20]\n",
    "solution5_rest = show_690(x,y,7)"
   ]
  },
  {
   "cell_type": "code",
   "execution_count": 55,
   "metadata": {},
   "outputs": [],
   "source": [
    "for i in solution5_rest[\"690*2\"]:\n",
    "    for j in i:\n",
    "        if j in input5:\n",
    "            input5.remove(j)\n",
    "        if j in left_data_2:\n",
    "            left_data_2.remove(j)"
   ]
  },
  {
   "cell_type": "code",
   "execution_count": 56,
   "metadata": {},
   "outputs": [
    {
     "name": "stdout",
     "output_type": "stream",
     "text": [
      "177 92\n"
     ]
    }
   ],
   "source": [
    "print len(input5),len(left_data_2)"
   ]
  },
  {
   "cell_type": "code",
   "execution_count": 57,
   "metadata": {},
   "outputs": [],
   "source": [
    "for i in solution5_rest[\"690*2\"]:\n",
    "    solution5[\"690*2\"].append(i)"
   ]
  },
  {
   "cell_type": "code",
   "execution_count": 58,
   "metadata": {},
   "outputs": [
    {
     "data": {
      "text/plain": [
       "9"
      ]
     },
     "execution_count": 58,
     "metadata": {},
     "output_type": "execute_result"
    }
   ],
   "source": [
    "len(solution5[\"690*2\"])"
   ]
  },
  {
   "cell_type": "code",
   "execution_count": 121,
   "metadata": {},
   "outputs": [],
   "source": [
    "save_answer(solution5,5)"
   ]
  },
  {
   "cell_type": "code",
   "execution_count": 59,
   "metadata": {},
   "outputs": [
    {
     "name": "stdout",
     "output_type": "stream",
     "text": [
      "[[('SI32612XQ01-XT-I31103-37', 267.0, 345), ('SI32613XQ01-XT-I31203-13', 266.0, 347), ('SI32613XQ01-XT-I31203-36', 266.0, 348), ('SI32613XQ01-XT-I31203-40', 266.0, 349), ('SI32613XQ01-XT-I31203-43', 266.0, 350), ('SI32616XQ01-XT-I32104-49', 266.0, 351), ('SI32610XQ01-XT-I33204-17', 236.0, 438), ('SI32616XQ01-XT-I32104-12', 234.0, 439)]]\n",
      "[[('SI32609XQ01-XT-I34603-20', 266.0, 352), ('SI32612XQ01-XT-I31103-45', 266.0, 353), ('SI32612XQ01-XT-I31103-48', 266.0, 354), ('SI32609XQ01-XT-I34603-14', 265.0, 355), ('SI32612XQ01-XT-I31103-33', 265.0, 356), ('SI32612XQ01-XT-I31103-39', 265.0, 357), ('SI32611XQ01-XT-I34704-20', 239.0, 126), ('SI32701TC01-XT-I33003-12', 238.0, 17)]]\n",
      "[[('SI32610XQ01-XT-I33204-21', 264.0, 359), ('SI32610XQ01-XT-I33204-31', 264.0, 360), ('SI32610XQ01-XT-I33204-34', 264.0, 361), ('SI32613XQ01-XT-I31203-20', 264.0, 362), ('SI32613XQ01-XT-I31203-48', 264.0, 363), ('SI32616XQ01-XT-I32104-41', 264.0, 364), ('SI32612XQ01-XT-I31103-14', 244.0, 428), ('SI32610XQ01-XT-I33204-27', 242.0, 429)]]\n",
      "[[('SI32609XQ01-XT-I34603-08', 264.0, 365), ('SI32612XQ01-XT-I31103-44', 264.0, 366), ('SI32613XQ01-XT-I31203-02', 263.0, 367), ('SI32613XQ01-XT-I31203-03', 263.0, 368), ('SI32613XQ01-XT-I31203-06', 263.0, 369), ('SI32613XQ01-XT-I31203-24', 263.0, 370), ('SI32615XQ01-XT-I32404-34', 245.0, 424), ('SI32615XQ01-XT-I32404-43', 245.0, 425)]]\n",
      "[[('SI32613XQ01-XT-I31203-47', 263.0, 371), ('SI32616XQ01-XT-I32104-10', 263.0, 372), ('SI32615XQ01-XT-I32404-02', 262.0, 373), ('SI32613XQ01-XT-I31203-31', 262.0, 374), ('SI32613XQ01-XT-I31203-49', 262.0, 375), ('SI32616XQ01-XT-I32104-16', 262.0, 376), ('SI32613XQ01-XT-I31203-27', 248.0, 421), ('SI32613XQ01-XT-I31203-45', 248.0, 422)]]\n",
      "[[('SI32616XQ01-XT-I32104-25', 262.0, 377), ('SI32612XQ01-XT-I31103-06', 262.0, 378), ('SI32612XQ01-XT-I31103-28', 260.0, 380), ('SI32615XQ01-XT-I32404-28', 259.0, 381), ('SI32612XQ01-XT-I31103-42', 259.0, 382), ('SI32610XQ01-XT-I33204-03', 258.0, 383), ('SI32610XQ01-XT-I33204-09', 255.0, 391), ('SI32615XQ01-XT-I32404-33', 255.0, 392)]]\n",
      "[[('SI32616XQ01-XT-I32104-06', 258.0, 384), ('SI32612XQ01-XT-I31103-10', 258.0, 385), ('SI32612XQ01-XT-I31103-12', 258.0, 386), ('SI32610XQ01-XT-I33204-35', 257.0, 387), ('SI32615XQ01-XT-I32404-26', 257.0, 388), ('SI32612XQ01-XT-I31103-35', 257.0, 389), ('SI32616XQ01-XT-I32104-40', 248.0, 423), ('SI33006Y025-XT-I35305-18', 277.0, 211)]]\n",
      "[[('SI32612XQ01-XT-I31103-27', 256.0, 390), ('SI32613XQ01-XT-I31203-33', 255.0, 393), ('SI32612XQ01-XT-I31103-17', 255.0, 394), ('SI32612XQ01-XT-I31103-34', 255.0, 395), ('SI32615XQ01-XT-I32404-45', 254.0, 397), ('SI32616XQ01-XT-I32104-03', 254.0, 398), ('SI33007Y026-XT-I32904-26', 271.0, 294), ('SI32611XQ01-XT-I34704-06', 270.0, 112)]]\n",
      "[[('SI32612XQ01-XT-I31103-05', 254.0, 399), ('SI32612XQ01-XT-I31103-13', 254.0, 400), ('SI32612XQ01-XT-I31103-32', 254.0, 401), ('SI32610XQ01-XT-I33204-10', 253.0, 402), ('SI32610XQ01-XT-I33204-33', 253.0, 403), ('SI32615XQ01-XT-I32404-20', 253.0, 404), ('SI33006Y025-XT-I35305-12', 275.0, 205), ('SI32614XQ01-XT-I31002-46', 274.0, 103)]]\n",
      "[[('SI32615XQ01-XT-I32404-49', 253.0, 405), ('SI32613XQ01-XT-I31203-26', 253.0, 406), ('SI32612XQ01-XT-I31103-07', 253.0, 407), ('SI32613XQ01-XT-I31203-37', 252.0, 408), ('SI32612XQ01-XT-I31103-20', 252.0, 409), ('SI32615XQ01-XT-I32404-38', 251.0, 410), ('SI33006Y025-XT-I35305-22', 277.0, 215), ('SI33006Y025-XT-I35305-23', 277.0, 216)]]\n",
      "[[('SI32613XQ01-XT-I31203-21', 251.0, 411), ('SI32612XQ01-XT-I31103-02', 251.0, 412), ('SI32615XQ01-XT-I32404-29', 250.0, 413), ('SI32610XQ01-XT-I33204-19', 249.0, 414), ('SI32610XQ01-XT-I33204-25', 249.0, 415), ('SI33006Y025-XT-I35305-30', 277.0, 223), ('SI33007Y026-XT-I32904-25', 272.0, 293), ('SI32614XQ01-XT-I31002-37', 271.0, 94)]]\n",
      "[[('SI32610XQ01-XT-I33204-29', 249.0, 416), ('SI32613XQ01-XT-I31203-14', 249.0, 417), ('SI32613XQ01-XT-I31203-34', 249.0, 418), ('SI32613XQ01-XT-I31203-44', 249.0, 419), ('SI32616XQ01-XT-I32104-47', 249.0, 420), ('SI32614XQ01-XT-I31002-39', 276.0, 96), ('SI33006Y025-XT-I35305-10', 275.0, 203), ('SI33006Y025-XT-I35305-26', 274.0, 219)]]\n",
      "[[('SI32610XQ01-XT-I33204-13', 244.0, 426), ('SI32615XQ01-XT-I32404-36', 244.0, 427), ('SI32612XQ01-XT-I31103-24', 241.0, 430), ('SI32613XQ01-XT-I31203-08', 240.0, 431), ('SI32611XQ01-XT-I34704-36', 276.0, 142), ('SI33006Y025-XT-I35305-05', 276.0, 198), ('SI33006Y025-XT-I35305-01', 275.0, 194), ('SI33007Y026-XT-I32904-28', 274.0, 296)]]\n"
     ]
    }
   ],
   "source": [
    "x = input5[:]\n",
    "y = left_data_2[:]\n",
    "solution5_dict = {\"690*3\":[]}\n",
    "limit = 13\n",
    "lst = []\n",
    "target = 690*3\n",
    "time = 0\n",
    "while len(x) > 0 and len(y) >0:\n",
    "        answer = sol2.combinationSum(x,y,target,0)\n",
    "        \n",
    "        if len(answer) == 0:\n",
    "            break\n",
    "        else:\n",
    "            time += 1\n",
    "                    \n",
    "        print answer\n",
    "        for i in answer:\n",
    "            solution5_dict[\"690*3\"].append(i)\n",
    "            for j in i:\n",
    "                if j in x:\n",
    "                    x.remove(j)\n",
    "                if j in y:\n",
    "                    y.remove(j)\n",
    "        \n",
    "        if time == int(limit):\n",
    "            break"
   ]
  },
  {
   "cell_type": "code",
   "execution_count": 60,
   "metadata": {},
   "outputs": [],
   "source": [
    "for i in solution5_dict[\"690*3\"]:\n",
    "    for j in i:\n",
    "        if j in input5:\n",
    "            input5.remove(j)\n",
    "        if j in left_data_2:\n",
    "            left_data_2.remove(j)"
   ]
  },
  {
   "cell_type": "code",
   "execution_count": 61,
   "metadata": {},
   "outputs": [
    {
     "name": "stdout",
     "output_type": "stream",
     "text": [
      "158 7\n"
     ]
    }
   ],
   "source": [
    "print len(input5),len(left_data_2)"
   ]
  },
  {
   "cell_type": "code",
   "execution_count": 128,
   "metadata": {},
   "outputs": [
    {
     "data": {
      "text/plain": [
       "[('SI32217ZC07-XT-I31803-40', 239.0, 432),\n",
       " ('SI32615XQ01-XT-I32404-03', 239.0, 433),\n",
       " ('SI32615XQ01-XT-I32404-21', 239.0, 434),\n",
       " ('SI32615XQ01-XT-I32404-27', 239.0, 435),\n",
       " ('SI32613XQ01-XT-I31203-15', 239.0, 436),\n",
       " ('SI32612XQ01-XT-I31103-31', 239.0, 437),\n",
       " ('SI32610XQ01-XT-I33204-23', 233.0, 440)]"
      ]
     },
     "execution_count": 128,
     "metadata": {},
     "output_type": "execute_result"
    }
   ],
   "source": [
    "left_data_2"
   ]
  },
  {
   "cell_type": "code",
   "execution_count": 129,
   "metadata": {},
   "outputs": [
    {
     "name": "stdout",
     "output_type": "stream",
     "text": [
      "0\n",
      "2\n",
      "0\n",
      "0\n",
      "0\n",
      "0\n",
      "1\n",
      "2\n",
      "2\n",
      "2\n",
      "3\n",
      "3\n",
      "4\n"
     ]
    }
   ],
   "source": [
    "save_answer_2(solution5_dict,5)"
   ]
  },
  {
   "cell_type": "markdown",
   "metadata": {},
   "source": [
    "# 第六组"
   ]
  },
  {
   "cell_type": "code",
   "execution_count": 62,
   "metadata": {},
   "outputs": [],
   "source": [
    "input6 = [(input_dict[6][i][0],input_dict[6][i][1],i+1) for i in range(len(input_dict[6]))]\n",
    "left = left_data_2 + input5\n",
    "left_data_3 = [(left[i][0],left[i][1],300+i+1) for i in range(len(left))]"
   ]
  },
  {
   "cell_type": "code",
   "execution_count": 63,
   "metadata": {},
   "outputs": [
    {
     "data": {
      "text/plain": [
       "165"
      ]
     },
     "execution_count": 63,
     "metadata": {},
     "output_type": "execute_result"
    }
   ],
   "source": [
    "len(left_data_3)"
   ]
  },
  {
   "cell_type": "code",
   "execution_count": 64,
   "metadata": {},
   "outputs": [
    {
     "name": "stdout",
     "output_type": "stream",
     "text": [
      "Cut one time\n",
      "[[('SI33001Y020-XT-I32806-19', 269.0, 345), ('SI33001Y020-XT-I32806-29', 269.0, 346), ('SI33007Y026-XT-I32904-13', 269.0, 347), ('SI40312Y034-XT-I43801-13', 287.0, 295), ('SI33005Y024-XT-I32706-01', 286.0, 42)]]\n",
      "[[('SI33007Y026-XT-I32904-16', 269.0, 348), ('SI32614XQ01-XT-I31002-11', 268.0, 350), ('SI32614XQ01-XT-I31002-25', 268.0, 351), ('SI40301TC01-T0-I43901-14', 288.0, 154), ('SI40301TC01-T0-I43901-24', 287.0, 164)]]\n",
      "[[('SI32614XQ01-XT-I31002-34', 268.0, 352), ('SI32614XQ01-XT-I31002-47', 268.0, 353), ('SI32611XQ01-XT-I34704-24', 268.0, 354), ('SI40301TC01-T0-I43901-02', 288.0, 142), ('SI40312Y034-XT-I43801-01', 286.0, 283)]]\n",
      "[[('SI33001Y020-XT-I32806-13', 268.0, 355), ('SI33001Y020-XT-I32806-17', 268.0, 356), ('SI33001Y020-XT-I32806-23', 268.0, 357), ('SI40301TC01-T0-I43901-29', 290.0, 169), ('SI40312Y034-XT-I43801-02', 286.0, 284)]]\n",
      "[[('SI33001Y020-XT-I32806-31', 268.0, 358), ('SI33007Y026-XT-I32904-07', 268.0, 359), ('SI32614XQ01-XT-I31002-22', 266.0, 367), ('SI33002Y021-XT-I31104-26', 242.0, 451), ('SI40301TC01-T0-I43901-26', 336.0, 166)]]\n",
      "[[('SI33007Y026-XT-I32904-23', 268.0, 360), ('SI32614XQ01-XT-I31002-07', 267.0, 361), ('SI32614XQ01-XT-I31002-14', 267.0, 362), ('SI33002Y021-XT-I31104-32', 243.0, 446), ('SI40301TC01-T0-I43901-17', 335.0, 157)]]\n",
      "[[('SI32614XQ01-XT-I31002-44', 267.0, 363), ('SI32611XQ01-XT-I34704-33', 267.0, 364), ('SI33001Y020-XT-I32806-25', 267.0, 365), ('SI33002Y021-XT-I31104-16', 245.0, 430), ('SI40301TC01-T0-I43901-09', 334.0, 149)]]\n",
      "[[('SI33001Y020-XT-I32806-30', 267.0, 366), ('SI32614XQ01-XT-I31002-23', 266.0, 368), ('SI32614XQ01-XT-I31002-30', 266.0, 369), ('SI32611XQ01-XT-I34704-17', 246.0, 427), ('SI40301TC01-T0-I43901-27', 334.0, 167)]]\n",
      "[[('SI32614XQ01-XT-I31002-36', 266.0, 370), ('SI32611XQ01-XT-I34704-05', 266.0, 371), ('SI33001Y020-XT-I32806-09', 266.0, 372), ('SI32611XQ01-XT-I34704-15', 249.0, 421), ('SI40301TC01-T0-I43901-18', 333.0, 158)]]\n",
      "[[('SI33001Y020-XT-I32806-26', 266.0, 373), ('SI33001Y020-XT-I32806-27', 266.0, 374), ('SI32614XQ01-XT-I31002-32', 265.0, 375), ('SI33002Y021-XT-I31104-12', 250.0, 417), ('SI40301TC01-T0-I43901-21', 333.0, 161)]]\n",
      "[[('SI32611XQ01-XT-I34704-11', 265.0, 376), ('SI33001Y020-XT-I32806-02', 265.0, 377), ('SI33007Y026-XT-I32904-09', 265.0, 378), ('SI32611XQ01-XT-I34704-01', 252.0, 412), ('SI40301TC01-T0-I43901-23', 333.0, 163)]]\n",
      "[[('SI33007Y026-XT-I32904-30', 265.0, 379), ('SI32614XQ01-XT-I31002-15', 264.0, 381), ('SI32614XQ01-XT-I31002-29', 264.0, 382), ('SI40301TC01-T0-I43901-30', 299.0, 170), ('SI40312Y034-XT-I43801-18', 286.0, 300)]]\n",
      "[[('SI32614XQ01-XT-I31002-31', 264.0, 383), ('SI32614XQ01-XT-I31002-43', 264.0, 384), ('SI32611XQ01-XT-I34704-09', 255.0, 404), ('SI40301TC01-T0-I43901-22', 311.0, 162), ('SI40312Y034-XT-I43801-12', 285.0, 294)]]\n",
      "[[('SI33001Y020-XT-I32806-04', 264.0, 385), ('SI33001Y020-XT-I32806-12', 264.0, 386), ('SI33002Y021-XT-I31104-01', 254.0, 406), ('SI40301TC01-T0-I43901-20', 314.0, 160), ('SI40312Y034-XT-I43801-05', 284.0, 287)]]\n",
      "[[('SI33001Y020-XT-I32806-15', 264.0, 387), ('SI33001Y020-XT-I32806-24', 264.0, 388), ('SI33007Y026-XT-I32904-08', 254.0, 407), ('SI40301TC01-T0-I43901-16', 314.0, 156), ('SI40312Y034-XT-I43801-06', 284.0, 288)]]\n",
      "[[('SI33001Y020-XT-I32806-33', 264.0, 389), ('SI33001Y020-XT-I32806-34', 264.0, 390), ('SI33002Y021-XT-I31104-11', 249.0, 422), ('SI40301TC01-T0-I43901-10', 320.0, 150), ('SI33005Y024-XT-I32706-07', 283.0, 48)]]\n"
     ]
    }
   ],
   "source": [
    "solution6 = show_690(input6,left_data_3,16)"
   ]
  },
  {
   "cell_type": "code",
   "execution_count": 65,
   "metadata": {},
   "outputs": [
    {
     "name": "stdout",
     "output_type": "stream",
     "text": [
      "166 50\n"
     ]
    }
   ],
   "source": [
    "print len(input6),len(left_data_3)"
   ]
  },
  {
   "cell_type": "code",
   "execution_count": 66,
   "metadata": {},
   "outputs": [
    {
     "name": "stdout",
     "output_type": "stream",
     "text": [
      "Cut one time\n",
      "[[('SI32611XQ01-XT-I34704-30', 263.0, 391), ('SI33005Y024-XT-I32706-19', 283.0, 60), ('SI40309Y031-XT-I45001-20', 283.0, 124), ('SI40309Y031-XT-I45001-16', 276.0, 120), ('SI40309Y031-XT-I45001-12', 275.0, 116)]]\n",
      "[[('SI33001Y020-XT-I32806-36', 263.0, 392), ('SI40312Y034-XT-I43801-07', 283.0, 289), ('SI33005Y024-XT-I32706-03', 282.0, 44), ('SI33005Y024-XT-I32706-17', 276.0, 58), ('SI33005Y024-XT-I32706-21', 276.0, 62)]]\n",
      "[[('SI33007Y026-XT-I32904-01', 263.0, 393), ('SI33005Y024-XT-I32706-08', 282.0, 49), ('SI33005Y024-XT-I32706-13', 282.0, 54), ('SI40309Y031-XT-I45001-34', 277.0, 138), ('SI33005Y024-XT-I32706-28', 276.0, 69)]]\n",
      "[[('SI33007Y026-XT-I32904-03', 263.0, 394), ('SI33005Y024-XT-I32706-26', 282.0, 67), ('SI40309Y031-XT-I45001-25', 282.0, 129), ('SI40309Y031-XT-I45001-23', 277.0, 127), ('SI40309Y031-XT-I45001-09', 276.0, 113)]]\n",
      "[[('SI33006Y025-XT-I35305-25', 262.0, 395), ('SI40309Y031-XT-I45001-27', 282.0, 131), ('SI33005Y024-XT-I32706-09', 281.0, 50), ('SI40301TC01-T0-I43901-11', 278.0, 151), ('SI33005Y024-XT-I32706-05', 277.0, 46)]]\n",
      "[[('SI33007Y026-XT-I32904-10', 262.0, 396), ('SI33005Y024-XT-I32706-20', 281.0, 61), ('SI33005Y024-XT-I32706-24', 281.0, 65), ('SI33005Y024-XT-I32706-12', 278.0, 53), ('SI33005Y024-XT-I32706-23', 278.0, 64)]]\n",
      "[[('SI32701TC01-XT-I33003-31', 261.0, 397), ('SI33005Y024-XT-I32706-33', 281.0, 74), ('SI40309Y031-XT-I45001-13', 281.0, 117), ('SI40309Y031-XT-I45001-26', 279.0, 130), ('SI40309Y031-XT-I45001-14', 278.0, 118)]]\n",
      "[[('SI32701TC01-XT-I33003-42', 260.0, 398), ('SI40309Y031-XT-I45001-31', 281.0, 135), ('SI40309Y031-XT-I45001-32', 281.0, 136), ('SI33005Y024-XT-I32706-16', 279.0, 57), ('SI33005Y024-XT-I32706-25', 279.0, 66)]]\n",
      "[[('SI33007Y026-XT-I32904-15', 260.0, 399), ('SI33005Y024-XT-I32706-10', 280.0, 51), ('SI33005Y024-XT-I32706-14', 280.0, 55), ('SI33005Y024-XT-I32706-15', 280.0, 56), ('SI33005Y024-XT-I32706-22', 280.0, 63)]]\n",
      "[[('SI33001Y020-XT-I32806-16', 259.0, 401), ('SI40309Y031-XT-I45001-02', 280.0, 106), ('SI40309Y031-XT-I45001-07', 280.0, 111), ('SI40309Y031-XT-I45001-28', 280.0, 132), ('SI40301TC01-T0-I43901-25', 280.0, 165)]]\n"
     ]
    }
   ],
   "source": [
    "x = input6[:60]\n",
    "y = left_data_3[:15]\n",
    "solution6_rest = show_690(x,y,10)\n",
    "\n",
    "for i in solution6_rest[\"690*2\"]:\n",
    "    solution6[\"690*2\"].append(i)"
   ]
  },
  {
   "cell_type": "code",
   "execution_count": 67,
   "metadata": {},
   "outputs": [
    {
     "data": {
      "text/plain": [
       "26"
      ]
     },
     "execution_count": 67,
     "metadata": {},
     "output_type": "execute_result"
    }
   ],
   "source": [
    "len(solution6[\"690*2\"])"
   ]
  },
  {
   "cell_type": "code",
   "execution_count": 68,
   "metadata": {},
   "outputs": [],
   "source": [
    "for i in solution6_rest[\"690*2\"]:\n",
    "    for j in i:\n",
    "        if j in input6:\n",
    "            input6.remove(j)\n",
    "        if j in left_data_3:\n",
    "            left_data_3.remove(j)"
   ]
  },
  {
   "cell_type": "code",
   "execution_count": 69,
   "metadata": {},
   "outputs": [
    {
     "name": "stdout",
     "output_type": "stream",
     "text": [
      "126 40\n"
     ]
    }
   ],
   "source": [
    "print len(input6),len(left_data_3)"
   ]
  },
  {
   "cell_type": "code",
   "execution_count": 70,
   "metadata": {},
   "outputs": [
    {
     "name": "stdout",
     "output_type": "stream",
     "text": [
      "[[('SI32612XQ01-XT-I31103-49', 257.0, 402), ('SI32611XQ01-XT-I34704-31', 257.0, 403), ('SI33002Y021-XT-I31104-09', 255.0, 405), ('SI33002Y021-XT-I31104-02', 253.0, 408), ('SI33002Y021-XT-I31104-06', 253.0, 409), ('SI33002Y021-XT-I31104-14', 253.0, 410), ('SI33004Y023-XT-I34108-07', 271.0, 12), ('SI33004Y023-XT-I34108-35', 271.0, 40)]]\n",
      "[[('SI33001Y020-XT-I32806-11', 253.0, 411), ('SI32611XQ01-XT-I34704-34', 252.0, 413), ('SI33002Y021-XT-I31104-03', 252.0, 414), ('SI33007Y026-XT-I32904-04', 252.0, 415), ('SI33002Y021-XT-I31104-13', 250.0, 418), ('SI33002Y021-XT-I31104-15', 250.0, 419), ('SI33005Y024-XT-I32706-29', 279.0, 70), ('SI33005Y024-XT-I32706-30', 279.0, 71)]]\n",
      "[[('SI33002Y021-XT-I31104-21', 250.0, 420), ('SI33007Y026-XT-I32904-29', 249.0, 423), ('SI33002Y021-XT-I31104-48', 248.0, 424), ('SI33007Y026-XT-I32904-05', 248.0, 425), ('SI33007Y026-XT-I32904-27', 248.0, 426), ('SI33005Y024-XT-I32706-34', 279.0, 75), ('SI40309Y031-XT-I45001-05', 274.0, 109), ('SI40309Y031-XT-I45001-15', 274.0, 119)]]\n",
      "[[('SI33002Y021-XT-I31104-17', 246.0, 428), ('SI33002Y021-XT-I31104-29', 246.0, 429), ('SI33002Y021-XT-I31104-22', 245.0, 431), ('SI33002Y021-XT-I31104-23', 245.0, 432), ('SI33005Y024-XT-I32706-36', 279.0, 77), ('SI40309Y031-XT-I45001-03', 279.0, 107), ('SI33004Y023-XT-I34108-10', 265.0, 15), ('SI33004Y023-XT-I34108-12', 265.0, 17)]]\n",
      "[[('SI33002Y021-XT-I31104-24', 245.0, 433), ('SI33002Y021-XT-I31104-42', 245.0, 434), ('SI33002Y021-XT-I31104-45', 245.0, 435), ('SI32701TC01-XT-I33003-39', 244.0, 436), ('SI40309Y031-XT-I45001-08', 279.0, 112), ('SI40309Y031-XT-I45001-11', 279.0, 115), ('SI40308Y030-XT-I41201-44', 267.0, 277), ('SI33004Y023-XT-I34108-08', 266.0, 13)]]\n",
      "[[('SI32611XQ01-XT-I34704-08', 244.0, 437), ('SI32611XQ01-XT-I34704-16', 244.0, 438), ('SI33002Y021-XT-I31104-20', 244.0, 439), ('SI33002Y021-XT-I31104-27', 244.0, 440), ('SI40309Y031-XT-I45001-21', 278.0, 125), ('SI40309Y031-XT-I45001-24', 278.0, 128), ('SI33004Y023-XT-I34108-01', 269.0, 6), ('SI40305Y027-XT-I41101-11', 269.0, 188)]]\n",
      "[[('SI33002Y021-XT-I31104-28', 244.0, 441), ('SI33002Y021-XT-I31104-35', 244.0, 442), ('SI33002Y021-XT-I31104-38', 244.0, 443), ('SI33002Y021-XT-I31104-40', 244.0, 444), ('SI40309Y031-XT-I45001-35', 278.0, 139), ('SI40301TC01-T0-I43901-01', 278.0, 141), ('SI40305Y027-XT-I41101-17', 269.0, 196), ('SI40305Y027-XT-I41101-44', 269.0, 226)]]\n",
      "[[('SI33002Y021-XT-I31104-41', 244.0, 445), ('SI33002Y021-XT-I31104-34', 243.0, 447), ('SI33002Y021-XT-I31104-36', 243.0, 448), ('SI33002Y021-XT-I31104-37', 243.0, 449), ('SI40301TC01-T0-I43901-03', 278.0, 143), ('SI33005Y024-XT-I32706-06', 277.0, 47), ('SI33005Y024-XT-I32706-31', 271.0, 72), ('SI33004Y023-XT-I34108-36', 270.0, 41)]]\n",
      "[[('SI33002Y021-XT-I31104-30', 242.0, 452), ('SI33002Y021-XT-I31104-33', 242.0, 453), ('SI33002Y021-XT-I31104-39', 242.0, 454), ('SI33005Y024-XT-I32706-18', 277.0, 59), ('SI33005Y024-XT-I32706-27', 277.0, 68), ('SI40309Y031-XT-I45001-10', 277.0, 114), ('SI40308Y030-XT-I41201-17', 257.0, 250), ('SI40309Y031-XT-I45001-19', 256.0, 123)]]\n"
     ]
    }
   ],
   "source": [
    "x = input6[:]\n",
    "y = left_data_3[:]\n",
    "solution6_dict = {\"690*3\":[]}\n",
    "limit = 10\n",
    "lst = []\n",
    "target = 690*3\n",
    "time = 0\n",
    "while len(x) > 0 and len(y) > 0:\n",
    "        answer = sol2.combinationSum(x,y,target,0)\n",
    "        \n",
    "        if len(answer) == 0:\n",
    "            break\n",
    "        else:\n",
    "            time += 1\n",
    "                    \n",
    "        print answer\n",
    "        for i in answer:\n",
    "            solution6_dict[\"690*3\"].append(i)\n",
    "            for j in i:\n",
    "                if j in x:\n",
    "                    x.remove(j)\n",
    "                if j in y:\n",
    "                    y.remove(j)\n",
    "        \n",
    "        if time == int(limit):\n",
    "            break"
   ]
  },
  {
   "cell_type": "code",
   "execution_count": 71,
   "metadata": {},
   "outputs": [],
   "source": [
    "for i in solution6_dict[\"690*3\"]:\n",
    "    for j in i:\n",
    "        if j in input6:\n",
    "            input6.remove(j)\n",
    "        if j in left_data_3:\n",
    "            left_data_3.remove(j)"
   ]
  },
  {
   "cell_type": "code",
   "execution_count": 72,
   "metadata": {},
   "outputs": [
    {
     "name": "stdout",
     "output_type": "stream",
     "text": [
      "94 0\n"
     ]
    }
   ],
   "source": [
    "print len(input6),len(left_data_3)"
   ]
  },
  {
   "cell_type": "code",
   "execution_count": 166,
   "metadata": {},
   "outputs": [],
   "source": [
    "save_answer(solution6,6)"
   ]
  },
  {
   "cell_type": "code",
   "execution_count": 167,
   "metadata": {},
   "outputs": [
    {
     "name": "stdout",
     "output_type": "stream",
     "text": [
      "2\n",
      "2\n",
      "3\n",
      "4\n",
      "4\n",
      "4\n",
      "4\n",
      "4\n",
      "5\n"
     ]
    }
   ],
   "source": [
    "save_answer_2(solution6_dict,6)"
   ]
  },
  {
   "cell_type": "markdown",
   "metadata": {},
   "source": [
    "# 第七组"
   ]
  },
  {
   "cell_type": "code",
   "execution_count": 73,
   "metadata": {},
   "outputs": [
    {
     "data": {
      "text/plain": [
       "94"
      ]
     },
     "execution_count": 73,
     "metadata": {},
     "output_type": "execute_result"
    }
   ],
   "source": [
    "input7 = [(input_dict[7][i][0],input_dict[7][i][1],i+1) for i in range(len(input_dict[7]))]\n",
    "#left = left_data_2 + input5\n",
    "left_data_4 = [(input6[i][0],input6[i][1],300+i+1) for i in range(len(input6))]\n",
    "len(left_data_4)"
   ]
  },
  {
   "cell_type": "code",
   "execution_count": 74,
   "metadata": {},
   "outputs": [
    {
     "name": "stdout",
     "output_type": "stream",
     "text": [
      "Cut one time\n",
      "[[('SI40301TC01-T0-I43901-04', 273.0, 304), ('SI40301TC01-T0-I43901-06', 273.0, 305), ('SI40305Y027-XT-I41101-02', 272.0, 306), ('SI33004Y023-XT-I34108-20', 264.0, 343), ('SI40402Y036-XT-I43501-01', 298.0, 166)]]\n",
      "[[('SI40305Y027-XT-I41101-09', 270.0, 307), ('SI40308Y030-XT-I41201-14', 270.0, 308), ('SI40308Y030-XT-I41201-37', 269.0, 309), ('SI40401Y035-XT-I43601-07', 286.0, 244), ('SI40312Y034-XT-I43801-31', 285.0, 13)]]\n",
      "[[('SI40309Y031-XT-I45001-01', 268.0, 310), ('SI40305Y027-XT-I41101-10', 268.0, 311), ('SI40305Y027-XT-I41101-18', 268.0, 312), ('SI40403Y037-XT-I45301-25', 288.0, 151), ('SI40403Y037-XT-I45301-35', 288.0, 161)]]\n",
      "[[('SI40305Y027-XT-I41101-20', 268.0, 313), ('SI40308Y030-XT-I41201-20', 268.0, 314), ('SI33004Y023-XT-I34108-02', 267.0, 315), ('SI40401Y035-XT-I43601-36', 289.0, 273), ('SI40310Y032-XT-I42701-06', 288.0, 164)]]\n",
      "[[('SI33004Y023-XT-I34108-06', 267.0, 316), ('SI33005Y024-XT-I32706-32', 267.0, 317), ('SI40305Y027-XT-I41101-12', 267.0, 318), ('SI40502ZC08-XT-I44701-15', 290.0, 288), ('SI40403Y037-XT-I45301-36', 289.0, 162)]]\n",
      "[[('SI40305Y027-XT-I41101-29', 267.0, 319), ('SI40308Y030-XT-I41201-30', 267.0, 320), ('SI40308Y030-XT-I41201-41', 267.0, 321), ('SI40404Y038-XT-I43701-07', 290.0, 208), ('SI40310Y032-XT-I42701-01', 289.0, 163)]]\n",
      "[[('SI33004Y023-XT-I34108-13', 266.0, 322), ('SI40305Y027-XT-I41101-40', 266.0, 323), ('SI40308Y030-XT-I41201-10', 266.0, 324), ('SI40502ZC08-XT-I44701-21', 292.0, 294), ('SI40312Y034-XT-I43801-25', 290.0, 7)]]\n",
      "[[('SI40308Y030-XT-I41201-12', 266.0, 325), ('SI40308Y030-XT-I41201-13', 266.0, 326), ('SI40308Y030-XT-I41201-19', 266.0, 327), ('SI40403Y037-XT-I45301-26', 290.0, 152), ('SI40404Y038-XT-I43701-02', 290.0, 203)]]\n",
      "[[('SI40308Y030-XT-I41201-24', 266.0, 328), ('SI40308Y030-XT-I41201-27', 266.0, 329), ('SI40308Y030-XT-I41201-31', 266.0, 330), ('SI40502ZC08-XT-I44701-26', 293.0, 299), ('SI40401Y035-XT-I43601-06', 289.0, 243)]]\n",
      "[[('SI40308Y030-XT-I41201-33', 266.0, 331), ('SI40308Y030-XT-I41201-36', 266.0, 332), ('SI40308Y030-XT-I41201-40', 266.0, 333), ('SI40502ZC08-XT-I44701-10', 293.0, 283), ('SI40402Y036-XT-I43501-11', 288.0, 176)]]\n",
      "[[('SI33004Y023-XT-I34108-24', 265.0, 334), ('SI33004Y023-XT-I34108-31', 265.0, 335), ('SI33004Y023-XT-I34108-32', 265.0, 336), ('SI40404Y038-XT-I43701-01', 295.0, 202), ('SI40402Y036-XT-I43501-13', 288.0, 178)]]\n",
      "[[('SI40309Y031-XT-I45001-18', 265.0, 337), ('SI40308Y030-XT-I41201-04', 265.0, 338), ('SI40402Y036-XT-I43501-32', 288.0, 197), ('SI40307Y029-XT-I42801-06', 281.0, 24), ('SI40306Y028-XT-I45101-06', 281.0, 60)]]\n",
      "[[('SI40308Y030-XT-I41201-11', 265.0, 339), ('SI40308Y030-XT-I41201-26', 265.0, 340), ('SI40404Y038-XT-I43701-05', 288.0, 206), ('SI40306Y028-XT-I45101-36', 281.0, 90), ('SI40311Y033-XT-I44301-18', 281.0, 108)]]\n",
      "[[('SI40308Y030-XT-I41201-39', 265.0, 341), ('SI40308Y030-XT-I41201-45', 265.0, 342), ('SI40404Y038-XT-I43701-08', 288.0, 209), ('SI40311Y033-XT-I44301-26', 281.0, 116), ('SI40403Y037-XT-I45301-15', 281.0, 141)]]\n",
      "[[('SI33004Y023-XT-I34108-25', 264.0, 344), ('SI40305Y027-XT-I41101-26', 264.0, 345), ('SI40404Y038-XT-I43701-22', 288.0, 223), ('SI40312Y034-XT-I43801-24', 282.0, 6), ('SI40312Y034-XT-I43801-30', 282.0, 12)]]\n",
      "[[('SI40305Y027-XT-I41101-33', 264.0, 346), ('SI40305Y027-XT-I41101-37', 264.0, 347), ('SI40403Y037-XT-I45301-20', 287.0, 146), ('SI40502ZC08-XT-I44701-12', 283.0, 285), ('SI40311Y033-XT-I44301-07', 282.0, 97)]]\n",
      "[[('SI40305Y027-XT-I41101-43', 264.0, 348), ('SI33004Y023-XT-I34108-03', 263.0, 349), ('SI40403Y037-XT-I45301-29', 287.0, 155), ('SI40312Y034-XT-I43801-29', 283.0, 11), ('SI40312Y034-XT-I43801-32', 283.0, 14)]]\n",
      "[[('SI33004Y023-XT-I34108-11', 263.0, 350), ('SI33004Y023-XT-I34108-14', 263.0, 351), ('SI40402Y036-XT-I43501-03', 287.0, 168), ('SI40401Y035-XT-I43601-35', 284.0, 272), ('SI40306Y028-XT-I45101-12', 283.0, 66)]]\n",
      "[[('SI40309Y031-XT-I45001-30', 263.0, 352), ('SI40305Y027-XT-I41101-32', 263.0, 353), ('SI40402Y036-XT-I43501-19', 287.0, 184), ('SI40401Y035-XT-I43601-13', 284.0, 250), ('SI40311Y033-XT-I44301-03', 283.0, 93)]]\n",
      "[[('SI40308Y030-XT-I41201-16', 263.0, 354), ('SI40308Y030-XT-I41201-25', 263.0, 355), ('SI40401Y035-XT-I43601-08', 287.0, 245), ('SI40401Y035-XT-I43601-11', 284.0, 248), ('SI40311Y033-XT-I44301-06', 283.0, 96)]]\n"
     ]
    }
   ],
   "source": [
    "solution7 = show_690(input7,left_data_4,20)"
   ]
  },
  {
   "cell_type": "code",
   "execution_count": 75,
   "metadata": {},
   "outputs": [
    {
     "name": "stdout",
     "output_type": "stream",
     "text": [
      "236 34\n"
     ]
    }
   ],
   "source": [
    "print len(input7),len(left_data_4)"
   ]
  },
  {
   "cell_type": "code",
   "execution_count": 76,
   "metadata": {},
   "outputs": [
    {
     "name": "stdout",
     "output_type": "stream",
     "text": [
      "Cut one time\n",
      "[[('SI40308Y030-XT-I41201-38', 263.0, 356), ('SI33004Y023-XT-I34108-09', 262.0, 357), ('SI40401Y035-XT-I43601-12', 287.0, 249), ('SI40312Y034-XT-I43801-34', 284.0, 16), ('SI40311Y033-XT-I44301-04', 284.0, 94)]]\n",
      "[[('SI40305Y027-XT-I41101-24', 262.0, 358), ('SI40308Y030-XT-I41201-15', 262.0, 359), ('SI40401Y035-XT-I43601-17', 287.0, 254), ('SI40502ZC08-XT-I44701-08', 285.0, 281), ('SI40311Y033-XT-I44301-29', 284.0, 119)]]\n",
      "[[('SI40308Y030-XT-I41201-23', 262.0, 360), ('SI33004Y023-XT-I34108-21', 261.0, 361), ('SI40502ZC08-XT-I44701-02', 287.0, 275), ('SI40312Y034-XT-I43801-33', 285.0, 15), ('SI40311Y033-XT-I44301-01', 285.0, 91)]]\n",
      "[[('SI33004Y023-XT-I34108-22', 261.0, 362), ('SI33004Y023-XT-I34108-28', 261.0, 363), ('SI40502ZC08-XT-I44701-05', 287.0, 278), ('SI40401Y035-XT-I43601-05', 286.0, 242), ('SI40403Y037-XT-I45301-04', 285.0, 130)]]\n",
      "[[('SI40305Y027-XT-I41101-35', 261.0, 364), ('SI40308Y030-XT-I41201-21', 261.0, 365), ('SI40502ZC08-XT-I44701-11', 287.0, 284), ('SI40401Y035-XT-I43601-04', 286.0, 241), ('SI40403Y037-XT-I45301-05', 285.0, 131)]]\n",
      "[[('SI40312Y034-XT-I43801-03', 261.0, 366), ('SI33004Y023-XT-I34108-16', 260.0, 367), ('SI40312Y034-XT-I43801-35', 286.0, 17), ('SI40403Y037-XT-I45301-01', 286.0, 127), ('SI40403Y037-XT-I45301-08', 286.0, 134)]]\n",
      "[[('SI33004Y023-XT-I34108-17', 260.0, 368), ('SI33004Y023-XT-I34108-18', 260.0, 369), ('SI40403Y037-XT-I45301-19', 286.0, 145), ('SI40403Y037-XT-I45301-28', 286.0, 154), ('SI40403Y037-XT-I45301-32', 286.0, 158)]]\n",
      "[[('SI33004Y023-XT-I34108-19', 260.0, 370), ('SI33004Y023-XT-I34108-29', 260.0, 371), ('SI40403Y037-XT-I45301-34', 286.0, 160), ('SI40402Y036-XT-I43501-02', 286.0, 167), ('SI40402Y036-XT-I43501-26', 286.0, 191)]]\n",
      "[[('SI33004Y023-XT-I34108-30', 260.0, 372), ('SI33005Y024-XT-I32706-02', 260.0, 373), ('SI40404Y038-XT-I43701-03', 286.0, 204), ('SI40401Y035-XT-I43601-01', 286.0, 238), ('SI40401Y035-XT-I43601-02', 286.0, 239)]]\n",
      "[[('SI40301TC01-T0-I43901-34', 260.0, 374), ('SI40311Y033-XT-I44301-12', 283.0, 102), ('SI40307Y029-XT-I42801-07', 279.0, 25), ('SI40307Y029-XT-I42801-10', 279.0, 28), ('SI40307Y029-XT-I42801-11', 279.0, 29)]]\n",
      "[[('SI40308Y030-XT-I41201-09', 260.0, 375), ('SI40311Y033-XT-I44301-14', 283.0, 104), ('SI40307Y029-XT-I42801-18', 279.0, 36), ('SI40306Y028-XT-I45101-03', 279.0, 57), ('SI40306Y028-XT-I45101-04', 279.0, 58)]]\n",
      "[[('SI40308Y030-XT-I41201-46', 259.0, 377), ('SI40402Y036-XT-I43501-16', 281.0, 181), ('SI40307Y029-XT-I42801-05', 280.0, 23), ('SI40307Y029-XT-I42801-12', 280.0, 30), ('SI40307Y029-XT-I42801-24', 280.0, 42)]]\n",
      "[[('SI33004Y023-XT-I34108-34', 258.0, 378), ('SI40311Y033-XT-I44301-09', 282.0, 99), ('SI40306Y028-XT-I45101-02', 280.0, 56), ('SI40306Y028-XT-I45101-05', 280.0, 59), ('SI40306Y028-XT-I45101-17', 280.0, 71)]]\n",
      "[[('SI33005Y024-XT-I32706-04', 258.0, 379), ('SI40403Y037-XT-I45301-27', 282.0, 153), ('SI40306Y028-XT-I45101-18', 280.0, 72), ('SI40306Y028-XT-I45101-30', 280.0, 84), ('SI40311Y033-XT-I44301-08', 280.0, 98)]]\n",
      "[[('SI40309Y031-XT-I45001-36', 258.0, 380), ('SI40310Y032-XT-I42701-36', 282.0, 165), ('SI40311Y033-XT-I44301-13', 280.0, 103), ('SI40403Y037-XT-I45301-07', 280.0, 133), ('SI40404Y038-XT-I43701-06', 280.0, 207)]]\n",
      "[[('SI40305Y027-XT-I41101-34', 258.0, 381), ('SI40402Y036-XT-I43501-07', 282.0, 172), ('SI40404Y038-XT-I43701-09', 280.0, 210), ('SI40404Y038-XT-I43701-21', 280.0, 222), ('SI40404Y038-XT-I43701-23', 280.0, 224)]]\n",
      "[[('SI33004Y023-XT-I34108-23', 257.0, 382), ('SI40311Y033-XT-I44301-17', 283.0, 107), ('SI40404Y038-XT-I43701-27', 280.0, 228), ('SI40404Y038-XT-I43701-28', 280.0, 229), ('SI40404Y038-XT-I43701-34', 280.0, 235)]]\n",
      "[[('SI40305Y027-XT-I41101-46', 257.0, 383), ('SI40311Y033-XT-I44301-25', 283.0, 115), ('SI40401Y035-XT-I43601-25', 280.0, 262), ('SI40502ZC08-XT-I44701-07', 280.0, 280), ('SI40502ZC08-XT-I44701-23', 280.0, 296)]]\n",
      "[[('SI40305Y027-XT-I41101-21', 256.0, 384), ('SI40404Y038-XT-I43701-13', 281.0, 214), ('SI40404Y038-XT-I43701-16', 281.0, 217), ('SI40401Y035-XT-I43601-33', 281.0, 270), ('SI40502ZC08-XT-I44701-06', 281.0, 279)]]\n"
     ]
    }
   ],
   "source": [
    "x = input7[:120]\n",
    "y = left_data_4[:]\n",
    "solution7_rest = show_690(x,y,19)\n",
    "\n",
    "for i in solution7_rest[\"690*2\"]:\n",
    "    solution7[\"690*2\"].append(i)\n",
    "\n",
    "for i in solution7_rest[\"690*2\"]:\n",
    "    for j in i:\n",
    "        if j in input7:\n",
    "            input7.remove(j)\n",
    "        if j in left_data_4:\n",
    "            left_data_4.remove(j)"
   ]
  },
  {
   "cell_type": "code",
   "execution_count": 77,
   "metadata": {},
   "outputs": [
    {
     "name": "stdout",
     "output_type": "stream",
     "text": [
      "169 6\n"
     ]
    }
   ],
   "source": [
    "print len(input7),len(left_data_4)"
   ]
  },
  {
   "cell_type": "code",
   "execution_count": 78,
   "metadata": {},
   "outputs": [
    {
     "data": {
      "text/plain": [
       "39"
      ]
     },
     "execution_count": 78,
     "metadata": {},
     "output_type": "execute_result"
    }
   ],
   "source": [
    "len(solution7[\"690*2\"])"
   ]
  },
  {
   "cell_type": "code",
   "execution_count": 209,
   "metadata": {},
   "outputs": [],
   "source": [
    "save_answer(solution7,7)"
   ]
  },
  {
   "cell_type": "markdown",
   "metadata": {},
   "source": [
    "# 第8组"
   ]
  },
  {
   "cell_type": "code",
   "execution_count": 88,
   "metadata": {},
   "outputs": [
    {
     "data": {
      "text/plain": [
       "175"
      ]
     },
     "execution_count": 88,
     "metadata": {},
     "output_type": "execute_result"
    }
   ],
   "source": [
    "input8 = [(input_dict[8][i][0],input_dict[8][i][1],i+1) for i in range(len(input_dict[8]))]\n",
    "left = left_data_4 + input7\n",
    "left_data_5 = [(left[i][0],left[i][1],300+i+1) for i in range(len(left))]\n",
    "len(left_data_5)"
   ]
  },
  {
   "cell_type": "code",
   "execution_count": 89,
   "metadata": {},
   "outputs": [
    {
     "name": "stdout",
     "output_type": "stream",
     "text": [
      "Cut one time\n",
      "[[('SI40401Y035-XT-I43601-03', 285.0, 318), ('SI40401Y035-XT-I43601-09', 285.0, 319), ('SI40401Y035-XT-I43601-18', 285.0, 320), ('SI40401Y035-XT-I43601-30', 264.0, 449), ('SI40401Y035-XT-I43601-27', 260.0, 452)]]\n",
      "[[('SI40401Y035-XT-I43601-19', 285.0, 321), ('SI40403Y037-XT-I45301-22', 284.0, 322), ('SI40402Y036-XT-I43501-06', 284.0, 323), ('SI40507ZC08-XT-I45401-13', 264.0, 58), ('SI40503ZC08-XT-I42601-44', 263.0, 209)]]\n",
      "[[('SI40402Y036-XT-I43501-12', 284.0, 324), ('SI40402Y036-XT-I43501-25', 284.0, 325), ('SI40402Y036-XT-I43501-29', 284.0, 326), ('SI40503ZC08-XT-I42601-35', 265.0, 200), ('SI40503ZC08-XT-I42601-46', 263.0, 211)]]\n",
      "[[('SI40402Y036-XT-I43501-30', 284.0, 327), ('SI40402Y036-XT-I43501-35', 284.0, 328), ('SI40404Y038-XT-I43701-12', 284.0, 329), ('SI40506ZC08-XT-I45801-15', 265.0, 144), ('SI40409Y043-XT-I42802-07', 263.0, 293)]]\n",
      "[[('SI40404Y038-XT-I43701-19', 284.0, 330), ('SI40404Y038-XT-I43701-29', 284.0, 331), ('SI40404Y038-XT-I43701-36', 284.0, 332), ('SI40505ZC08-XT-I44401-32', 265.0, 41), ('SI40505ZC08-XT-I44401-30', 262.0, 39)]]\n",
      "[[('SI40403Y037-XT-I45301-02', 283.0, 333), ('SI40403Y037-XT-I45301-12', 283.0, 334), ('SI40404Y038-XT-I43701-04', 282.0, 354), ('SI40307Y029-XT-I42801-15', 268.0, 446), ('SI40312Y034-XT-I43801-36', 264.0, 448)]]\n",
      "[[('SI40403Y037-XT-I45301-13', 283.0, 335), ('SI40403Y037-XT-I45301-14', 283.0, 336), ('SI40404Y038-XT-I43701-30', 282.0, 355), ('SI40507ZC08-XT-I45401-09', 266.0, 54), ('SI40508ZC08-XT-I45201-16', 266.0, 109)]]\n",
      "[[('SI40403Y037-XT-I45301-18', 283.0, 337), ('SI40403Y037-XT-I45301-21', 283.0, 338), ('SI40306Y028-XT-I45101-11', 279.0, 360), ('SI40502ZC08-XT-I44701-24', 245.0, 466), ('SI40507ZC08-XT-I45401-33', 290.0, 78)]]\n",
      "[[('SI40403Y037-XT-I45301-23', 283.0, 339), ('SI40402Y036-XT-I43501-04', 283.0, 340), ('SI40311Y033-XT-I44301-20', 279.0, 361), ('SI40503ZC08-XT-I42601-37', 268.0, 202), ('SI40507ZC08-XT-I45401-03', 267.0, 48)]]\n",
      "[[('SI40402Y036-XT-I43501-24', 283.0, 341), ('SI40402Y036-XT-I43501-27', 283.0, 342), ('SI40311Y033-XT-I44301-23', 279.0, 362), ('SI40506ZC08-XT-I45801-36', 268.0, 165), ('SI40508ZC08-XT-I45201-02', 267.0, 95)]]\n",
      "[[('SI40402Y036-XT-I43501-28', 283.0, 343), ('SI40404Y038-XT-I43701-15', 283.0, 344), ('SI40311Y033-XT-I44301-24', 279.0, 363), ('SI40506ZC08-XT-I45801-01', 268.0, 130), ('SI40508ZC08-XT-I45201-31', 267.0, 124)]]\n",
      "[[('SI40404Y038-XT-I43701-17', 283.0, 345), ('SI40404Y038-XT-I43701-18', 283.0, 346), ('SI40311Y033-XT-I44301-27', 279.0, 364), ('SI40508ZC08-XT-I45201-08', 268.0, 101), ('SI40503ZC08-XT-I42601-45', 267.0, 210)]]\n",
      "[[('SI40404Y038-XT-I43701-20', 283.0, 347), ('SI40401Y035-XT-I43601-14', 283.0, 348), ('SI40311Y033-XT-I44301-30', 279.0, 365), ('SI40507ZC08-XT-I45401-08', 268.0, 53), ('SI40506ZC08-XT-I45801-09', 266.0, 138)]]\n",
      "[[('SI40401Y035-XT-I43601-16', 283.0, 349), ('SI40401Y035-XT-I43601-20', 283.0, 350), ('SI40401Y035-XT-I43601-31', 283.0, 351), ('SI40406Y040-XT-I45501-22', 269.0, 272), ('SI40508ZC08-XT-I45201-06', 262.0, 99)]]\n",
      "[[('SI40401Y035-XT-I43601-34', 283.0, 352), ('SI40401Y035-XT-I43601-10', 282.0, 356), ('SI40307Y029-XT-I42801-01', 278.0, 377), ('SI40311Y033-XT-I44301-10', 247.0, 464), ('SI40406Y040-XT-I45501-35', 290.0, 285)]]\n",
      "[[('SI40401Y035-XT-I43601-26', 282.0, 357), ('SI40401Y035-XT-I43601-32', 282.0, 358), ('SI40307Y029-XT-I42801-04', 278.0, 378), ('SI40401Y035-XT-I43601-22', 249.0, 463), ('SI40502ZC08-XT-I44701-35', 289.0, 8)]]\n",
      "[[('SI40502ZC08-XT-I44701-22', 282.0, 359), ('SI40311Y033-XT-I44301-31', 279.0, 366), ('SI40311Y033-XT-I44301-33', 279.0, 367), ('SI40402Y036-XT-I43501-33', 271.0, 443), ('SI40502ZC08-XT-I44701-18', 269.0, 445)]]\n",
      "[[('SI40402Y036-XT-I43501-09', 279.0, 368), ('SI40402Y036-XT-I43501-15', 279.0, 369), ('SI40402Y036-XT-I43501-20', 279.0, 370), ('SI40306Y028-XT-I45101-22', 272.0, 441), ('SI40311Y033-XT-I44301-36', 271.0, 442)]]\n",
      "[[('SI40402Y036-XT-I43501-31', 279.0, 371), ('SI40404Y038-XT-I43701-14', 279.0, 372), ('SI40404Y038-XT-I43701-32', 279.0, 373), ('SI40306Y028-XT-I45101-01', 252.0, 460), ('SI40406Y040-XT-I45501-06', 289.0, 256)]]\n",
      "[[('SI40401Y035-XT-I43601-24', 279.0, 374), ('SI40502ZC08-XT-I44701-14', 279.0, 375), ('SI40502ZC08-XT-I44701-16', 279.0, 376), ('SI40503ZC08-XT-I42601-48', 272.0, 213), ('SI40508ZC08-XT-I45201-23', 271.0, 116)]]\n",
      "[[('SI40307Y029-XT-I42801-28', 278.0, 379), ('SI40306Y028-XT-I45101-15', 278.0, 380), ('SI40306Y028-XT-I45101-24', 278.0, 381), ('SI40307Y029-XT-I42801-13', 273.0, 438), ('SI40311Y033-XT-I44301-35', 273.0, 439)]]\n",
      "[[('SI40311Y033-XT-I44301-19', 278.0, 382), ('SI40403Y037-XT-I45301-09', 278.0, 383), ('SI40402Y036-XT-I43501-22', 278.0, 384), ('SI40402Y036-XT-I43501-23', 274.0, 437), ('SI40307Y029-XT-I42801-22', 272.0, 440)]]\n",
      "[[('SI40404Y038-XT-I43701-10', 278.0, 385), ('SI40404Y038-XT-I43701-24', 278.0, 386), ('SI40404Y038-XT-I43701-26', 278.0, 387), ('SI40311Y033-XT-I44301-05', 257.0, 454), ('SI40406Y040-XT-I45501-30', 289.0, 280)]]\n",
      "[[('SI40401Y035-XT-I43601-21', 278.0, 388), ('SI40502ZC08-XT-I44701-01', 278.0, 389), ('SI40502ZC08-XT-I44701-17', 278.0, 390), ('SI40307Y029-XT-I42801-35', 256.0, 455), ('SI40505ZC08-XT-I44401-27', 288.0, 36)]]\n",
      "[[('SI40312Y034-XT-I43801-19', 277.0, 391), ('SI40307Y029-XT-I42801-17', 277.0, 392), ('SI40307Y029-XT-I42801-31', 277.0, 393), ('SI40502ZC08-XT-I44701-27', 275.0, 429), ('SI40307Y029-XT-I42801-26', 274.0, 431)]]\n",
      "[[('SI40307Y029-XT-I42801-32', 277.0, 394), ('SI40306Y028-XT-I45101-23', 277.0, 395), ('SI40306Y028-XT-I45101-28', 277.0, 396), ('SI40502ZC08-XT-I44701-19', 275.0, 428), ('SI40307Y029-XT-I42801-29', 274.0, 432)]]\n",
      "[[('SI40306Y028-XT-I45101-31', 277.0, 397), ('SI40311Y033-XT-I44301-28', 277.0, 398), ('SI40402Y036-XT-I43501-17', 277.0, 399), ('SI40402Y036-XT-I43501-21', 275.0, 427), ('SI40307Y029-XT-I42801-34', 274.0, 433)]]\n",
      "[[('SI40402Y036-XT-I43501-36', 277.0, 400), ('SI40502ZC08-XT-I44701-09', 277.0, 401), ('SI40307Y029-XT-I42801-09', 276.0, 402), ('SI40307Y029-XT-I42801-14', 275.0, 416), ('SI40307Y029-XT-I42801-30', 275.0, 417)]]\n",
      "[[('SI40307Y029-XT-I42801-19', 276.0, 403), ('SI40306Y028-XT-I45101-07', 276.0, 404), ('SI40306Y028-XT-I45101-14', 276.0, 405), ('SI40306Y028-XT-I45101-34', 276.0, 406), ('SI40306Y028-XT-I45101-35', 276.0, 407)]]\n",
      "[[('SI40311Y033-XT-I44301-02', 276.0, 408), ('SI40311Y033-XT-I44301-11', 276.0, 409), ('SI40402Y036-XT-I43501-34', 276.0, 410), ('SI40502ZC08-XT-I44701-03', 276.0, 411), ('SI40502ZC08-XT-I44701-13', 276.0, 412)]]\n",
      "[[('SI40502ZC08-XT-I44701-20', 276.0, 413), ('SI40502ZC08-XT-I44701-25', 276.0, 414), ('SI40306Y028-XT-I45101-08', 275.0, 418), ('SI40409Y043-XT-I42802-12', 277.0, 298), ('SI40503ZC08-XT-I42601-41', 276.0, 206)]]\n",
      "[[('SI40306Y028-XT-I45101-09', 275.0, 419), ('SI40306Y028-XT-I45101-10', 275.0, 420), ('SI40306Y028-XT-I45101-13', 275.0, 421), ('SI40409Y043-XT-I42802-09', 278.0, 295), ('SI40505ZC08-XT-I44401-17', 277.0, 26)]]\n",
      "[[('SI40306Y028-XT-I45101-16', 275.0, 422), ('SI40306Y028-XT-I45101-29', 275.0, 423), ('SI40306Y028-XT-I45101-32', 275.0, 424), ('SI40409Y043-XT-I42802-04', 278.0, 290), ('SI40505ZC08-XT-I44401-36', 277.0, 45)]]\n",
      "[[('SI40311Y033-XT-I44301-32', 275.0, 425), ('SI40402Y036-XT-I43501-05', 275.0, 426), ('SI40306Y028-XT-I45101-19', 274.0, 434), ('SI40502ZC08-XT-I44701-33', 278.0, 6), ('SI40505ZC08-XT-I44401-07', 278.0, 16)]]\n",
      "[[('SI40306Y028-XT-I45101-26', 274.0, 435), ('SI40306Y028-XT-I45101-33', 274.0, 436), ('SI40311Y033-XT-I44301-16', 255.0, 457), ('SI40505ZC08-XT-I44401-31', 288.0, 40), ('SI40507ZC08-XT-I45401-27', 288.0, 72)]]\n",
      "[[('SI40311Y033-XT-I44301-21', 255.0, 458), ('SI40406Y040-XT-I45501-24', 288.0, 274), ('SI40502ZC08-XT-I44701-34', 287.0, 7), ('SI40506ZC08-XT-I45801-32', 275.0, 161), ('SI40503ZC08-XT-I42601-39', 275.0, 204)]]\n",
      "[[('SI40403Y037-XT-I45301-31', 255.0, 459), ('SI40502ZC08-XT-I44701-36', 287.0, 9), ('SI40505ZC08-XT-I44401-14', 287.0, 23), ('SI40409Y043-XT-I42802-13', 276.0, 299), ('SI40505ZC08-XT-I44401-23', 274.0, 32)]]\n",
      "[[('SI40401Y035-XT-I43601-23', 251.0, 461), ('SI40406Y040-XT-I45501-07', 287.0, 257), ('SI40406Y040-XT-I45501-12', 287.0, 262), ('SI40406Y040-XT-I45501-09', 278.0, 259), ('SI40507ZC08-XT-I45401-12', 277.0, 57)]]\n"
     ]
    }
   ],
   "source": [
    "solution8 = show_690(input8,left_data_5,38)"
   ]
  },
  {
   "cell_type": "code",
   "execution_count": 92,
   "metadata": {},
   "outputs": [
    {
     "data": {
      "text/plain": [
       "177"
      ]
     },
     "execution_count": 92,
     "metadata": {},
     "output_type": "execute_result"
    }
   ],
   "source": [
    "len(input8)"
   ]
  },
  {
   "cell_type": "code",
   "execution_count": 90,
   "metadata": {},
   "outputs": [
    {
     "data": {
      "text/plain": [
       "[]"
      ]
     },
     "execution_count": 90,
     "metadata": {},
     "output_type": "execute_result"
    }
   ],
   "source": [
    "left_data_5"
   ]
  },
  {
   "cell_type": "code",
   "execution_count": 93,
   "metadata": {},
   "outputs": [],
   "source": [
    "save_answer(solution8,8)"
   ]
  },
  {
   "cell_type": "markdown",
   "metadata": {},
   "source": [
    "# 第9组"
   ]
  },
  {
   "cell_type": "code",
   "execution_count": 100,
   "metadata": {},
   "outputs": [
    {
     "data": {
      "text/plain": [
       "177"
      ]
     },
     "execution_count": 100,
     "metadata": {},
     "output_type": "execute_result"
    }
   ],
   "source": [
    "input9 = [(input_dict[9][i][0],input_dict[9][i][1],i+1) for i in range(len(input_dict[9]))]\n",
    "left = left_data_5 + input8\n",
    "left_data_6 = [(left[i][0],left[i][1],300+i+1) for i in range(len(left))]\n",
    "len(left_data_6)"
   ]
  },
  {
   "cell_type": "code",
   "execution_count": 101,
   "metadata": {},
   "outputs": [
    {
     "name": "stdout",
     "output_type": "stream",
     "text": [
      "Cut one time\n",
      "[[('SI40406Y040-XT-I45501-03', 284.0, 313), ('SI40406Y040-XT-I45501-11', 284.0, 314), ('SI40406Y040-XT-I45501-20', 284.0, 315), ('SI40506ZC08-XT-I45801-16', 236.0, 476), ('SI40604ZC08-XT-I43602-11', 292.0, 106)]]\n",
      "[[('SI40406Y040-XT-I45501-25', 284.0, 316), ('SI40406Y040-XT-I45501-26', 284.0, 317), ('SI40406Y040-XT-I45501-34', 284.0, 318), ('SI40405Y039-XT-I44902-26', 264.0, 49), ('SI40405Y039-XT-I44902-35', 264.0, 58)]]\n",
      "[[('SI40409Y043-XT-I42802-02', 284.0, 319), ('SI40406Y040-XT-I45501-08', 283.0, 322), ('SI40406Y040-XT-I45501-10', 283.0, 323), ('SI40508ZC08-XT-I45201-19', 269.0, 401), ('SI40505ZC08-XT-I44401-03', 261.0, 402)]]\n",
      "[[('SI40406Y040-XT-I45501-13', 283.0, 324), ('SI40505ZC08-XT-I44401-04', 282.0, 326), ('SI40505ZC08-XT-I44401-21', 282.0, 327), ('SI40406Y040-XT-I45501-32', 270.0, 400), ('SI40505ZC08-XT-I44401-12', 261.0, 403)]]\n",
      "[[('SI40505ZC08-XT-I44401-34', 282.0, 328), ('SI40507ZC08-XT-I45401-07', 282.0, 329), ('SI40411Y045-XT-I44201-13', 282.0, 330), ('SI40406Y040-XT-I45501-36', 240.0, 468), ('SI40604ZC08-XT-I43602-18', 292.0, 113)]]\n",
      "[[('SI40406Y040-XT-I45501-04', 282.0, 331), ('SI40406Y040-XT-I45501-17', 282.0, 332), ('SI40406Y040-XT-I45501-33', 282.0, 333), ('SI40409Y043-XT-I42802-05', 240.0, 469), ('SI40606ZC08-XT-I43502-06', 292.0, 271)]]\n",
      "[[('SI40409Y043-XT-I42802-11', 282.0, 334), ('SI40505ZC08-XT-I44401-33', 281.0, 335), ('SI40507ZC08-XT-I45401-20', 281.0, 336), ('SI40507ZC08-XT-I45401-05', 246.0, 456), ('SI40408Y042-XT-I44601-25', 290.0, 84)]]\n",
      "[[('SI40506ZC08-XT-I45801-14', 281.0, 337), ('SI40411Y045-XT-I44201-27', 281.0, 338), ('SI40406Y040-XT-I45501-05', 281.0, 339), ('SI40503ZC08-XT-I42601-36', 246.0, 457), ('SI40606ZC08-XT-I43502-12', 290.0, 277)]]\n",
      "[[('SI40406Y040-XT-I45501-14', 281.0, 340), ('SI40406Y040-XT-I45501-29', 281.0, 341), ('SI40409Y043-XT-I42802-08', 281.0, 342), ('SI40602ZC08-XT-I41102-10', 269.0, 226), ('SI40405Y039-XT-I44902-03', 268.0, 26)]]\n",
      "[[('SI40411Y045-XT-I44201-01', 280.0, 344), ('SI40411Y045-XT-I44201-02', 280.0, 345), ('SI40411Y045-XT-I44201-08', 280.0, 346), ('SI40508ZC08-XT-I45201-01', 270.0, 398), ('SI40506ZC08-XT-I45801-17', 270.0, 399)]]\n",
      "[[('SI40411Y045-XT-I44201-23', 280.0, 347), ('SI40411Y045-XT-I44201-30', 280.0, 348), ('SI40411Y045-XT-I44201-33', 280.0, 349), ('SI40508ZC08-XT-I45201-20', 251.0, 444), ('SI40408Y042-XT-I44601-02', 289.0, 61)]]\n",
      "[[('SI40411Y045-XT-I44201-35', 280.0, 350), ('SI40406Y040-XT-I45501-28', 280.0, 351), ('SI40505ZC08-XT-I44401-02', 279.0, 352), ('SI40506ZC08-XT-I45801-27', 252.0, 441), ('SI40408Y042-XT-I44601-04', 289.0, 63)]]\n",
      "[[('SI40411Y045-XT-I44201-03', 279.0, 353), ('SI40411Y045-XT-I44201-04', 279.0, 354), ('SI40411Y045-XT-I44201-05', 279.0, 355), ('SI40505ZC08-XT-I44401-22', 272.0, 390), ('SI40506ZC08-XT-I45801-20', 271.0, 391)]]\n",
      "[[('SI40411Y045-XT-I44201-09', 279.0, 356), ('SI40411Y045-XT-I44201-16', 279.0, 357), ('SI40411Y045-XT-I44201-17', 279.0, 358), ('SI40506ZC08-XT-I45801-22', 271.0, 392), ('SI40506ZC08-XT-I45801-24', 271.0, 393)]]\n",
      "[[('SI40411Y045-XT-I44201-20', 279.0, 359), ('SI40411Y045-XT-I44201-22', 279.0, 360), ('SI40411Y045-XT-I44201-24', 279.0, 361), ('SI40503ZC08-XT-I42601-38', 271.0, 394), ('SI40411Y045-XT-I44201-32', 271.0, 395)]]\n",
      "[[('SI40411Y045-XT-I44201-29', 279.0, 362), ('SI40505ZC08-XT-I44401-28', 278.0, 363), ('SI40506ZC08-XT-I45801-35', 278.0, 364), ('SI40507ZC08-XT-I45401-04', 257.0, 418), ('SI40408Y042-XT-I44601-13', 288.0, 72)]]\n",
      "[[('SI40411Y045-XT-I44201-06', 278.0, 365), ('SI40411Y045-XT-I44201-07', 278.0, 366), ('SI40411Y045-XT-I44201-11', 278.0, 367), ('SI40505ZC08-XT-I44401-16', 273.0, 386), ('SI40507ZC08-XT-I45401-17', 273.0, 387)]]\n",
      "[[('SI40411Y045-XT-I44201-12', 278.0, 368), ('SI40411Y045-XT-I44201-15', 278.0, 369), ('SI40411Y045-XT-I44201-21', 278.0, 370), ('SI40506ZC08-XT-I45801-18', 273.0, 388), ('SI40409Y043-XT-I42802-14', 273.0, 389)]]\n",
      "[[('SI40411Y045-XT-I44201-26', 278.0, 371), ('SI40508ZC08-XT-I45201-13', 277.0, 372), ('SI40506ZC08-XT-I45801-34', 277.0, 373), ('SI40505ZC08-XT-I44401-29', 274.0, 380), ('SI40507ZC08-XT-I45401-06', 274.0, 381)]]\n",
      "[[('SI40411Y045-XT-I44201-10', 277.0, 374), ('SI40411Y045-XT-I44201-14', 277.0, 375), ('SI40411Y045-XT-I44201-18', 277.0, 376), ('SI40508ZC08-XT-I45201-11', 274.0, 382), ('SI40406Y040-XT-I45501-01', 274.0, 383)]]\n",
      "[[('SI40409Y043-XT-I42802-10', 277.0, 377), ('SI40411Y045-XT-I44201-36', 276.0, 379), ('SI40406Y040-XT-I45501-16', 274.0, 384), ('SI40606ZC08-XT-I43502-22', 277.0, 289), ('SI40604ZC08-XT-I43602-13', 276.0, 108)]]\n",
      "[[('SI40406Y040-XT-I45501-21', 274.0, 385), ('SI40506ZC08-XT-I45801-07', 261.0, 404), ('SI40408Y042-XT-I44601-19', 288.0, 78), ('SI40606ZC08-XT-I43502-31', 279.0, 298), ('SI40604ZC08-XT-I43602-09', 278.0, 104)]]\n",
      "[[('SI40505ZC08-XT-I44401-18', 260.0, 406), ('SI40507ZC08-XT-I45401-01', 260.0, 407), ('SI40408Y042-XT-I44601-31', 288.0, 90), ('SI40408Y042-XT-I44601-01', 286.0, 60), ('SI40408Y042-XT-I44601-05', 286.0, 64)]]\n",
      "[[('SI40507ZC08-XT-I45401-16', 260.0, 408), ('SI40507ZC08-XT-I45401-22', 260.0, 409), ('SI40408Y042-XT-I44601-03', 287.0, 62), ('SI40606ZC08-XT-I43502-26', 287.0, 293), ('SI40408Y042-XT-I44601-09', 286.0, 68)]]\n",
      "[[('SI40506ZC08-XT-I45801-23', 260.0, 410), ('SI40508ZC08-XT-I45201-17', 259.0, 413), ('SI40408Y042-XT-I44601-07', 287.0, 66), ('SI40604ZC08-XT-I43602-33', 287.0, 128), ('SI40408Y042-XT-I44601-26', 286.0, 85)]]\n"
     ]
    }
   ],
   "source": [
    "solution9 = show_690(input9,left_data_6,25)"
   ]
  },
  {
   "cell_type": "code",
   "execution_count": 104,
   "metadata": {},
   "outputs": [
    {
     "name": "stdout",
     "output_type": "stream",
     "text": [
      "212 48\n"
     ]
    }
   ],
   "source": [
    "print len(input9),len(left_data_6)"
   ]
  },
  {
   "cell_type": "code",
   "execution_count": 114,
   "metadata": {},
   "outputs": [
    {
     "name": "stdout",
     "output_type": "stream",
     "text": [
      "Cut one time\n",
      "[[('SI40503ZC08-XT-I42601-09', 258.0, 416), ('SI40408Y042-XT-I44601-29', 286.0, 88), ('SI40408Y042-XT-I44601-32', 286.0, 91), ('SI40409Y043-XT-I42802-19', 275.0, 5), ('SI40409Y043-XT-I42802-20', 275.0, 6)]]\n",
      "[[('SI40503ZC08-XT-I42601-14', 258.0, 417), ('SI40408Y042-XT-I44601-33', 286.0, 92), ('SI40408Y042-XT-I44601-34', 286.0, 93), ('SI40409Y043-XT-I42802-35', 275.0, 22), ('SI40604ZC08-XT-I43602-25', 275.0, 120)]]\n",
      "[[('SI40508ZC08-XT-I45201-18', 257.0, 419), ('SI40606ZC08-XT-I43502-09', 286.0, 274), ('SI40408Y042-XT-I44601-14', 285.0, 73), ('SI40407Y041-XT-I43802-30', 276.0, 161), ('SI40606ZC08-XT-I43502-16', 276.0, 282)]]\n",
      "[[('SI40508ZC08-XT-I45201-34', 257.0, 420), ('SI40408Y042-XT-I44601-21', 285.0, 80), ('SI40408Y042-XT-I44601-24', 285.0, 83), ('SI40606ZC08-XT-I43502-10', 277.0, 275), ('SI40604ZC08-XT-I43602-29', 275.0, 124)]]\n",
      "[[('SI40503ZC08-XT-I42601-13', 257.0, 421), ('SI40408Y042-XT-I44601-28', 285.0, 87), ('SI40604ZC08-XT-I43602-02', 285.0, 97), ('SI40606ZC08-XT-I43502-04', 277.0, 269), ('SI40409Y043-XT-I42802-17', 274.0, 3)]]\n",
      "[[('SI40503ZC08-XT-I42601-31', 257.0, 422), ('SI40409Y043-XT-I42802-24', 284.0, 10), ('SI40409Y043-XT-I42802-18', 283.0, 4), ('SI40604ZC08-XT-I43602-34', 279.0, 129), ('SI40409Y043-XT-I42802-25', 277.0, 11)]]\n",
      "[[('SI40409Y043-XT-I42802-06', 257.0, 423), ('SI40409Y043-XT-I42802-28', 284.0, 14), ('SI40408Y042-XT-I44601-08', 284.0, 67), ('SI40604ZC08-XT-I43602-28', 279.0, 123), ('SI40409Y043-XT-I42802-29', 274.0, 15)]]\n",
      "[[('SI40505ZC08-XT-I44401-24', 256.0, 424), ('SI40409Y043-XT-I42802-30', 283.0, 16), ('SI40408Y042-XT-I44601-11', 283.0, 70), ('SI40409Y043-XT-I42802-15', 279.0, 1), ('SI40409Y043-XT-I42802-16', 279.0, 2)]]\n",
      "[[('SI40503ZC08-XT-I42601-20', 256.0, 425), ('SI40408Y042-XT-I44601-17', 283.0, 76), ('SI40409Y043-XT-I42802-33', 282.0, 19), ('SI40606ZC08-XT-I43502-27', 280.0, 294), ('SI40604ZC08-XT-I43602-21', 279.0, 116)]]\n",
      "[[('SI40503ZC08-XT-I42601-43', 256.0, 426), ('SI40408Y042-XT-I44601-23', 283.0, 82), ('SI40604ZC08-XT-I43602-14', 281.0, 109), ('SI40409Y043-XT-I42802-27', 280.0, 13), ('SI40407Y041-XT-I43802-36', 280.0, 167)]]\n",
      "[[('SI40502ZC08-XT-I44701-32', 254.0, 432), ('SI40408Y042-XT-I44601-06', 282.0, 65), ('SI40408Y042-XT-I44601-10', 282.0, 69), ('SI40606ZC08-XT-I43502-21', 281.0, 288), ('SI40606ZC08-XT-I43502-28', 281.0, 295)]]\n",
      "[[('SI40506ZC08-XT-I45801-31', 252.0, 442), ('SI40408Y042-XT-I44601-12', 282.0, 71), ('SI40408Y042-XT-I44601-20', 282.0, 79), ('SI40408Y042-XT-I44601-22', 282.0, 81), ('SI40408Y042-XT-I44601-27', 282.0, 86)]]\n",
      "[[('SI40503ZC08-XT-I42601-02', 252.0, 443), ('SI40408Y042-XT-I44601-35', 282.0, 94), ('SI40408Y042-XT-I44601-36', 282.0, 95), ('SI40604ZC08-XT-I43602-03', 282.0, 98), ('SI40604ZC08-XT-I43602-08', 282.0, 103)]]\n"
     ]
    }
   ],
   "source": [
    "x = input9[:80]\n",
    "y = left_data_6[:30]\n",
    "solution9_rest = show_690(x,y,13)\n",
    "\n",
    "\n",
    "for i in solution9_rest[\"690*2\"]:\n",
    "    solution9[\"690*2\"].append(i)\n",
    "\n",
    "for i in solution9_rest[\"690*2\"]:\n",
    "    for j in i:\n",
    "        if j in input9:\n",
    "            input9.remove(j)\n",
    "        if j in left_data_6:\n",
    "            left_data_6.remove(j)"
   ]
  },
  {
   "cell_type": "code",
   "execution_count": 115,
   "metadata": {},
   "outputs": [
    {
     "name": "stdout",
     "output_type": "stream",
     "text": [
      "160 35\n"
     ]
    }
   ],
   "source": [
    "print len(input9),len(left_data_6)"
   ]
  },
  {
   "cell_type": "code",
   "execution_count": 119,
   "metadata": {},
   "outputs": [
    {
     "name": "stdout",
     "output_type": "stream",
     "text": [
      "[[('SI40505ZC08-XT-I44401-19', 255.0, 427), ('SI40503ZC08-XT-I42601-18', 255.0, 428), ('SI40503ZC08-XT-I42601-30', 255.0, 429), ('SI40411Y045-XT-I44201-31', 255.0, 430), ('SI40409Y043-XT-I42802-01', 255.0, 431), ('SI40508ZC08-XT-I45201-10', 254.0, 433), ('SI40604ZC08-XT-I43602-10', 271.0, 105), ('SI40405Y039-XT-I44902-10', 270.0, 33)]]\n",
      "[[('SI40508ZC08-XT-I45201-21', 254.0, 434), ('SI40508ZC08-XT-I45201-24', 254.0, 435), ('SI40503ZC08-XT-I42601-22', 254.0, 436), ('SI40503ZC08-XT-I42601-40', 254.0, 437), ('SI40411Y045-XT-I44201-19', 254.0, 438), ('SI40505ZC08-XT-I44401-13', 253.0, 439), ('SI40606ZC08-XT-I43502-29', 274.0, 296), ('SI40409Y043-XT-I42802-26', 273.0, 12)]]\n",
      "[[('SI40507ZC08-XT-I45401-21', 253.0, 440), ('SI40503ZC08-XT-I42601-42', 251.0, 445), ('SI40508ZC08-XT-I45201-32', 250.0, 446), ('SI40506ZC08-XT-I45801-04', 250.0, 447), ('SI40503ZC08-XT-I42601-23', 250.0, 448), ('SI40503ZC08-XT-I42601-32', 250.0, 449), ('SI40408Y042-XT-I44601-30', 283.0, 89), ('SI40606ZC08-XT-I43502-17', 283.0, 283)]]\n",
      "[[('SI40503ZC08-XT-I42601-47', 250.0, 450), ('SI40411Y045-XT-I44201-25', 250.0, 451), ('SI40502ZC08-XT-I44701-28', 249.0, 452), ('SI40503ZC08-XT-I42601-19', 245.0, 458), ('SI40505ZC08-XT-I44401-01', 244.0, 459), ('SI40606ZC08-XT-I43502-23', 283.0, 290), ('SI40408Y042-XT-I44601-15', 274.0, 74), ('SI40407Y041-XT-I43802-18', 274.0, 149)]]\n"
     ]
    }
   ],
   "source": [
    "x = input9[:]\n",
    "y = left_data_6[:]\n",
    "solution9_dict = {\"690*3\":[]}\n",
    "limit = 4\n",
    "lst = []\n",
    "target = 690*3\n",
    "time = 0\n",
    "while len(x) > 0 and len(y) > 0:\n",
    "        answer = sol2.combinationSum(x,y,target,0)\n",
    "        \n",
    "        if len(answer) == 0:\n",
    "            break\n",
    "        else:\n",
    "            time += 1\n",
    "                    \n",
    "        print answer\n",
    "        for i in answer:\n",
    "            solution9_dict[\"690*3\"].append(i)\n",
    "            for j in i:\n",
    "                if j in x:\n",
    "                    x.remove(j)\n",
    "                if j in y:\n",
    "                    y.remove(j)\n",
    "        \n",
    "        if time == int(limit):\n",
    "            break"
   ]
  },
  {
   "cell_type": "code",
   "execution_count": 120,
   "metadata": {},
   "outputs": [],
   "source": [
    "for i in solution9_dict[\"690*3\"]:\n",
    "    for j in i:\n",
    "        if j in input9:\n",
    "            input9.remove(j)\n",
    "        if j in left_data_6:\n",
    "            left_data_6.remove(j)"
   ]
  },
  {
   "cell_type": "code",
   "execution_count": 121,
   "metadata": {},
   "outputs": [
    {
     "name": "stdout",
     "output_type": "stream",
     "text": [
      "151 12\n"
     ]
    }
   ],
   "source": [
    "print len(input9),len(left_data_6)"
   ]
  },
  {
   "cell_type": "code",
   "execution_count": 122,
   "metadata": {},
   "outputs": [],
   "source": [
    "save_answer(solution9,9)"
   ]
  },
  {
   "cell_type": "code",
   "execution_count": 123,
   "metadata": {},
   "outputs": [
    {
     "name": "stdout",
     "output_type": "stream",
     "text": [
      "2\n",
      "2\n",
      "2\n",
      "3\n"
     ]
    }
   ],
   "source": [
    "save_answer_2(solution9_dict,9)"
   ]
  },
  {
   "cell_type": "markdown",
   "metadata": {},
   "source": [
    "# 第10组"
   ]
  },
  {
   "cell_type": "code",
   "execution_count": 144,
   "metadata": {},
   "outputs": [
    {
     "data": {
      "text/plain": [
       "163"
      ]
     },
     "execution_count": 144,
     "metadata": {},
     "output_type": "execute_result"
    }
   ],
   "source": [
    "input10 = [(input_dict[10][i][0],input_dict[10][i][1],i+1) for i in range(len(input_dict[10]))]\n",
    "left = left_data_6 + input9\n",
    "left_data_7 = [(left[i][0],left[i][1],300+i+1) for i in range(len(left))]\n",
    "len(left_data_7)"
   ]
  },
  {
   "cell_type": "code",
   "execution_count": 145,
   "metadata": {},
   "outputs": [
    {
     "name": "stdout",
     "output_type": "stream",
     "text": [
      "Cut one time\n",
      "[[('SI40405Y039-XT-I44902-33', 267.0, 343), ('SI40604ZC08-XT-I43602-01', 267.0, 344), ('SI40407Y041-XT-I43802-13', 267.0, 345), ('SI40603ZC08-XT-I44302-10', 291.0, 106), ('SI40603ZC08-XT-I44302-06', 288.0, 101)]]\n",
      "[[('SI40602ZC08-XT-I41102-28', 267.0, 346), ('SI40602ZC08-XT-I41102-41', 267.0, 347), ('SI40407Y041-XT-I43802-07', 266.0, 349), ('SI40603ZC08-XT-I44302-01', 291.0, 96), ('SI40603ZC08-XT-I44302-18', 288.0, 114)]]\n",
      "[[('SI40407Y041-XT-I43802-19', 266.0, 350), ('SI40407Y041-XT-I43802-25', 266.0, 351), ('SI40602ZC08-XT-I41102-01', 266.0, 352), ('SI40605ZC08-XT-I43702-36', 292.0, 39), ('SI40603ZC08-XT-I44302-30', 288.0, 126)]]\n",
      "[[('SI40602ZC08-XT-I41102-12', 266.0, 353), ('SI40602ZC08-XT-I41102-21', 266.0, 354), ('SI40602ZC08-XT-I41102-22', 264.0, 364), ('SI40605ZC08-XT-I43702-35', 296.0, 38), ('SI41102Y047-ZF-I40701-09', 288.0, 236)]]\n",
      "[[('SI40602ZC08-XT-I41102-48', 266.0, 355), ('SI40405Y039-XT-I44902-12', 265.0, 359), ('SI40405Y039-XT-I44902-17', 265.0, 360), ('SI40605ZC08-XT-I43702-26', 296.0, 29), ('SI41102Y047-ZF-I40701-42', 288.0, 273)]]\n",
      "[[('SI40405Y039-XT-I44902-27', 265.0, 361), ('SI40604ZC08-XT-I43602-17', 265.0, 362), ('SI40603ZC08-XT-I44302-19', 287.0, 115), ('SI41102Y047-ZF-I40701-13', 282.0, 240), ('SI40605ZC08-XT-I43702-15', 281.0, 18)]]\n",
      "[[('SI40602ZC08-XT-I41102-11', 265.0, 363), ('SI40602ZC08-XT-I41102-23', 264.0, 365), ('SI40603ZC08-XT-I44302-31', 287.0, 127), ('SI40605ZC08-XT-I43702-17', 282.0, 20), ('SI40603ZC08-XT-I44302-26', 282.0, 122)]]\n",
      "[[('SI40602ZC08-XT-I41102-37', 264.0, 366), ('SI40602ZC08-XT-I41102-47', 264.0, 367), ('SI40603ZC08-XT-I44302-13', 286.0, 109), ('SI40410Y044-XT-I45102-05', 283.0, 137), ('SI40410Y044-XT-I45102-23', 283.0, 155)]]\n",
      "[[('SI40405Y039-XT-I44902-19', 263.0, 368), ('SI40408Y042-XT-I44601-18', 263.0, 369), ('SI40603ZC08-XT-I44302-24', 286.0, 120), ('SI40410Y044-XT-I45102-12', 284.0, 144), ('SI40410Y044-XT-I45102-17', 284.0, 149)]]\n",
      "[[('SI40602ZC08-XT-I41102-05', 263.0, 370), ('SI40407Y041-XT-I43802-20', 262.0, 373), ('SI41102Y047-ZF-I40701-10', 286.0, 237), ('SI41102Y047-ZF-I40701-28', 285.0, 258), ('SI40410Y044-XT-I45102-24', 284.0, 156)]]\n",
      "[[('SI40407Y041-XT-I43802-22', 262.0, 374), ('SI40407Y041-XT-I43802-34', 262.0, 375), ('SI41102Y047-ZF-I40701-27', 286.0, 257), ('SI40606ZC08-XT-I43502-36', 285.0, 3), ('SI40410Y044-XT-I45102-18', 285.0, 150)]]\n"
     ]
    }
   ],
   "source": [
    "solution10 = show_690(input10,left_data_7,11)"
   ]
  },
  {
   "cell_type": "code",
   "execution_count": 146,
   "metadata": {},
   "outputs": [
    {
     "name": "stdout",
     "output_type": "stream",
     "text": [
      "Cut one time\n",
      "[[('SI40602ZC08-XT-I41102-06', 262.0, 376), ('SI41102Y047-ZF-I40701-20', 285.0, 248), ('SI41102Y047-ZF-I40701-02', 284.0, 228), ('SI41102Y047-ZF-I40701-43', 275.0, 274), ('SI40603ZC08-XT-I44302-20', 274.0, 116)]]\n",
      "[[('SI40602ZC08-XT-I41102-40', 262.0, 377), ('SI41102Y047-ZF-I40701-32', 284.0, 262), ('SI41102Y047-ZF-I40701-03', 283.0, 229), ('SI41104Y049-ZF-I40501-49', 276.0, 226), ('SI40606ZC08-XT-I43502-35', 275.0, 2)]]\n",
      "[[('SI40405Y039-XT-I44902-25', 261.0, 378), ('SI41102Y047-ZF-I40701-06', 283.0, 233), ('SI41102Y047-ZF-I40701-15', 283.0, 242), ('SI41104Y049-ZF-I40501-38', 277.0, 219), ('SI40605ZC08-XT-I43702-14', 276.0, 17)]]\n",
      "[[('SI40407Y041-XT-I43802-04', 261.0, 379), ('SI41102Y047-ZF-I40701-17', 283.0, 244), ('SI41102Y047-ZF-I40701-23', 283.0, 251), ('SI40601ZC08-XT-I41202-43', 277.0, 82), ('SI40605ZC08-XT-I43702-20', 276.0, 23)]]\n",
      "[[('SI40602ZC08-XT-I41102-36', 261.0, 380), ('SI41102Y047-ZF-I40701-24', 283.0, 252), ('SI41102Y047-ZF-I40701-35', 283.0, 265), ('SI40410Y044-XT-I45102-25', 276.0, 157), ('SI41104Y049-ZF-I40501-03', 276.0, 207)]]\n",
      "[[('SI40407Y041-XT-I43802-16', 260.0, 381), ('SI41102Y047-ZF-I40701-49', 283.0, 280), ('SI40603ZC08-XT-I44302-34', 282.0, 130), ('SI41102Y047-ZF-I40701-39', 278.0, 269), ('SI41104Y049-ZF-I40501-44', 276.0, 223)]]\n",
      "[[('SI40602ZC08-XT-I41102-17', 260.0, 382), ('SI40410Y044-XT-I45102-11', 282.0, 143), ('SI40410Y044-XT-I45102-29', 282.0, 161), ('SI40605ZC08-XT-I43702-21', 278.0, 24), ('SI40410Y044-XT-I45102-08', 278.0, 140)]]\n",
      "[[('SI40405Y039-XT-I44902-06', 259.0, 383), ('SI40410Y044-XT-I45102-30', 282.0, 162), ('SI41102Y047-ZF-I40701-08', 282.0, 235), ('SI40410Y044-XT-I45102-31', 279.0, 163), ('SI40410Y044-XT-I45102-20', 278.0, 152)]]\n",
      "[[('SI40405Y039-XT-I44902-08', 259.0, 384), ('SI40410Y044-XT-I45102-32', 281.0, 164), ('SI41102Y047-ZF-I40701-30', 281.0, 260), ('SI41102Y047-ZF-I40701-47', 280.0, 278), ('SI40603ZC08-XT-I44302-28', 279.0, 124)]]\n",
      "[[('SI40407Y041-XT-I43802-01', 259.0, 385), ('SI40605ZC08-XT-I43702-11', 280.0, 14), ('SI40603ZC08-XT-I44302-27', 280.0, 123), ('SI40603ZC08-XT-I44302-33', 280.0, 129), ('SI40603ZC08-XT-I44302-35', 280.0, 131)]]\n",
      "[[('SI40407Y041-XT-I43802-31', 259.0, 386), ('SI40410Y044-XT-I45102-01', 280.0, 133), ('SI40410Y044-XT-I45102-07', 280.0, 139), ('SI40410Y044-XT-I45102-19', 280.0, 151), ('SI41102Y047-ZF-I40701-11', 280.0, 238)]]\n",
      "[[('SI40602ZC08-XT-I41102-31', 259.0, 387), ('SI41102Y047-ZF-I40701-18', 280.0, 245), ('SI41102Y047-ZF-I40701-22', 280.0, 250), ('SI41102Y047-ZF-I40701-29', 280.0, 259), ('SI41102Y047-ZF-I40701-44', 280.0, 275)]]\n"
     ]
    }
   ],
   "source": [
    "x = input10[:70]\n",
    "y = left_data_7[:20]\n",
    "solution10_rest = show_690(x,y,12)\n",
    "\n",
    "\n",
    "for i in solution10_rest[\"690*2\"]:\n",
    "    solution10[\"690*2\"].append(i)\n",
    "\n",
    "for i in solution10_rest[\"690*2\"]:\n",
    "    for j in i:\n",
    "        if j in input10:\n",
    "            input10.remove(j)\n",
    "        if j in left_data_7:\n",
    "            left_data_7.remove(j)"
   ]
  },
  {
   "cell_type": "code",
   "execution_count": 147,
   "metadata": {},
   "outputs": [
    {
     "name": "stdout",
     "output_type": "stream",
     "text": [
      "131 61\n"
     ]
    }
   ],
   "source": [
    "print len(input10),len(left_data_7)"
   ]
  },
  {
   "cell_type": "code",
   "execution_count": 148,
   "metadata": {},
   "outputs": [
    {
     "data": {
      "text/plain": [
       "23"
      ]
     },
     "execution_count": 148,
     "metadata": {},
     "output_type": "execute_result"
    }
   ],
   "source": [
    "len(solution10[\"690*2\"])"
   ]
  },
  {
   "cell_type": "code",
   "execution_count": 150,
   "metadata": {},
   "outputs": [
    {
     "name": "stdout",
     "output_type": "stream",
     "text": [
      "[[('SI40602ZC08-XT-I41102-43', 259.0, 388), ('SI40407Y041-XT-I43802-14', 258.0, 389), ('SI40407Y041-XT-I43802-28', 258.0, 390), ('SI40602ZC08-XT-I41102-09', 258.0, 391), ('SI40602ZC08-XT-I41102-20', 258.0, 392), ('SI40602ZC08-XT-I41102-46', 258.0, 393), ('SI40504ZC08-XT-I42201-27', 242.0, 437), ('SI40603ZC08-XT-I44302-36', 279.0, 132)]]\n",
      "[[('SI40405Y039-XT-I44902-13', 257.0, 394), ('SI40602ZC08-XT-I41102-02', 257.0, 395), ('SI40602ZC08-XT-I41102-19', 257.0, 396), ('SI40407Y041-XT-I43802-10', 256.0, 398), ('SI40602ZC08-XT-I41102-15', 256.0, 399), ('SI40602ZC08-XT-I41102-39', 256.0, 400), ('SI40407Y041-XT-I43802-06', 252.0, 412), ('SI40410Y044-XT-I45102-13', 279.0, 145)]]\n",
      "[[('SI40602ZC08-XT-I41102-45', 256.0, 401), ('SI40405Y039-XT-I44902-36', 255.0, 402), ('SI40604ZC08-XT-I43602-35', 255.0, 403), ('SI40407Y041-XT-I43802-02', 255.0, 404), ('SI40407Y041-XT-I43802-05', 255.0, 405), ('SI40602ZC08-XT-I41102-27', 255.0, 406), ('SI40410Y044-XT-I45102-09', 270.0, 141), ('SI40603ZC08-XT-I44302-15', 269.0, 111)]]\n",
      "[[('SI40405Y039-XT-I44902-07', 254.0, 407), ('SI40604ZC08-XT-I43602-06', 254.0, 408), ('SI40602ZC08-XT-I41102-16', 254.0, 409), ('SI40504ZC08-XT-I42201-03', 253.0, 410), ('SI40602ZC08-XT-I41102-32', 253.0, 411), ('SI40504ZC08-XT-I42201-18', 252.0, 413), ('SI40603ZC08-XT-I44302-02', 275.0, 97), ('SI41104Y049-ZF-I40501-23', 275.0, 216)]]\n",
      "[[('SI40504ZC08-XT-I42201-42', 252.0, 414), ('SI40407Y041-XT-I43802-08', 251.0, 415), ('SI40407Y041-XT-I43802-11', 251.0, 416), ('SI40407Y041-XT-I43802-17', 251.0, 417), ('SI40407Y041-XT-I43802-23', 251.0, 418), ('SI40410Y044-XT-I45102-14', 279.0, 146), ('SI41104Y049-ZF-I40501-21', 268.0, 215), ('SI40601ZC08-XT-I41202-44', 267.0, 83)]]\n",
      "[[('SI40407Y041-XT-I43802-35', 251.0, 419), ('SI40504ZC08-XT-I42201-04', 250.0, 421), ('SI40602ZC08-XT-I41102-18', 250.0, 422), ('SI40602ZC08-XT-I41102-24', 250.0, 423), ('SI40604ZC08-XT-I43602-30', 249.0, 424), ('SI40410Y044-XT-I45102-26', 279.0, 158), ('SI41102Y047-ZF-I40701-01', 271.0, 227), ('SI40605ZC08-XT-I43702-16', 270.0, 19)]]\n",
      "[[('SI40504ZC08-XT-I42201-17', 249.0, 425), ('SI40602ZC08-XT-I41102-35', 249.0, 426), ('SI40602ZC08-XT-I41102-33', 247.0, 427), ('SI40606ZC08-XT-I43502-14', 247.0, 428), ('SI40606ZC08-XT-I43502-32', 247.0, 429), ('SI40410Y044-XT-I45102-36', 278.0, 168), ('SI41102Y047-ZF-I40701-31', 278.0, 261), ('SI40603ZC08-XT-I44302-32', 274.0, 128)]]\n",
      "[[('SI40604ZC08-XT-I43602-24', 246.0, 430), ('SI40504ZC08-XT-I42201-05', 246.0, 431), ('SI40504ZC08-XT-I42201-09', 244.0, 432), ('SI40504ZC08-XT-I42201-16', 244.0, 433), ('SI41102Y047-ZF-I40701-07', 278.0, 234), ('SI40410Y044-XT-I45102-03', 274.0, 135), ('SI41104Y049-ZF-I40501-06', 269.0, 209), ('SI40601ZC08-XT-I41202-22', 268.0, 61)]]\n"
     ]
    }
   ],
   "source": [
    "x = input10[:]\n",
    "y = left_data_7[:]\n",
    "solution10_dict = {\"690*3\":[]}\n",
    "limit = 8\n",
    "lst = []\n",
    "target = 690*3\n",
    "time = 0\n",
    "while len(x) > 0 and len(y) > 0:\n",
    "        answer = sol2.combinationSum(x,y,target,0)\n",
    "        \n",
    "        if len(answer) == 0:\n",
    "            break\n",
    "        else:\n",
    "            time += 1\n",
    "                    \n",
    "        print answer\n",
    "        for i in answer:\n",
    "            solution10_dict[\"690*3\"].append(i)\n",
    "            for j in i:\n",
    "                if j in x:\n",
    "                    x.remove(j)\n",
    "                if j in y:\n",
    "                    y.remove(j)\n",
    "        \n",
    "        if time == int(limit):\n",
    "            break"
   ]
  },
  {
   "cell_type": "code",
   "execution_count": 154,
   "metadata": {},
   "outputs": [],
   "source": [
    "for i in solution10_dict[\"690*3\"]:\n",
    "    for j in i:\n",
    "        if j in input10:\n",
    "            input10.remove(j)\n",
    "        if j in left_data_7:\n",
    "            left_data_7.remove(j)"
   ]
  },
  {
   "cell_type": "code",
   "execution_count": 160,
   "metadata": {},
   "outputs": [
    {
     "name": "stdout",
     "output_type": "stream",
     "text": [
      "112 16\n"
     ]
    }
   ],
   "source": [
    "print len(input10),len(left_data_7)"
   ]
  },
  {
   "cell_type": "code",
   "execution_count": 158,
   "metadata": {},
   "outputs": [],
   "source": [
    "save_answer(solution10,10)\n",
    "\n",
    "save_answer_2(solution10_dict,10)"
   ]
  },
  {
   "cell_type": "markdown",
   "metadata": {},
   "source": [
    "# 第11组"
   ]
  },
  {
   "cell_type": "code",
   "execution_count": 161,
   "metadata": {},
   "outputs": [
    {
     "data": {
      "text/plain": [
       "128"
      ]
     },
     "execution_count": 161,
     "metadata": {},
     "output_type": "execute_result"
    }
   ],
   "source": [
    "input11 = [(input_dict[11][i][0],input_dict[11][i][1],i+1) for i in range(len(input_dict[11]))]\n",
    "left = left_data_7 + input10\n",
    "left_data_8 = [(left[i][0],left[i][1],300+i+1) for i in range(len(left))]\n",
    "len(left_data_8)"
   ]
  },
  {
   "cell_type": "code",
   "execution_count": 162,
   "metadata": {},
   "outputs": [
    {
     "name": "stdout",
     "output_type": "stream",
     "text": [
      "Cut one time\n",
      "[[('SI41104Y049-ZF-I40501-05', 271.0, 326), ('SI41104Y049-ZF-I40501-07', 271.0, 327), ('SI41104Y049-ZF-I40501-36', 271.0, 328), ('SI41103Y048-ZF-I43001-44', 284.0, 242), ('SI41205ZC01-ZF-I45402-36', 283.0, 52)]]\n",
      "[[('SI41104Y049-ZF-I40501-37', 271.0, 329), ('SI41104Y049-ZF-I40501-41', 271.0, 330), ('SI40605ZC08-XT-I43702-31', 270.0, 331), ('SI41204ZC01-ZF-I45303-18', 284.0, 107), ('SI41302ZC01-ZF-I43703-08', 284.0, 133)]]\n",
      "[[('SI40603ZC08-XT-I44302-03', 270.0, 332), ('SI40603ZC08-XT-I44302-14', 270.0, 333), ('SI40603ZC08-XT-I44302-17', 270.0, 334), ('SI41204ZC01-ZF-I45303-27', 285.0, 116), ('SI41302ZC01-ZF-I43703-14', 285.0, 139)]]\n",
      "[[('SI40603ZC08-XT-I44302-21', 268.0, 335), ('SI41104Y049-ZF-I40501-02', 268.0, 336), ('SI41104Y049-ZF-I40501-20', 268.0, 337), ('SI41202ZC01-ZF-I44402-05', 288.0, 57), ('SI41204ZC01-ZF-I45303-33', 288.0, 122)]]\n",
      "[[('SI40601ZC08-XT-I41202-16', 266.0, 339), ('SI40601ZC08-XT-I41202-36', 266.0, 340), ('SI40410Y044-XT-I45102-15', 266.0, 341), ('SI41204ZC01-ZF-I45303-35', 291.0, 124), ('SI41204ZC01-ZF-I45303-21', 290.0, 110)]]\n",
      "[[('SI41104Y049-ZF-I40501-42', 266.0, 342), ('SI40601ZC08-XT-I41202-21', 265.0, 343), ('SI41104Y049-ZF-I40501-01', 265.0, 344), ('SI41205ZC01-ZF-I45402-33', 292.0, 49), ('SI41304ZC01-ZF-I45802-05', 292.0, 253)]]\n",
      "[[('SI41104Y049-ZF-I40501-14', 265.0, 345), ('SI40601ZC08-XT-I41202-11', 264.0, 346), ('SI41304ZC01-ZF-I45802-26', 293.0, 274), ('SI41202ZC01-ZF-I44402-11', 279.0, 63), ('SI41302ZC01-ZF-I43703-35', 279.0, 160)]]\n",
      "[[('SI40410Y044-XT-I45102-10', 264.0, 347), ('SI40605ZC08-XT-I43702-25', 263.0, 348), ('SI41204ZC01-ZF-I45303-29', 290.0, 118), ('SI41304ZC01-ZF-I45802-25', 282.0, 273), ('SI41302ZC01-ZF-I43703-20', 281.0, 145)]]\n",
      "[[('SI40601ZC08-XT-I41202-29', 263.0, 349), ('SI40601ZC08-XT-I41202-38', 263.0, 350), ('SI41304ZC01-ZF-I45802-27', 290.0, 275), ('SI41205ZC01-ZF-I45402-10', 282.0, 26), ('SI41202ZC01-ZF-I44402-15', 282.0, 67)]]\n",
      "[[('SI40601ZC08-XT-I41202-45', 263.0, 351), ('SI40601ZC08-XT-I41202-05', 262.0, 352), ('SI41304ZC01-ZF-I45802-32', 290.0, 281), ('SI41101Y046-ZF-I42401-14', 283.0, 299), ('SI41204ZC01-ZF-I45303-23', 282.0, 112)]]\n",
      "[[('SI40601ZC08-XT-I41202-08', 262.0, 353), ('SI40601ZC08-XT-I41202-14', 262.0, 354), ('SI41205ZC01-ZF-I45402-12', 289.0, 28), ('SI41103Y048-ZF-I43001-21', 284.0, 219), ('SI41204ZC01-ZF-I45303-24', 283.0, 113)]]\n",
      "[[('SI40601ZC08-XT-I41202-18', 262.0, 355), ('SI40410Y044-XT-I45102-21', 262.0, 356), ('SI41205ZC01-ZF-I45402-27', 289.0, 43), ('SI41302ZC01-ZF-I43703-18', 284.0, 143), ('SI41302ZC01-ZF-I43703-02', 283.0, 127)]]\n",
      "[[('SI41203ZC01-ZF-I44303-10', 262.0, 357), ('SI40601ZC08-XT-I41202-17', 261.0, 358), ('SI41204ZC01-ZF-I45303-15', 289.0, 104), ('SI41103Y048-ZF-I43001-42', 285.0, 240), ('SI41302ZC01-ZF-I43703-24', 283.0, 149)]]\n",
      "[[('SI40601ZC08-XT-I41202-41', 261.0, 359), ('SI41102Y047-ZF-I40701-21', 261.0, 360), ('SI41204ZC01-ZF-I45303-31', 289.0, 120), ('SI41103Y048-ZF-I43001-30', 285.0, 228), ('SI41302ZC01-ZF-I43703-30', 283.0, 155)]]\n",
      "[[('SI40601ZC08-XT-I41202-10', 260.0, 361), ('SI40601ZC08-XT-I41202-48', 260.0, 362), ('SI41303ZC01-ZF-I45202-02', 289.0, 163), ('SI41101Y046-ZF-I42401-06', 286.0, 291), ('SI41303ZC01-ZF-I45202-32', 285.0, 193)]]\n"
     ]
    }
   ],
   "source": [
    "solution11 = show_690(input11,left_data_8,15)"
   ]
  },
  {
   "cell_type": "code",
   "execution_count": 173,
   "metadata": {},
   "outputs": [
    {
     "name": "stdout",
     "output_type": "stream",
     "text": [
      "Cut one time\n",
      "[[('SI41104Y049-ZF-I40501-13', 260.0, 363), ('SI41102Y047-ZF-I40701-36', 260.0, 364), ('SI41304ZC01-ZF-I45802-08', 289.0, 256), ('SI41304ZC01-ZF-I45802-23', 286.0, 271), ('SI41103Y048-ZF-I43001-02', 285.0, 200)]]\n",
      "[[('SI41203ZC01-ZF-I44303-06', 260.0, 365), ('SI40410Y044-XT-I45102-28', 259.0, 366), ('SI41304ZC01-ZF-I45802-02', 288.0, 250), ('SI41103Y048-ZF-I43001-35', 287.0, 233), ('SI41205ZC01-ZF-I45402-06', 286.0, 22)]]\n",
      "[[('SI40601ZC08-XT-I41202-15', 258.0, 368), ('SI40601ZC08-XT-I41202-31', 258.0, 369), ('SI41304ZC01-ZF-I45802-34', 288.0, 283), ('SI41204ZC01-ZF-I45303-30', 287.0, 119), ('SI41204ZC01-ZF-I45303-36', 287.0, 125)]]\n",
      "[[('SI40601ZC08-XT-I41202-46', 258.0, 370), ('SI41303ZC01-ZF-I45202-08', 287.0, 169), ('SI41103Y048-ZF-I43001-12', 287.0, 210), ('SI41205ZC01-ZF-I45402-22', 274.0, 38), ('SI41205ZC01-ZF-I45402-34', 274.0, 50)]]\n",
      "[[('SI40410Y044-XT-I45102-27', 258.0, 371), ('SI41103Y048-ZF-I43001-03', 286.0, 201), ('SI41103Y048-ZF-I43001-05', 286.0, 203), ('SI41303ZC01-ZF-I45202-03', 275.0, 164), ('SI41103Y048-ZF-I43001-39', 275.0, 237)]]\n",
      "[[('SI41104Y049-ZF-I40501-43', 258.0, 372), ('SI41103Y048-ZF-I43001-06', 286.0, 204), ('SI41103Y048-ZF-I43001-13', 286.0, 211), ('SI41304ZC01-ZF-I45802-28', 275.0, 276), ('SI41103Y048-ZF-I43001-49', 274.0, 248)]]\n",
      "[[('SI40601ZC08-XT-I41202-02', 257.0, 373), ('SI41103Y048-ZF-I43001-16', 286.0, 214), ('SI41103Y048-ZF-I43001-22', 286.0, 220), ('SI41304ZC01-ZF-I45802-20', 276.0, 268), ('SI41304ZC01-ZF-I45802-09', 274.0, 257)]]\n",
      "[[('SI40601ZC08-XT-I41202-03', 257.0, 374), ('SI41103Y048-ZF-I43001-37', 286.0, 235), ('SI41103Y048-ZF-I43001-09', 285.0, 207), ('SI41205ZC01-ZF-I45402-24', 276.0, 40), ('SI41204ZC01-ZF-I45303-11', 276.0, 100)]]\n",
      "[[('SI40601ZC08-XT-I41202-24', 257.0, 375), ('SI41103Y048-ZF-I43001-45', 286.0, 243), ('SI41103Y048-ZF-I43001-17', 285.0, 215), ('SI41302ZC01-ZF-I43703-03', 276.0, 128), ('SI41302ZC01-ZF-I43703-11', 276.0, 136)]]\n",
      "[[('SI40601ZC08-XT-I41202-39', 257.0, 376), ('SI41103Y048-ZF-I43001-48', 286.0, 247), ('SI41103Y048-ZF-I43001-38', 283.0, 236), ('SI41302ZC01-ZF-I43703-32', 277.0, 157), ('SI41303ZC01-ZF-I45202-17', 277.0, 178)]]\n",
      "[[('SI40410Y044-XT-I45102-02', 257.0, 377), ('SI41101Y046-ZF-I42401-02', 283.0, 287), ('SI41101Y046-ZF-I42401-04', 283.0, 289), ('SI41304ZC01-ZF-I45802-31', 279.0, 280), ('SI41205ZC01-ZF-I45402-16', 278.0, 32)]]\n",
      "[[('SI41203ZC01-ZF-I44303-02', 257.0, 378), ('SI41303ZC01-ZF-I45202-35', 282.0, 196), ('SI41103Y048-ZF-I43001-04', 282.0, 202), ('SI41303ZC01-ZF-I45202-34', 280.0, 195), ('SI41303ZC01-ZF-I45202-07', 279.0, 168)]]\n",
      "[[('SI40605ZC08-XT-I43702-08', 256.0, 379), ('SI41103Y048-ZF-I43001-08', 282.0, 206), ('SI41103Y048-ZF-I43001-14', 282.0, 212), ('SI41303ZC01-ZF-I45202-23', 280.0, 184), ('SI41303ZC01-ZF-I45202-29', 280.0, 190)]]\n",
      "[[('SI40605ZC08-XT-I43702-27', 256.0, 380), ('SI41103Y048-ZF-I43001-36', 282.0, 234), ('SI41304ZC01-ZF-I45802-14', 281.0, 262), ('SI41304ZC01-ZF-I45802-17', 281.0, 265), ('SI41303ZC01-ZF-I45202-33', 280.0, 194)]]\n"
     ]
    }
   ],
   "source": [
    "x = input11[:70]\n",
    "y = left_data_8[:25]\n",
    "solution11_rest = show_690(x,y,14)\n",
    "\n",
    "\n",
    "for i in solution11_rest[\"690*2\"]:\n",
    "    solution11[\"690*2\"].append(i)\n",
    "\n",
    "for i in solution11_rest[\"690*2\"]:\n",
    "    for j in i:\n",
    "        if j in input11:\n",
    "            input11.remove(j)\n",
    "        if j in left_data_8:\n",
    "            left_data_8.remove(j)"
   ]
  },
  {
   "cell_type": "code",
   "execution_count": 174,
   "metadata": {},
   "outputs": [
    {
     "name": "stdout",
     "output_type": "stream",
     "text": [
      "159 32\n"
     ]
    }
   ],
   "source": [
    "print len(input11),len(left_data_8)"
   ]
  },
  {
   "cell_type": "code",
   "execution_count": 175,
   "metadata": {},
   "outputs": [
    {
     "data": {
      "text/plain": [
       "29"
      ]
     },
     "execution_count": 175,
     "metadata": {},
     "output_type": "execute_result"
    }
   ],
   "source": [
    "len(solution11[\"690*2\"])"
   ]
  },
  {
   "cell_type": "code",
   "execution_count": 177,
   "metadata": {},
   "outputs": [
    {
     "name": "stdout",
     "output_type": "stream",
     "text": [
      "[[('SI40605ZC08-XT-I43702-30', 256.0, 381), ('SI40608ZC08-XT-I43202-07', 256.0, 382), ('SI41102Y047-ZF-I40701-14', 256.0, 383), ('SI41102Y047-ZF-I40701-34', 256.0, 384), ('SI40601ZC08-XT-I41202-34', 255.0, 385), ('SI40601ZC08-XT-I41202-37', 255.0, 386), ('SI41104Y049-ZF-I40501-08', 255.0, 387), ('SI41205ZC01-ZF-I45402-29', 278.0, 45)]]\n",
      "[[('SI40410Y044-XT-I45102-22', 254.0, 388), ('SI41102Y047-ZF-I40701-33', 254.0, 389), ('SI40608ZC08-XT-I43202-05', 253.0, 391), ('SI41203ZC01-ZF-I44303-08', 253.0, 392), ('SI41203ZC01-ZF-I44303-11', 253.0, 393), ('SI40605ZC08-XT-I43702-32', 252.0, 394), ('SI41103Y048-ZF-I43001-46', 276.0, 244), ('SI41304ZC01-ZF-I45802-21', 274.0, 269)]]\n",
      "[[('SI41203ZC01-ZF-I44303-05', 252.0, 395), ('SI41203ZC01-ZF-I44303-17', 252.0, 396), ('SI41203ZC01-ZF-I44303-04', 250.0, 397), ('SI40605ZC08-XT-I43702-09', 249.0, 398), ('SI40605ZC08-XT-I43702-12', 249.0, 399), ('SI41205ZC01-ZF-I45402-35', 278.0, 51), ('SI41205ZC01-ZF-I45402-03', 270.0, 19), ('SI41205ZC01-ZF-I45402-05', 270.0, 21)]]\n",
      "[[('SI40601ZC08-XT-I41202-12', 249.0, 400), ('SI40601ZC08-XT-I41202-32', 247.0, 401), ('SI40605ZC08-XT-I43702-04', 246.0, 402), ('SI40601ZC08-XT-I41202-23', 246.0, 403), ('SI40410Y044-XT-I45102-06', 246.0, 404), ('SI41204ZC01-ZF-I45303-05', 278.0, 94), ('SI41302ZC01-ZF-I43703-04', 278.0, 129), ('SI41303ZC01-ZF-I45202-16', 278.0, 177)]]\n",
      "[[('SI41102Y047-ZF-I40701-37', 246.0, 405), ('SI40601ZC08-XT-I41202-25', 245.0, 406), ('SI40608ZC08-XT-I43202-11', 245.0, 407), ('SI40605ZC08-XT-I43702-33', 244.0, 408), ('SI41304ZC01-ZF-I45802-06', 278.0, 254), ('SI41304ZC01-ZF-I45802-11', 278.0, 259), ('SI41205ZC01-ZF-I45402-09', 267.0, 25), ('SI41202ZC01-ZF-I44402-09', 267.0, 61)]]\n",
      "[[('SI40608ZC08-XT-I43202-10', 244.0, 409), ('SI41203ZC01-ZF-I44303-03', 243.0, 410), ('SI40601ZC08-XT-I41202-33', 242.0, 411), ('SI40603ZC08-XT-I44302-25', 242.0, 412), ('SI41304ZC01-ZF-I45802-07', 277.0, 255), ('SI41304ZC01-ZF-I45802-13', 277.0, 261), ('SI41103Y048-ZF-I43001-43', 273.0, 241), ('SI41205ZC01-ZF-I45402-28', 272.0, 44)]]\n"
     ]
    }
   ],
   "source": [
    "x = input11[:]\n",
    "y = left_data_8[:]\n",
    "solution11_dict = {\"690*3\":[]}\n",
    "limit = 6\n",
    "lst = []\n",
    "target = 690*3\n",
    "time = 0\n",
    "while len(x) > 0 and len(y) > 0:\n",
    "        answer = sol2.combinationSum(x,y,target,0)\n",
    "        \n",
    "        if len(answer) == 0:\n",
    "            break\n",
    "        else:\n",
    "            time += 1\n",
    "                    \n",
    "        print answer\n",
    "        for i in answer:\n",
    "            solution11_dict[\"690*3\"].append(i)\n",
    "            for j in i:\n",
    "                if j in x:\n",
    "                    x.remove(j)\n",
    "                if j in y:\n",
    "                    y.remove(j)\n",
    "        \n",
    "        if time == int(limit):\n",
    "            break"
   ]
  },
  {
   "cell_type": "code",
   "execution_count": 178,
   "metadata": {},
   "outputs": [],
   "source": [
    "for i in solution11_dict[\"690*3\"]:\n",
    "    for j in i:\n",
    "        if j in input11:\n",
    "            input11.remove(j)\n",
    "        if j in left_data_8:\n",
    "            left_data_8.remove(j)"
   ]
  },
  {
   "cell_type": "code",
   "execution_count": 179,
   "metadata": {},
   "outputs": [
    {
     "name": "stdout",
     "output_type": "stream",
     "text": [
      "142 1\n"
     ]
    }
   ],
   "source": [
    "print len(input11),len(left_data_8)"
   ]
  },
  {
   "cell_type": "code",
   "execution_count": 180,
   "metadata": {},
   "outputs": [
    {
     "name": "stdout",
     "output_type": "stream",
     "text": [
      "1\n",
      "2\n",
      "3\n",
      "3\n",
      "4\n",
      "4\n"
     ]
    }
   ],
   "source": [
    "save_answer(solution11,11)\n",
    "\n",
    "save_answer_2(solution11_dict,11)"
   ]
  },
  {
   "cell_type": "markdown",
   "metadata": {},
   "source": [
    "# 第12组"
   ]
  },
  {
   "cell_type": "code",
   "execution_count": 183,
   "metadata": {},
   "outputs": [
    {
     "data": {
      "text/plain": [
       "143"
      ]
     },
     "execution_count": 183,
     "metadata": {},
     "output_type": "execute_result"
    }
   ],
   "source": [
    "input12 = [(input_dict[12][i][0],input_dict[12][i][1],i+1) for i in range(len(input_dict[12]))]\n",
    "left = left_data_8 + input11\n",
    "left_data_9 = [(left[i][0],left[i][1],300+i+1) for i in range(len(left))]\n",
    "len(left_data_9)"
   ]
  },
  {
   "cell_type": "code",
   "execution_count": 184,
   "metadata": {},
   "outputs": [
    {
     "name": "stdout",
     "output_type": "stream",
     "text": [
      "Cut one time\n",
      "[[('SI41205ZC01-ZF-I45402-30', 273.0, 311), ('SI41202ZC01-ZF-I44402-12', 272.0, 312), ('SI41202ZC01-ZF-I44402-34', 272.0, 313), ('SI41204ZC01-ZF-I45303-04', 272.0, 314), ('SI41313HG01-ZF-I44903-05', 290.0, 161)]]\n",
      "[[('SI41302ZC01-ZF-I43703-05', 272.0, 315), ('SI41302ZC01-ZF-I43703-09', 272.0, 316), ('SI41302ZC01-ZF-I43703-10', 272.0, 317), ('SI41302ZC01-ZF-I43703-31', 272.0, 318), ('SI41313HG01-ZF-I44903-11', 290.0, 167)]]\n",
      "[[('SI41303ZC01-ZF-I45202-09', 272.0, 319), ('SI41303ZC01-ZF-I45202-13', 272.0, 320), ('SI41303ZC01-ZF-I45202-25', 272.0, 321), ('SI41315HG01-ZF-I42902-13', 282.0, 133), ('SI41313HG01-ZF-I44903-33', 282.0, 189)]]\n",
      "[[('SI41303ZC01-ZF-I45202-26', 272.0, 322), ('SI41103Y048-ZF-I43001-28', 272.0, 323), ('SI41205ZC01-ZF-I45402-08', 271.0, 324), ('SI41313HG01-ZF-I44903-34', 283.0, 190), ('SI41101Y046-ZF-I42401-29', 281.0, 14)]]\n",
      "[[('SI41202ZC01-ZF-I44402-03', 271.0, 325), ('SI41204ZC01-ZF-I45303-26', 271.0, 326), ('SI41204ZC01-ZF-I45303-28', 271.0, 327), ('SI41101Y046-ZF-I42401-47', 284.0, 32), ('SI41101Y046-ZF-I42401-48', 283.0, 33)]]\n",
      "[[('SI41302ZC01-ZF-I43703-12', 271.0, 328), ('SI41303ZC01-ZF-I45202-20', 271.0, 329), ('SI41103Y048-ZF-I43001-23', 271.0, 330), ('SI41101Y046-ZF-I42401-39', 284.0, 24), ('SI41313HG01-ZF-I44903-04', 283.0, 160)]]\n",
      "[[('SI41202ZC01-ZF-I44402-28', 270.0, 331), ('SI41204ZC01-ZF-I45303-10', 270.0, 332), ('SI41302ZC01-ZF-I43703-07', 270.0, 333), ('SI41101Y046-ZF-I42401-34', 286.0, 19), ('SI41313HG01-ZF-I44903-14', 283.0, 170)]]\n",
      "[[('SI41302ZC01-ZF-I43703-27', 270.0, 334), ('SI41303ZC01-ZF-I45202-14', 270.0, 335), ('SI41302ZC01-ZF-I43703-19', 267.0, 354), ('SI41101Y046-ZF-I42401-38', 287.0, 23), ('SI41101Y046-ZF-I42401-30', 286.0, 15)]]\n",
      "[[('SI41303ZC01-ZF-I45202-19', 270.0, 336), ('SI41303ZC01-ZF-I45202-24', 270.0, 337), ('SI41303ZC01-ZF-I45202-27', 270.0, 338), ('SI41101Y046-ZF-I42401-35', 287.0, 20), ('SI41313HG01-ZF-I44903-10', 281.0, 166)]]\n",
      "[[('SI41303ZC01-ZF-I45202-36', 270.0, 339), ('SI41304ZC01-ZF-I45802-12', 270.0, 340), ('SI41205ZC01-ZF-I45402-15', 265.0, 359), ('SI41101Y046-ZF-I42401-41', 288.0, 26), ('SI41101Y046-ZF-I42401-31', 287.0, 16)]]\n",
      "[[('SI41204ZC01-ZF-I45303-02', 269.0, 341), ('SI41204ZC01-ZF-I45303-12', 269.0, 342), ('SI41205ZC01-ZF-I45402-21', 265.0, 360), ('SI41101Y046-ZF-I42401-32', 289.0, 17), ('SI41101Y046-ZF-I42401-33', 288.0, 18)]]\n",
      "[[('SI41302ZC01-ZF-I43703-17', 269.0, 343), ('SI41302ZC01-ZF-I43703-25', 269.0, 344), ('SI41313HG01-ZF-I44903-20', 281.0, 176), ('SI41305ZC01-ZF-I44702-29', 280.0, 62), ('SI41315HG01-ZF-I42902-27', 280.0, 147)]]\n"
     ]
    }
   ],
   "source": [
    "solution12 = show_690(input12,left_data_9,12)"
   ]
  },
  {
   "cell_type": "code",
   "execution_count": 189,
   "metadata": {},
   "outputs": [
    {
     "name": "stdout",
     "output_type": "stream",
     "text": [
      "Cut one time\n",
      "[[('SI41302ZC01-ZF-I43703-33', 269.0, 345), ('SI41313HG01-ZF-I44903-08', 280.0, 164), ('SI41101Y046-ZF-I42401-46', 279.0, 31), ('SI41101Y046-ZF-I42401-37', 276.0, 22), ('SI41315HG01-ZF-I42902-20', 276.0, 140)]]\n",
      "[[('SI41103Y048-ZF-I43001-11', 269.0, 346), ('SI41101Y046-ZF-I42401-49', 278.0, 34), ('SI41315HG01-ZF-I42902-16', 278.0, 136), ('SI41313HG01-ZF-I44903-35', 278.0, 191), ('SI41315HG01-ZF-I42902-25', 277.0, 145)]]\n",
      "[[('SI41103Y048-ZF-I43001-29', 269.0, 347), ('SI41315HG01-ZF-I42902-19', 278.0, 139), ('SI41315HG01-ZF-I42902-33', 278.0, 153), ('SI41313HG01-ZF-I44903-27', 278.0, 183), ('SI41313HG01-ZF-I44903-02', 277.0, 158)]]\n"
     ]
    }
   ],
   "source": [
    "x = input12[:70]\n",
    "y = left_data_9[:20]\n",
    "solution12_rest = show_690(x,y,3)\n",
    "\n",
    "for i in solution12_rest[\"690*2\"]:\n",
    "    solution12[\"690*2\"].append(i)\n",
    "\n",
    "for i in solution12_rest[\"690*2\"]:\n",
    "    for j in i:\n",
    "        if j in input12:\n",
    "            input12.remove(j)\n",
    "        if j in left_data_9:\n",
    "            left_data_9.remove(j)"
   ]
  },
  {
   "cell_type": "code",
   "execution_count": 190,
   "metadata": {},
   "outputs": [
    {
     "name": "stdout",
     "output_type": "stream",
     "text": [
      "212 77\n"
     ]
    }
   ],
   "source": [
    "print len(input12),len(left_data_9)"
   ]
  },
  {
   "cell_type": "code",
   "execution_count": 201,
   "metadata": {},
   "outputs": [
    {
     "name": "stdout",
     "output_type": "stream",
     "text": [
      "[[('SI41304ZC01-ZF-I45802-22', 269.0, 348), ('SI41205ZC01-ZF-I45402-01', 268.0, 349), ('SI41202ZC01-ZF-I44402-04', 268.0, 350), ('SI41204ZC01-ZF-I45303-32', 268.0, 351), ('SI41204ZC01-ZF-I45303-34', 268.0, 352), ('SI41302ZC01-ZF-I43703-22', 268.0, 353), ('SI41201ZR01-ZF-I42202-35', 231.0, 106), ('SI41305ZC01-ZF-I44702-13', 230.0, 47)]]\n",
      "[[('SI41202ZC01-ZF-I44402-17', 266.0, 356), ('SI41204ZC01-ZF-I45303-07', 266.0, 357), ('SI41303ZC01-ZF-I45202-30', 266.0, 358), ('SI41202ZC01-ZF-I44402-22', 265.0, 361), ('SI41202ZC01-ZF-I44402-35', 265.0, 362), ('SI41302ZC01-ZF-I43703-01', 265.0, 363), ('SI41101Y046-ZF-I42401-03', 238.0, 434), ('SI41204ZC01-ZF-I45303-19', 236.0, 436)]]\n",
      "[[('SI41303ZC01-ZF-I45202-18', 265.0, 364), ('SI41303ZC01-ZF-I45202-21', 265.0, 365), ('SI41303ZC01-ZF-I45202-31', 265.0, 366), ('SI41304ZC01-ZF-I45802-01', 265.0, 367), ('SI41205ZC01-ZF-I45402-20', 264.0, 368), ('SI41302ZC01-ZF-I43703-06', 264.0, 369), ('SI41302ZC01-ZF-I43703-23', 242.0, 430), ('SI41204ZC01-ZF-I45303-25', 240.0, 431)]]\n",
      "[[('SI41304ZC01-ZF-I45802-24', 264.0, 370), ('SI41205ZC01-ZF-I45402-19', 263.0, 371), ('SI41202ZC01-ZF-I44402-10', 263.0, 372), ('SI41302ZC01-ZF-I43703-16', 263.0, 373), ('SI41101Y046-ZF-I42401-07', 263.0, 374), ('SI41205ZC01-ZF-I45402-07', 262.0, 375), ('SI41204ZC01-ZF-I45303-20', 246.0, 422), ('SI41202ZC01-ZF-I44402-33', 245.0, 423)]]\n",
      "[[('SI41202ZC01-ZF-I44402-23', 262.0, 376), ('SI41303ZC01-ZF-I45202-04', 262.0, 377), ('SI41205ZC01-ZF-I45402-25', 261.0, 378), ('SI41202ZC01-ZF-I44402-29', 261.0, 379), ('SI41204ZC01-ZF-I45303-22', 261.0, 380), ('SI41205ZC01-ZF-I45402-23', 260.0, 381), ('SI41101Y046-ZF-I42401-01', 252.0, 414), ('SI41205ZC01-ZF-I45402-31', 251.0, 415)]]\n",
      "[[('SI41204ZC01-ZF-I45303-01', 260.0, 382), ('SI41204ZC01-ZF-I45303-03', 260.0, 383), ('SI41204ZC01-ZF-I45303-09', 260.0, 384), ('SI41302ZC01-ZF-I43703-13', 260.0, 385), ('SI41303ZC01-ZF-I45202-10', 260.0, 386), ('SI41304ZC01-ZF-I45802-04', 260.0, 387), ('SI41203ZC01-ZF-I44303-23', 255.0, 400), ('SI41202ZC01-ZF-I44402-02', 255.0, 401)]]\n",
      "[[('SI41304ZC01-ZF-I45802-16', 260.0, 388), ('SI41103Y048-ZF-I43001-07', 259.0, 389), ('SI41205ZC01-ZF-I45402-13', 258.0, 390), ('SI41205ZC01-ZF-I45402-17', 258.0, 391), ('SI41202ZC01-ZF-I44402-26', 258.0, 392), ('SI41202ZC01-ZF-I44402-32', 258.0, 393), ('SI41303ZC01-ZF-I45202-01', 258.0, 394), ('SI41304ZC01-ZF-I45802-19', 258.0, 395)]]\n",
      "[[('SI41101Y046-ZF-I42401-13', 257.0, 396), ('SI41303ZC01-ZF-I45202-05', 256.0, 398), ('SI41303ZC01-ZF-I45202-12', 256.0, 399), ('SI41202ZC01-ZF-I44402-06', 255.0, 402), ('SI41303ZC01-ZF-I45202-11', 255.0, 403), ('SI41103Y048-ZF-I43001-41', 255.0, 404), ('SI41304ZC01-ZF-I45802-03', 255.0, 405), ('SI41313HG01-ZF-I44903-15', 278.0, 171)]]\n",
      "[[('SI41101Y046-ZF-I42401-09', 255.0, 406), ('SI41302ZC01-ZF-I43703-15', 254.0, 408), ('SI41302ZC01-ZF-I43703-21', 254.0, 409), ('SI41304ZC01-ZF-I45802-10', 254.0, 410), ('SI41302ZC01-ZF-I43703-28', 253.0, 412), ('SI41304ZC01-ZF-I45802-35', 251.0, 416), ('SI41101Y046-ZF-I42401-23', 275.0, 8), ('SI41101Y046-ZF-I42401-44', 274.0, 29)]]\n",
      "[[('SI41103Y048-ZF-I43001-10', 245.0, 424), ('SI41304ZC01-ZF-I45802-29', 245.0, 425), ('SI41101Y046-ZF-I42401-05', 244.0, 427), ('SI41205ZC01-ZF-I45402-26', 243.0, 428), ('SI41313HG01-ZF-I44903-25', 278.0, 181), ('SI41315HG01-ZF-I42902-22', 276.0, 142), ('SI41312HG01-ZF-I44202-31', 270.0, 223), ('SI41305ZC01-ZF-I44702-17', 269.0, 51)]]\n"
     ]
    }
   ],
   "source": [
    "x = input12[:]\n",
    "y = left_data_9[:]\n",
    "solution12_dict = {\"690*3\":[]}\n",
    "limit = 10\n",
    "lst = []\n",
    "target = 690*3\n",
    "time = 0\n",
    "while len(x) > 0 and len(y) > 0:\n",
    "        answer = sol2.combinationSum(x,y,target,0)\n",
    "        \n",
    "        if len(answer) == 0:\n",
    "            break\n",
    "        else:\n",
    "            time += 1\n",
    "                    \n",
    "        print answer\n",
    "        for i in answer:\n",
    "            solution12_dict[\"690*3\"].append(i)\n",
    "            for j in i:\n",
    "                if j in x:\n",
    "                    x.remove(j)\n",
    "                if j in y:\n",
    "                    y.remove(j)\n",
    "        \n",
    "        if time == int(limit):\n",
    "            break"
   ]
  },
  {
   "cell_type": "code",
   "execution_count": 202,
   "metadata": {},
   "outputs": [],
   "source": [
    "for i in solution12_dict[\"690*3\"]:\n",
    "    for j in i:\n",
    "        if j in input12:\n",
    "            input12.remove(j)\n",
    "        if j in left_data_9:\n",
    "            left_data_9.remove(j)"
   ]
  },
  {
   "cell_type": "code",
   "execution_count": 203,
   "metadata": {},
   "outputs": [
    {
     "name": "stdout",
     "output_type": "stream",
     "text": [
      "203 6\n"
     ]
    }
   ],
   "source": [
    "print len(input12),len(left_data_9)"
   ]
  },
  {
   "cell_type": "code",
   "execution_count": 204,
   "metadata": {},
   "outputs": [
    {
     "name": "stdout",
     "output_type": "stream",
     "text": [
      "2\n",
      "0\n",
      "0\n",
      "0\n",
      "0\n",
      "0\n",
      "0\n",
      "1\n",
      "2\n",
      "4\n"
     ]
    }
   ],
   "source": [
    "save_answer(solution12,12)\n",
    "save_answer_2(solution12_dict,12)"
   ]
  },
  {
   "cell_type": "markdown",
   "metadata": {},
   "source": [
    "# 第13组"
   ]
  },
  {
   "cell_type": "code",
   "execution_count": 280,
   "metadata": {},
   "outputs": [
    {
     "data": {
      "text/plain": [
       "209"
      ]
     },
     "execution_count": 280,
     "metadata": {},
     "output_type": "execute_result"
    }
   ],
   "source": [
    "input13 = [(input_dict[13][i][0],input_dict[13][i][1],i+1) for i in range(len(input_dict[13]))]\n",
    "left = left_data_9 + input12\n",
    "left_data_10 = [(left[i][0],left[i][1],300+i+1) for i in range(len(left))]\n",
    "len(left_data_10)"
   ]
  },
  {
   "cell_type": "code",
   "execution_count": 281,
   "metadata": {},
   "outputs": [
    {
     "name": "stdout",
     "output_type": "stream",
     "text": [
      "Cut one time\n",
      "[[('SI41313HG01-ZF-I44903-13', 276.0, 308), ('SI41313HG01-ZF-I44903-19', 276.0, 309), ('SI41313HG01-ZF-I44903-21', 276.0, 310), ('SI41301ZC01-ZF-I41103-08', 252.0, 436), ('SI41403HG01-ZF-I45103-29', 300.0, 186)]]\n",
      "[[('SI41313HG01-ZF-I44903-26', 274.0, 311), ('SI41314HG01-ZF-I43803-02', 274.0, 312), ('SI41305ZC01-ZF-I44702-01', 272.0, 313), ('SI41305ZC01-ZF-I44702-25', 260.0, 382), ('SI41404HG01-ZF-I44602-10', 300.0, 203)]]\n",
      "[[('SI41305ZC01-ZF-I44702-23', 272.0, 314), ('SI41315HG01-ZF-I42902-14', 272.0, 315), ('SI41315HG01-ZF-I42902-35', 272.0, 316), ('SI41315HG01-ZF-I42902-32', 265.0, 353), ('SI41404HG01-ZF-I44602-28', 299.0, 221)]]\n",
      "[[('SI41313HG01-ZF-I44903-06', 272.0, 317), ('SI41101Y046-ZF-I42401-24', 271.0, 318), ('SI41315HG01-ZF-I42902-29', 271.0, 319), ('SI41101Y046-ZF-I42401-28', 267.0, 343), ('SI41404HG01-ZF-I44602-34', 299.0, 227)]]\n",
      "[[('SI41313HG01-ZF-I44903-07', 271.0, 320), ('SI41313HG01-ZF-I44903-16', 271.0, 321), ('SI41313HG01-ZF-I44903-32', 271.0, 322), ('SI41313HG01-ZF-I44903-29', 269.0, 335), ('SI41407ZC01-ZF-I43503-27', 298.0, 76)]]\n",
      "[[('SI41313HG01-ZF-I44903-36', 271.0, 323), ('SI41312HG01-ZF-I44202-33', 271.0, 324), ('SI41312HG01-ZF-I44202-34', 271.0, 325), ('SI41101Y046-ZF-I42401-36', 270.0, 328), ('SI41402HG01-ZF-I45502-34', 297.0, 119)]]\n",
      "[[('SI41314HG01-ZF-I43803-07', 271.0, 326), ('SI41314HG01-ZF-I43803-08', 271.0, 327), ('SI41315HG01-ZF-I42902-06', 270.0, 329), ('SI41315HG01-ZF-I42902-11', 270.0, 330), ('SI41403HG01-ZF-I45103-18', 297.0, 175)]]\n",
      "[[('SI41313HG01-ZF-I44903-03', 270.0, 331), ('SI41313HG01-ZF-I44903-09', 270.0, 332), ('SI41312HG01-ZF-I44202-09', 270.0, 333), ('SI41407ZC01-ZF-I43503-28', 285.0, 77), ('SI41402HG01-ZF-I45502-05', 285.0, 90)]]\n",
      "[[('SI41312HG01-ZF-I44202-27', 270.0, 334), ('SI41315HG01-ZF-I42902-04', 268.0, 336), ('SI41315HG01-ZF-I42902-26', 268.0, 337), ('SI41316HG01-ZF-I42803-05', 287.0, 18), ('SI41316HG01-ZF-I42803-18', 287.0, 31)]]\n",
      "[[('SI41312HG01-ZF-I44202-28', 268.0, 338), ('SI41312HG01-ZF-I44202-32', 268.0, 339), ('SI41301ZC01-ZF-I41103-43', 268.0, 340), ('SI41316HG01-ZF-I42803-30', 288.0, 43), ('SI41402HG01-ZF-I45502-30', 288.0, 115)]]\n",
      "[[('SI41314HG01-ZF-I43803-03', 268.0, 341), ('SI41314HG01-ZF-I43803-09', 268.0, 342), ('SI41305ZC01-ZF-I44702-04', 267.0, 344), ('SI41406ZC01-ZF-I43603-19', 289.0, 248), ('SI41404HG01-ZF-I44602-27', 288.0, 220)]]\n",
      "[[('SI41315HG01-ZF-I42902-12', 267.0, 345), ('SI41301ZC01-ZF-I41103-21', 267.0, 346), ('SI41314HG01-ZF-I43803-06', 267.0, 347), ('SI41404HG01-ZF-I44602-15', 290.0, 208), ('SI41316HG01-ZF-I42803-24', 289.0, 37)]]\n",
      "[[('SI41101Y046-ZF-I42401-27', 266.0, 348), ('SI41305ZC01-ZF-I44702-08', 266.0, 349), ('SI41305ZC01-ZF-I44702-34', 266.0, 350), ('SI41403HG01-ZF-I45103-16', 291.0, 173), ('SI41403HG01-ZF-I45103-17', 291.0, 174)]]\n",
      "[[('SI41312HG01-ZF-I44202-12', 266.0, 351), ('SI41314HG01-ZF-I43803-23', 266.0, 352), ('SI41312HG01-ZF-I44202-03', 265.0, 354), ('SI41404HG01-ZF-I44602-05', 292.0, 198), ('SI41403HG01-ZF-I45103-22', 291.0, 179)]]\n",
      "[[('SI41312HG01-ZF-I44202-26', 265.0, 355), ('SI41301ZC01-ZF-I41103-02', 265.0, 356), ('SI41301ZC01-ZF-I41103-13', 265.0, 357), ('SI41404HG01-ZF-I44602-20', 293.0, 213), ('SI41407ZC01-ZF-I43503-31', 292.0, 80)]]\n",
      "[[('SI41301ZC01-ZF-I41103-14', 265.0, 358), ('SI41101Y046-ZF-I42401-25', 264.0, 359), ('SI41315HG01-ZF-I42902-24', 264.0, 360), ('SI41404HG01-ZF-I44602-29', 294.0, 222), ('SI41407ZC01-ZF-I43503-33', 293.0, 82)]]\n",
      "[[('SI41315HG01-ZF-I42902-30', 264.0, 361), ('SI41301ZC01-ZF-I41103-22', 264.0, 362), ('SI41314HG01-ZF-I43803-17', 264.0, 363), ('SI41402HG01-ZF-I45502-28', 294.0, 113), ('SI41403HG01-ZF-I45103-28', 294.0, 185)]]\n",
      "[[('SI41305ZC01-ZF-I44702-32', 263.0, 364), ('SI41315HG01-ZF-I42902-10', 263.0, 365), ('SI41315HG01-ZF-I42902-18', 263.0, 366), ('SI41404HG01-ZF-I44602-12', 296.0, 205), ('SI41403HG01-ZF-I45103-30', 295.0, 187)]]\n",
      "[[('SI41312HG01-ZF-I44202-01', 263.0, 367), ('SI41312HG01-ZF-I44202-13', 263.0, 368), ('SI41312HG01-ZF-I44202-20', 263.0, 369), ('SI41404HG01-ZF-I44602-02', 296.0, 195), ('SI41404HG01-ZF-I44602-11', 295.0, 204)]]\n",
      "[[('SI41312HG01-ZF-I44202-25', 263.0, 370), ('SI41314HG01-ZF-I43803-12', 263.0, 371), ('SI41305ZC01-ZF-I44702-31', 262.0, 372), ('SI41403HG01-ZF-I45103-14', 296.0, 171), ('SI41404HG01-ZF-I44602-14', 295.0, 207)]]\n",
      "[[('SI41313HG01-ZF-I44903-12', 262.0, 373), ('SI41312HG01-ZF-I44202-14', 262.0, 374), ('SI41301ZC01-ZF-I41103-06', 262.0, 375), ('SI41403HG01-ZF-I45103-35', 297.0, 192), ('SI41404HG01-ZF-I44602-35', 295.0, 228)]]\n",
      "[[('SI41301ZC01-ZF-I41103-07', 262.0, 376), ('SI41301ZC01-ZF-I41103-29', 262.0, 377), ('SI41403HG01-ZF-I45103-34', 294.0, 191), ('SI41402HG01-ZF-I45502-11', 281.0, 96), ('SI41403HG01-ZF-I45103-04', 281.0, 161)]]\n"
     ]
    }
   ],
   "source": [
    "solution13 = show_690(input13,left_data_10,22)"
   ]
  },
  {
   "cell_type": "code",
   "execution_count": 282,
   "metadata": {},
   "outputs": [
    {
     "name": "stdout",
     "output_type": "stream",
     "text": [
      "247 128\n"
     ]
    }
   ],
   "source": [
    "print len(input13),len(left_data_10)"
   ]
  },
  {
   "cell_type": "code",
   "execution_count": 283,
   "metadata": {},
   "outputs": [
    {
     "name": "stdout",
     "output_type": "stream",
     "text": [
      "Cut one time\n",
      "[[('SI41305ZC01-ZF-I44702-02', 261.0, 378), ('SI41315HG01-ZF-I42902-17', 261.0, 379), ('SI41404HG01-ZF-I44602-07', 294.0, 200), ('SI41316HG01-ZF-I42803-02', 282.0, 15), ('SI41316HG01-ZF-I42803-04', 282.0, 17)]]\n",
      "[[('SI41313HG01-ZF-I44903-31', 261.0, 380), ('SI41301ZC01-ZF-I41103-20', 261.0, 381), ('SI41403HG01-ZF-I45103-20', 293.0, 177), ('SI41401HG01-ZF-I42702-29', 283.0, 150), ('SI41316HG01-ZF-I42803-35', 282.0, 48)]]\n",
      "[[('SI41315HG01-ZF-I42902-01', 260.0, 383), ('SI41315HG01-ZF-I42902-02', 260.0, 384), ('SI41404HG01-ZF-I44602-08', 293.0, 201), ('SI41404HG01-ZF-I44602-16', 284.0, 209), ('SI41316HG01-ZF-I42803-28', 283.0, 41)]]\n",
      "[[('SI41315HG01-ZF-I42902-03', 260.0, 385), ('SI41315HG01-ZF-I42902-07', 260.0, 386), ('SI41403HG01-ZF-I45103-33', 292.0, 190), ('SI41316HG01-ZF-I42803-34', 284.0, 47), ('SI41402HG01-ZF-I45502-14', 284.0, 99)]]\n",
      "[[('SI41315HG01-ZF-I42902-08', 260.0, 387), ('SI41301ZC01-ZF-I41103-12', 260.0, 388), ('SI41403HG01-ZF-I45103-27', 291.0, 184), ('SI41404HG01-ZF-I44602-33', 285.0, 226), ('SI41401HG01-ZF-I42702-35', 284.0, 156)]]\n",
      "[[('SI41301ZC01-ZF-I41103-36', 260.0, 389), ('SI41301ZC01-ZF-I41103-45', 260.0, 390), ('SI41403HG01-ZF-I45103-12', 290.0, 169), ('SI41403HG01-ZF-I45103-08', 285.0, 165), ('SI41407ZC01-ZF-I43503-20', 283.0, 69)]]\n",
      "[[('SI41314HG01-ZF-I43803-04', 260.0, 391), ('SI41314HG01-ZF-I43803-05', 260.0, 392), ('SI41403HG01-ZF-I45103-15', 290.0, 172), ('SI41406ZC01-ZF-I43603-25', 286.0, 254), ('SI41404HG01-ZF-I44602-25', 282.0, 218)]]\n",
      "[[('SI41314HG01-ZF-I43803-11', 260.0, 393), ('SI41301ZC01-ZF-I41103-03', 259.0, 394), ('SI41407ZC01-ZF-I43503-34', 289.0, 83), ('SI41316HG01-ZF-I42803-31', 286.0, 44), ('SI41402HG01-ZF-I45502-20', 286.0, 105)]]\n",
      "[[('SI41301ZC01-ZF-I41103-19', 259.0, 395), ('SI41301ZC01-ZF-I41103-41', 259.0, 396), ('SI41403HG01-ZF-I45103-23', 290.0, 180), ('SI41403HG01-ZF-I45103-03', 286.0, 160), ('SI41403HG01-ZF-I45103-07', 286.0, 164)]]\n",
      "[[('SI41301ZC01-ZF-I41103-48', 259.0, 397), ('SI41101Y046-ZF-I42401-16', 258.0, 398), ('SI41402HG01-ZF-I45502-18', 289.0, 103), ('SI41402HG01-ZF-I45502-24', 287.0, 109), ('SI41403HG01-ZF-I45103-21', 287.0, 178)]]\n",
      "[[('SI41305ZC01-ZF-I44702-19', 258.0, 399), ('SI41201ZR01-ZF-I42202-07', 258.0, 400), ('SI41403HG01-ZF-I45103-02', 289.0, 159), ('SI41406ZC01-ZF-I43603-13', 288.0, 242), ('SI41403HG01-ZF-I45103-26', 287.0, 183)]]\n",
      "[[('SI41315HG01-ZF-I42902-09', 258.0, 401), ('SI41312HG01-ZF-I44202-24', 258.0, 402), ('SI41404HG01-ZF-I44602-21', 289.0, 214), ('SI41403HG01-ZF-I45103-32', 287.0, 189), ('SI41404HG01-ZF-I44602-03', 287.0, 196)]]\n",
      "[[('SI41301ZC01-ZF-I41103-15', 258.0, 403), ('SI41404HG01-ZF-I44602-06', 287.0, 199), ('SI41403HG01-ZF-I45103-36', 281.0, 193), ('SI41314HG01-ZF-I43803-35', 277.0, 12), ('SI41316HG01-ZF-I42803-27', 277.0, 40)]]\n",
      "[[('SI41301ZC01-ZF-I41103-47', 258.0, 404), ('SI41404HG01-ZF-I44602-36', 287.0, 229), ('SI41404HG01-ZF-I44602-19', 281.0, 212), ('SI41407ZC01-ZF-I43503-13', 277.0, 62), ('SI41401HG01-ZF-I42702-22', 277.0, 143)]]\n",
      "[[('SI41305ZC01-ZF-I44702-12', 257.0, 405), ('SI41404HG01-ZF-I44602-09', 286.0, 202), ('SI41404HG01-ZF-I44602-22', 281.0, 215), ('SI41316HG01-ZF-I42803-16', 278.0, 29), ('SI41316HG01-ZF-I42803-22', 278.0, 35)]]\n",
      "[[('SI41315HG01-ZF-I42902-28', 257.0, 406), ('SI41404HG01-ZF-I44602-26', 286.0, 219), ('SI41316HG01-ZF-I42803-08', 280.0, 21), ('SI41406ZC01-ZF-I43603-31', 279.0, 260), ('SI41316HG01-ZF-I42803-33', 278.0, 46)]]\n"
     ]
    }
   ],
   "source": [
    "x = input13[:80]\n",
    "y = left_data_10[:35]\n",
    "solution13_rest = show_690(x,y,16)\n",
    "\n",
    "for i in solution13_rest[\"690*2\"]:\n",
    "    solution13[\"690*2\"].append(i)\n",
    "\n",
    "\n",
    "for i in solution13_rest[\"690*2\"]:\n",
    "    for j in i:\n",
    "        if j in input13:\n",
    "            input13.remove(j)\n",
    "        if j in left_data_10:\n",
    "            left_data_10.remove(j)"
   ]
  },
  {
   "cell_type": "code",
   "execution_count": 284,
   "metadata": {},
   "outputs": [
    {
     "name": "stdout",
     "output_type": "stream",
     "text": [
      "195 100\n"
     ]
    }
   ],
   "source": [
    "print len(input13),len(left_data_10)"
   ]
  },
  {
   "cell_type": "code",
   "execution_count": 285,
   "metadata": {},
   "outputs": [
    {
     "data": {
      "text/plain": [
       "38"
      ]
     },
     "execution_count": 285,
     "metadata": {},
     "output_type": "execute_result"
    }
   ],
   "source": [
    "len(solution13[\"690*2\"])"
   ]
  },
  {
   "cell_type": "code",
   "execution_count": 286,
   "metadata": {},
   "outputs": [
    {
     "name": "stdout",
     "output_type": "stream",
     "text": [
      "195 100\n",
      "[[('SI41315HG01-ZF-I42902-36', 257.0, 407), ('SI41312HG01-ZF-I44202-15', 257.0, 408), ('SI41301ZC01-ZF-I41103-38', 257.0, 409), ('SI41301ZC01-ZF-I41103-46', 257.0, 410), ('SI41314HG01-ZF-I43803-10', 257.0, 411), ('SI41305ZC01-ZF-I44702-22', 256.0, 412), ('SI41201ZR01-ZF-I42202-16', 249.0, 454), ('SI41316HG01-ZF-I42803-11', 280.0, 24)]]\n",
      "[[('SI41313HG01-ZF-I44903-01', 256.0, 413), ('SI41313HG01-ZF-I44903-17', 256.0, 414), ('SI41312HG01-ZF-I44202-07', 256.0, 415), ('SI41312HG01-ZF-I44202-10', 256.0, 416), ('SI41312HG01-ZF-I44202-21', 256.0, 417), ('SI41301ZC01-ZF-I41103-40', 256.0, 418), ('SI41312HG01-ZF-I44202-29', 254.0, 427), ('SI41316HG01-ZF-I42803-12', 280.0, 25)]]\n",
      "[[('SI41314HG01-ZF-I43803-13', 256.0, 419), ('SI41314HG01-ZF-I43803-15', 256.0, 420), ('SI41305ZC01-ZF-I44702-28', 255.0, 421), ('SI41201ZR01-ZF-I42202-06', 255.0, 422), ('SI41312HG01-ZF-I44202-04', 255.0, 423), ('SI41312HG01-ZF-I44202-35', 255.0, 424), ('SI41301ZC01-ZF-I41103-39', 255.0, 425), ('SI41316HG01-ZF-I42803-15', 280.0, 28)]]\n",
      "[[('SI41314HG01-ZF-I43803-21', 255.0, 426), ('SI41301ZC01-ZF-I41103-28', 254.0, 428), ('SI41314HG01-ZF-I43803-19', 254.0, 429), ('SI41312HG01-ZF-I44202-23', 253.0, 430), ('SI41312HG01-ZF-I44202-36', 253.0, 431), ('SI41301ZC01-ZF-I41103-01', 253.0, 432), ('SI41316HG01-ZF-I42803-20', 274.0, 33), ('SI41316HG01-ZF-I42803-32', 274.0, 45)]]\n",
      "[[('SI41301ZC01-ZF-I41103-04', 253.0, 433), ('SI41301ZC01-ZF-I41103-26', 253.0, 434), ('SI41301ZC01-ZF-I41103-31', 253.0, 435), ('SI41301ZC01-ZF-I41103-24', 252.0, 437), ('SI41301ZC01-ZF-I41103-33', 252.0, 438), ('SI41314HG01-ZF-I43803-14', 252.0, 439), ('SI41406ZC01-ZF-I43603-29', 278.0, 258), ('SI41404HG01-ZF-I44602-01', 277.0, 194)]]\n",
      "[[('SI41314HG01-ZF-I43803-18', 252.0, 440), ('SI41314HG01-ZF-I43803-20', 252.0, 441), ('SI41305ZC01-ZF-I44702-26', 251.0, 442), ('SI41315HG01-ZF-I42902-31', 251.0, 443), ('SI41301ZC01-ZF-I41103-42', 251.0, 444), ('SI41315HG01-ZF-I42902-15', 250.0, 445), ('SI41316HG01-ZF-I42803-21', 280.0, 34), ('SI41316HG01-ZF-I42803-29', 280.0, 42)]]\n"
     ]
    }
   ],
   "source": [
    "x = input13[:]\n",
    "y = left_data_10[:]\n",
    "print len(x),len(y)\n",
    "solution13_dict = {\"690*3\":[]}\n",
    "limit = 6\n",
    "lst = []\n",
    "target = 690*3\n",
    "time = 0\n",
    "while len(x) > 0 and len(y) > 0:\n",
    "        answer = sol2.combinationSum(x,y,target,0)\n",
    "        \n",
    "        if len(answer) == 0:\n",
    "            break\n",
    "        else:\n",
    "            time += 1\n",
    "                    \n",
    "        print answer\n",
    "        for i in answer:\n",
    "            solution13_dict[\"690*3\"].append(i)\n",
    "            for j in i:\n",
    "                if j in x:\n",
    "                    x.remove(j)\n",
    "                if j in y:\n",
    "                    y.remove(j)\n",
    "        \n",
    "        if time == int(limit):\n",
    "            break"
   ]
  },
  {
   "cell_type": "code",
   "execution_count": 287,
   "metadata": {},
   "outputs": [],
   "source": [
    "for i in solution13_dict[\"690*3\"]:\n",
    "    for j in i:\n",
    "        if j in input13:\n",
    "            input13.remove(j)\n",
    "        if j in left_data_10:\n",
    "            left_data_10.remove(j)"
   ]
  },
  {
   "cell_type": "code",
   "execution_count": 288,
   "metadata": {},
   "outputs": [
    {
     "name": "stdout",
     "output_type": "stream",
     "text": [
      "186 61\n"
     ]
    }
   ],
   "source": [
    "print len(input13),len(left_data_10)"
   ]
  },
  {
   "cell_type": "code",
   "execution_count": 264,
   "metadata": {},
   "outputs": [
    {
     "data": {
      "text/plain": [
       "([('SI41316HG01-ZF-I42803-11', 280.0, 24),\n",
       "  ('SI41316HG01-ZF-I42803-12', 280.0, 25),\n",
       "  ('SI41316HG01-ZF-I42803-15', 280.0, 28),\n",
       "  ('SI41316HG01-ZF-I42803-21', 280.0, 34),\n",
       "  ('SI41316HG01-ZF-I42803-29', 280.0, 42),\n",
       "  ('SI41407ZC01-ZF-I43503-23', 280.0, 72),\n",
       "  ('SI41407ZC01-ZF-I43503-36', 280.0, 85),\n",
       "  ('SI41402HG01-ZF-I45502-21', 280.0, 106),\n",
       "  ('SI41402HG01-ZF-I45502-35', 280.0, 120),\n",
       "  ('SI41401HG01-ZF-I42702-01', 280.0, 122),\n",
       "  ('SI41403HG01-ZF-I45103-09', 280.0, 166),\n",
       "  ('SI41403HG01-ZF-I45103-11', 280.0, 168),\n",
       "  ('SI41316HG01-ZF-I42803-03', 279.0, 16),\n",
       "  ('SI41407ZC01-ZF-I43503-14', 279.0, 63),\n",
       "  ('SI41402HG01-ZF-I45502-15', 279.0, 100),\n",
       "  ('SI41402HG01-ZF-I45502-23', 279.0, 108),\n",
       "  ('SI41403HG01-ZF-I45103-05', 279.0, 162),\n",
       "  ('SI41407ZC01-ZF-I43503-04', 278.0, 53),\n",
       "  ('SI41407ZC01-ZF-I43503-10', 278.0, 59),\n",
       "  ('SI41407ZC01-ZF-I43503-12', 278.0, 61),\n",
       "  ('SI41407ZC01-ZF-I43503-17', 278.0, 66),\n",
       "  ('SI41402HG01-ZF-I45502-29', 278.0, 114),\n",
       "  ('SI41401HG01-ZF-I42702-16', 278.0, 137),\n",
       "  ('SI41401HG01-ZF-I42702-34', 278.0, 155),\n",
       "  ('SI41404HG01-ZF-I44602-17', 278.0, 210),\n",
       "  ('SI41406ZC01-ZF-I43603-29', 278.0, 258),\n",
       "  ('SI41404HG01-ZF-I44602-01', 277.0, 194),\n",
       "  ('SI41404HG01-ZF-I44602-23', 277.0, 216)],\n",
       " [('SI41315HG01-ZF-I42902-36', 257.0, 407),\n",
       "  ('SI41312HG01-ZF-I44202-15', 257.0, 408),\n",
       "  ('SI41301ZC01-ZF-I41103-38', 257.0, 409),\n",
       "  ('SI41301ZC01-ZF-I41103-46', 257.0, 410),\n",
       "  ('SI41314HG01-ZF-I43803-10', 257.0, 411),\n",
       "  ('SI41305ZC01-ZF-I44702-22', 256.0, 412),\n",
       "  ('SI41313HG01-ZF-I44903-01', 256.0, 413)])"
      ]
     },
     "execution_count": 264,
     "metadata": {},
     "output_type": "execute_result"
    }
   ],
   "source": []
  },
  {
   "cell_type": "code",
   "execution_count": 275,
   "metadata": {},
   "outputs": [
    {
     "name": "stdout",
     "output_type": "stream",
     "text": [
      "1\n",
      "1\n",
      "1\n",
      "2\n",
      "2\n",
      "2\n"
     ]
    }
   ],
   "source": [
    "save_answer(solution13,13)\n",
    "save_answer_2(solution13_dict,13)"
   ]
  },
  {
   "cell_type": "markdown",
   "metadata": {},
   "source": [
    "# 第14组"
   ]
  },
  {
   "cell_type": "code",
   "execution_count": 310,
   "metadata": {},
   "outputs": [
    {
     "data": {
      "text/plain": [
       "247"
      ]
     },
     "execution_count": 310,
     "metadata": {},
     "output_type": "execute_result"
    }
   ],
   "source": [
    "input14 = [(input_dict[14][i][0],input_dict[14][i][1],i+1) for i in range(len(input_dict[14]))]\n",
    "left = left_data_10 + input13\n",
    "left.sort(key = lambda key:key[1],reverse = True)\n",
    "left_data_11 = [(left[i][0],left[i][1],300+i+1) for i in range(len(left))]\n",
    "len(left_data_11)"
   ]
  },
  {
   "cell_type": "code",
   "execution_count": 311,
   "metadata": {},
   "outputs": [
    {
     "name": "stdout",
     "output_type": "stream",
     "text": [
      "Cut one time\n",
      "[[('SI41407ZC01-ZF-I43503-23', 280.0, 301), ('SI41407ZC01-ZF-I43503-36', 280.0, 302), ('SI41402HG01-ZF-I45502-21', 280.0, 303), ('SI41407ZC01-ZF-I43503-19', 270.0, 372), ('SI41407ZC01-ZF-I43503-29', 270.0, 373)]]\n",
      "[[('SI41402HG01-ZF-I45502-35', 280.0, 304), ('SI41401HG01-ZF-I42702-01', 280.0, 305), ('SI41403HG01-ZF-I45103-09', 280.0, 306), ('SI41402HG01-ZF-I45502-09', 270.0, 374), ('SI41401HG01-ZF-I42702-20', 270.0, 375)]]\n",
      "[[('SI41403HG01-ZF-I45103-11', 280.0, 307), ('SI41316HG01-ZF-I42803-03', 279.0, 308), ('SI41407ZC01-ZF-I43503-14', 279.0, 309), ('SI41407ZC01-ZF-I43503-16', 271.0, 365), ('SI41407ZC01-ZF-I43503-22', 271.0, 366)]]\n",
      "[[('SI41402HG01-ZF-I45502-15', 279.0, 310), ('SI41402HG01-ZF-I45502-23', 279.0, 311), ('SI41403HG01-ZF-I45103-05', 279.0, 312), ('SI41406ZC01-ZF-I43603-10', 272.0, 364), ('SI41402HG01-ZF-I45502-08', 271.0, 367)]]\n",
      "[[('SI41407ZC01-ZF-I43503-04', 278.0, 313), ('SI41407ZC01-ZF-I43503-10', 278.0, 314), ('SI41407ZC01-ZF-I43503-12', 278.0, 315), ('SI41314HG01-ZF-I43803-27', 273.0, 349), ('SI41316HG01-ZF-I42803-26', 273.0, 350)]]\n",
      "[[('SI41407ZC01-ZF-I43503-17', 278.0, 316), ('SI41402HG01-ZF-I45502-29', 278.0, 317), ('SI41401HG01-ZF-I42702-16', 278.0, 318), ('SI41407ZC01-ZF-I43503-01', 273.0, 351), ('SI41407ZC01-ZF-I43503-18', 273.0, 352)]]\n",
      "[[('SI41401HG01-ZF-I42702-34', 278.0, 319), ('SI41404HG01-ZF-I44602-17', 278.0, 320), ('SI41406ZC01-ZF-I43603-06', 277.0, 322), ('SI41406ZC01-ZF-I43603-26', 274.0, 348), ('SI41402HG01-ZF-I45502-27', 273.0, 353)]]\n",
      "[[('SI41406ZC01-ZF-I43603-32', 277.0, 323), ('SI41406ZC01-ZF-I43603-34', 277.0, 324), ('SI41314HG01-ZF-I43803-29', 276.0, 325), ('SI41316HG01-ZF-I42803-06', 275.0, 337), ('SI41316HG01-ZF-I42803-09', 275.0, 338)]]\n",
      "[[('SI41316HG01-ZF-I42803-10', 276.0, 326), ('SI41316HG01-ZF-I42803-17', 276.0, 327), ('SI41316HG01-ZF-I42803-23', 276.0, 328), ('SI41407ZC01-ZF-I43503-03', 276.0, 329), ('SI41407ZC01-ZF-I43503-09', 276.0, 330)]]\n",
      "[[('SI41407ZC01-ZF-I43503-15', 276.0, 331), ('SI41402HG01-ZF-I45502-02', 276.0, 332), ('SI41402HG01-ZF-I45502-17', 276.0, 333), ('SI41402HG01-ZF-I45502-33', 276.0, 334), ('SI41401HG01-ZF-I42702-28', 276.0, 335)]]\n",
      "[[('SI41403HG01-ZF-I45103-01', 276.0, 336), ('SI41407ZC01-ZF-I43503-25', 275.0, 339), ('SI41402HG01-ZF-I45502-06', 275.0, 340), ('SI41314HG01-ZF-I43803-24', 254.0, 456), ('SI41503ZC01-ZF-I44403-03', 300.0, 239)]]\n",
      "[[('SI41406ZC01-ZF-I43603-35', 275.0, 341), ('SI41406ZC01-ZF-I43603-36', 275.0, 342), ('SI41402HG01-ZF-I45502-03', 274.0, 343), ('SI41314HG01-ZF-I43803-26', 258.0, 440), ('SI41502ZC01-ZF-I44304-36', 298.0, 99)]]\n",
      "[[('SI41402HG01-ZF-I45502-07', 274.0, 344), ('SI41403HG01-ZF-I45103-10', 274.0, 345), ('SI41406ZC01-ZF-I43603-05', 274.0, 346), ('SI41316HG01-ZF-I42803-19', 263.0, 411), ('SI41503ZC01-ZF-I44403-30', 295.0, 266)]]\n",
      "[[('SI41406ZC01-ZF-I43603-12', 274.0, 347), ('SI41401HG01-ZF-I42702-13', 273.0, 354), ('SI41401HG01-ZF-I42702-33', 273.0, 355), ('SI41314HG01-ZF-I43803-28', 267.0, 394), ('SI41503ZC01-ZF-I44403-36', 293.0, 272)]]\n",
      "[[('SI41406ZC01-ZF-I43603-04', 273.0, 356), ('SI41406ZC01-ZF-I43603-21', 273.0, 357), ('SI41314HG01-ZF-I43803-33', 272.0, 358), ('SI41401HG01-ZF-I42702-04', 271.0, 368), ('SI41503ZC01-ZF-I44403-09', 291.0, 245)]]\n",
      "[[('SI41316HG01-ZF-I42803-14', 272.0, 359), ('SI41407ZC01-ZF-I43503-21', 272.0, 360), ('SI41407ZC01-ZF-I43503-30', 272.0, 361), ('SI41401HG01-ZF-I42702-27', 272.0, 362), ('SI41503ZC01-ZF-I44403-24', 291.0, 260)]]\n",
      "[[('SI41406ZC01-ZF-I43603-03', 272.0, 363), ('SI41401HG01-ZF-I42702-25', 271.0, 369), ('SI41406ZC01-ZF-I43603-08', 271.0, 370), ('SI41307Y050-ZF-I40702-37', 283.0, 51), ('SI41307Y050-ZF-I40702-39', 283.0, 53)]]\n",
      "[[('SI41406ZC01-ZF-I43603-33', 271.0, 371), ('SI41406ZC01-ZF-I43603-02', 270.0, 376), ('SI41406ZC01-ZF-I43603-09', 270.0, 377), ('SI41309Y052-ZF-I40502-46', 285.0, 233), ('SI41307Y050-ZF-I40702-09', 284.0, 23)]]\n",
      "[[('SI41406ZC01-ZF-I43603-11', 270.0, 378), ('SI41406ZC01-ZF-I43603-18', 270.0, 379), ('SI41409ZC01-ZF-I42602-22', 270.0, 380), ('SI41307Y050-ZF-I40702-07', 285.0, 21), ('SI41307Y050-ZF-I40702-12', 285.0, 26)]]\n",
      "[[('SI41314HG01-ZF-I43803-31', 269.0, 381), ('SI41316HG01-ZF-I42803-36', 269.0, 382), ('SI41407ZC01-ZF-I43503-35', 269.0, 383), ('SI41309Y052-ZF-I40502-48', 287.0, 235), ('SI41307Y050-ZF-I40702-02', 286.0, 16)]]\n",
      "[[('SI41401HG01-ZF-I42702-14', 269.0, 384), ('SI41406ZC01-ZF-I43603-27', 269.0, 385), ('SI41409ZC01-ZF-I42602-11', 269.0, 386), ('SI41309Y052-ZF-I40502-11', 287.0, 198), ('SI41307Y050-ZF-I40702-14', 286.0, 28)]]\n",
      "[[('SI41314HG01-ZF-I43803-36', 268.0, 387), ('SI41316HG01-ZF-I42803-07', 268.0, 388), ('SI41401HG01-ZF-I42702-05', 268.0, 389), ('SI41307Y050-ZF-I40702-11', 288.0, 25), ('SI41307Y050-ZF-I40702-21', 288.0, 35)]]\n",
      "[[('SI41401HG01-ZF-I42702-11', 268.0, 390), ('SI41401HG01-ZF-I42702-19', 268.0, 391), ('SI41406ZC01-ZF-I43603-30', 268.0, 392), ('SI41307Y050-ZF-I40702-35', 288.0, 49), ('SI41307Y050-ZF-I40702-48', 288.0, 62)]]\n",
      "[[('SI41409ZC01-ZF-I42602-18', 268.0, 393), ('SI41314HG01-ZF-I43803-34', 267.0, 395), ('SI41402HG01-ZF-I45502-01', 267.0, 396), ('SI41307Y050-ZF-I40702-04', 289.0, 18), ('SI41307Y050-ZF-I40702-49', 289.0, 63)]]\n",
      "[[('SI41402HG01-ZF-I45502-10', 267.0, 397), ('SI41406ZC01-ZF-I43603-15', 267.0, 398), ('SI41407ZC01-ZF-I43503-08', 266.0, 399), ('SI41307Y050-ZF-I40702-06', 290.0, 20), ('SI41310Y053-ZF-I42402-16', 290.0, 154)]]\n",
      "[[('SI41401HG01-ZF-I42702-07', 266.0, 400), ('SI41401HG01-ZF-I42702-10', 266.0, 401), ('SI41503ZC01-ZF-I44403-12', 290.0, 248), ('SI41307Y050-ZF-I40702-25', 279.0, 39), ('SI41307Y050-ZF-I40702-26', 279.0, 40)]]\n"
     ]
    }
   ],
   "source": [
    "solution14 = show_690(input14,left_data_11,26)"
   ]
  },
  {
   "cell_type": "code",
   "execution_count": 312,
   "metadata": {},
   "outputs": [
    {
     "name": "stdout",
     "output_type": "stream",
     "text": [
      "268 140\n"
     ]
    }
   ],
   "source": [
    "print len(input14),len(left_data_11)"
   ]
  },
  {
   "cell_type": "code",
   "execution_count": 317,
   "metadata": {},
   "outputs": [
    {
     "name": "stdout",
     "output_type": "stream",
     "text": [
      "Cut one time\n",
      "[[('SI41401HG01-ZF-I42702-03', 265.0, 403), ('SI41401HG01-ZF-I42702-06', 265.0, 404), ('SI41310Y053-ZF-I42402-4', 288.0, 142), ('SI41307Y050-ZF-I40702-20', 281.0, 34), ('SI41502ZC01-ZF-I44304-26', 281.0, 89)]]\n",
      "[[('SI41401HG01-ZF-I42702-15', 265.0, 405), ('SI41406ZC01-ZF-I43603-24', 265.0, 406), ('SI41310Y053-ZF-I42402-12', 288.0, 150), ('SI41502ZC01-ZF-I44304-35', 281.0, 98), ('SI41501ZC01-ZF-I45304-15', 281.0, 117)]]\n",
      "[[('SI41316HG01-ZF-I42803-13', 264.0, 407), ('SI41401HG01-ZF-I42702-09', 264.0, 408), ('SI41310Y053-ZF-I42402-5', 289.0, 143), ('SI41503ZC01-ZF-I44403-20', 282.0, 256), ('SI41501ZC01-ZF-I45304-21', 281.0, 123)]]\n",
      "[[('SI41404HG01-ZF-I44602-31', 264.0, 409), ('SI41409ZC01-ZF-I42602-29', 264.0, 410), ('SI41310Y053-ZF-I42402-15', 288.0, 153), ('SI41307Y050-ZF-I40702-36', 282.0, 50), ('SI41501ZC01-ZF-I45304-03', 282.0, 105)]]\n",
      "[[('SI41402HG01-ZF-I45502-16', 263.0, 412), ('SI41402HG01-ZF-I45502-19', 263.0, 413), ('SI41503ZC01-ZF-I44403-13', 290.0, 249), ('SI41310Y053-ZF-I42402-29', 282.0, 167), ('SI41310Y053-ZF-I42402-40', 282.0, 178)]]\n",
      "[[('SI41402HG01-ZF-I45502-22', 263.0, 414), ('SI41402HG01-ZF-I45502-36', 263.0, 415), ('SI41310Y053-ZF-I42402-10', 289.0, 148), ('SI41503ZC01-ZF-I44403-23', 283.0, 259), ('SI41309Y052-ZF-I40502-02', 282.0, 189)]]\n",
      "[[('SI41401HG01-ZF-I42702-17', 263.0, 416), ('SI41401HG01-ZF-I42702-21', 263.0, 417), ('SI41310Y053-ZF-I42402-38', 288.0, 176), ('SI41502ZC01-ZF-I44304-29', 283.0, 92), ('SI41310Y053-ZF-I42402-3', 283.0, 141)]]\n",
      "[[('SI41401HG01-ZF-I42702-31', 263.0, 418), ('SI41314HG01-ZF-I43803-32', 262.0, 419), ('SI41503ZC01-ZF-I44403-29', 289.0, 265), ('SI41310Y053-ZF-I42402-9', 283.0, 147), ('SI41310Y053-ZF-I42402-14', 283.0, 152)]]\n",
      "[[('SI41316HG01-ZF-I42803-25', 262.0, 420), ('SI41402HG01-ZF-I45502-25', 262.0, 421), ('SI41310Y053-ZF-I42402-42', 288.0, 180), ('SI41307Y050-ZF-I40702-10', 284.0, 24), ('SI41307Y050-ZF-I40702-16', 284.0, 30)]]\n",
      "[[('SI41401HG01-ZF-I42702-12', 262.0, 422), ('SI41401HG01-ZF-I42702-24', 262.0, 423), ('SI41310Y053-ZF-I42402-45', 288.0, 183), ('SI41307Y050-ZF-I40702-46', 284.0, 60), ('SI41310Y053-ZF-I42402-48', 284.0, 186)]]\n",
      "[[('SI41409ZC01-ZF-I42602-28', 262.0, 424), ('SI41401HG01-ZF-I42702-30', 261.0, 425), ('SI41503ZC01-ZF-I44403-04', 288.0, 240), ('SI41309Y052-ZF-I40502-45', 285.0, 232), ('SI41309Y052-ZF-I40502-10', 284.0, 197)]]\n",
      "[[('SI41406ZC01-ZF-I43603-22', 261.0, 426), ('SI41409ZC01-ZF-I42602-05', 261.0, 427), ('SI41503ZC01-ZF-I44403-17', 288.0, 253), ('SI41307Y050-ZF-I40702-13', 285.0, 27), ('SI41307Y050-ZF-I40702-32', 285.0, 46)]]\n",
      "[[('SI41409ZC01-ZF-I42602-35', 261.0, 428), ('SI41402HG01-ZF-I45502-13', 260.0, 429), ('SI41503ZC01-ZF-I44403-25', 288.0, 261), ('SI41503ZC01-ZF-I44403-14', 286.0, 250), ('SI41307Y050-ZF-I40702-41', 285.0, 55)]]\n",
      "[[('SI41401HG01-ZF-I42702-18', 260.0, 430), ('SI41401HG01-ZF-I42702-23', 260.0, 431), ('SI41307Y050-ZF-I40702-03', 287.0, 17), ('SI41310Y053-ZF-I42402-18', 287.0, 156), ('SI41307Y050-ZF-I40702-29', 286.0, 43)]]\n",
      "[[('SI41406ZC01-ZF-I43603-07', 260.0, 432), ('SI41409ZC01-ZF-I42602-25', 260.0, 433), ('SI41307Y050-ZF-I40702-31', 287.0, 45), ('SI41310Y053-ZF-I42402-8', 287.0, 146), ('SI41307Y050-ZF-I40702-30', 286.0, 44)]]\n"
     ]
    }
   ],
   "source": [
    "x = input14[:80]\n",
    "y = left_data_11[:40]\n",
    "solution14_rest = show_690(x,y,20)\n",
    "\n",
    "\n",
    "for i in solution14_rest[\"690*2\"]:\n",
    "    solution14[\"690*2\"].append(i)\n",
    "\n",
    "\n",
    "for i in solution14_rest[\"690*2\"]:\n",
    "    for j in i:\n",
    "        if j in input14:\n",
    "            input14.remove(j)\n",
    "        if j in left_data_11:\n",
    "            left_data_11.remove(j)"
   ]
  },
  {
   "cell_type": "code",
   "execution_count": 318,
   "metadata": {},
   "outputs": [
    {
     "name": "stdout",
     "output_type": "stream",
     "text": [
      "223 110\n"
     ]
    }
   ],
   "source": [
    "print len(input14),len(left_data_11)"
   ]
  },
  {
   "cell_type": "code",
   "execution_count": 321,
   "metadata": {},
   "outputs": [
    {
     "data": {
      "text/plain": [
       "41"
      ]
     },
     "execution_count": 321,
     "metadata": {},
     "output_type": "execute_result"
    }
   ],
   "source": [
    "len(solution14[\"690*2\"])"
   ]
  },
  {
   "cell_type": "code",
   "execution_count": 322,
   "metadata": {},
   "outputs": [
    {
     "name": "stdout",
     "output_type": "stream",
     "text": [
      "223 110\n",
      "[[('SI41407ZC01-ZF-I43503-05', 259.0, 434), ('SI41407ZC01-ZF-I43503-06', 259.0, 435), ('SI41404HG01-ZF-I44602-32', 259.0, 436), ('SI41409ZC01-ZF-I42602-27', 259.0, 437), ('SI41409ZC01-ZF-I42602-32', 259.0, 438), ('SI41409ZC01-ZF-I42602-34', 259.0, 439), ('SI41407ZC01-ZF-I43503-24', 258.0, 441), ('SI41402HG01-ZF-I45502-26', 258.0, 442)]]\n",
      "[[('SI41402HG01-ZF-I45502-32', 258.0, 443), ('SI41406ZC01-ZF-I43603-16', 258.0, 444), ('SI41409ZC01-ZF-I42602-09', 258.0, 445), ('SI41314HG01-ZF-I43803-25', 257.0, 446), ('SI41409ZC01-ZF-I42602-04', 257.0, 447), ('SI41409ZC01-ZF-I42602-06', 257.0, 448), ('SI41312HG01-ZF-I44202-02', 238.0, 525), ('SI41307Y050-ZF-I40702-34', 287.0, 48)]]\n",
      "[[('SI41409ZC01-ZF-I42602-12', 257.0, 449), ('SI41407ZC01-ZF-I43503-02', 256.0, 450), ('SI41407ZC01-ZF-I43503-11', 256.0, 451), ('SI41402HG01-ZF-I45502-04', 256.0, 452), ('SI41406ZC01-ZF-I43603-17', 255.0, 453), ('SI41409ZC01-ZF-I42602-01', 255.0, 454), ('SI41301ZC01-ZF-I41103-10', 249.0, 475), ('SI41307Y050-ZF-I40702-33', 286.0, 47)]]\n",
      "[[('SI41409ZC01-ZF-I42602-19', 255.0, 455), ('SI41316HG01-ZF-I42803-01', 253.0, 457), ('SI41409ZC01-ZF-I42602-13', 253.0, 458), ('SI41409ZC01-ZF-I42602-16', 253.0, 459), ('SI41409ZC01-ZF-I42602-07', 252.0, 460), ('SI41409ZC01-ZF-I42602-14', 252.0, 461), ('SI41501ZC01-ZF-I45304-33', 276.0, 135), ('SI41309Y052-ZF-I40502-28', 276.0, 215)]]\n",
      "[[('SI41406ZC01-ZF-I43603-14', 251.0, 462), ('SI41409ZC01-ZF-I42602-24', 251.0, 463), ('SI41409ZC01-ZF-I42602-31', 251.0, 464), ('SI41315HG01-ZF-I42902-21', 250.0, 465), ('SI41313HG01-ZF-I44903-30', 250.0, 466), ('SI41312HG01-ZF-I44202-17', 250.0, 467), ('SI41503ZC01-ZF-I44403-35', 284.0, 271), ('SI41310Y053-ZF-I42402-17', 283.0, 155)]]\n"
     ]
    }
   ],
   "source": [
    "x = input15[:]\n",
    "y = left_data[:]\n",
    "print len(x),len(y)\n",
    "solution15_dict = {\"690*3\":[]}\n",
    "limit = 5\n",
    "lst = []\n",
    "target = 690*3\n",
    "time = 0\n",
    "while len(x) > 0 and len(y) > 0:\n",
    "        answer = sol2.combinationSum(x,y,target,0)\n",
    "        \n",
    "        if len(answer) == 0:\n",
    "            break\n",
    "        else:\n",
    "            time += 1\n",
    "                    \n",
    "        print answer\n",
    "        for i in answer:\n",
    "            solution15_dict[\"690*3\"].append(i)\n",
    "            for j in i:\n",
    "                if j in x:\n",
    "                    x.remove(j)\n",
    "                if j in y:\n",
    "                    y.remove(j)\n",
    "        \n",
    "        if time == int(limit):\n",
    "            break"
   ]
  },
  {
   "cell_type": "code",
   "execution_count": 323,
   "metadata": {},
   "outputs": [],
   "source": [
    "for i in solution14_dict[\"690*3\"]:\n",
    "    for j in i:\n",
    "        if j in input14:\n",
    "            input14.remove(j)\n",
    "        if j in left_data_11:\n",
    "            left_data_11.remove(j)"
   ]
  },
  {
   "cell_type": "code",
   "execution_count": 324,
   "metadata": {},
   "outputs": [
    {
     "name": "stdout",
     "output_type": "stream",
     "text": [
      "217 76\n"
     ]
    }
   ],
   "source": [
    "print len(input14),len(left_data_11)"
   ]
  },
  {
   "cell_type": "code",
   "execution_count": 331,
   "metadata": {},
   "outputs": [
    {
     "name": "stdout",
     "output_type": "stream",
     "text": [
      "0\n",
      "1\n",
      "1\n",
      "2\n",
      "2\n"
     ]
    }
   ],
   "source": [
    "save_answer(solution14,14)\n",
    "save_answer_2(solution14_dict,14)"
   ]
  },
  {
   "cell_type": "code",
   "execution_count": 325,
   "metadata": {},
   "outputs": [],
   "source": [
    "dic = {\"ID\":[],\"Length\":[]}\n",
    "left = left_data_11 + input14\n",
    "for i in left:\n",
    "    dic[\"ID\"].append(i[0])\n",
    "    dic[\"Length\"].append(i[1])"
   ]
  },
  {
   "cell_type": "code",
   "execution_count": 329,
   "metadata": {},
   "outputs": [],
   "source": [
    "DF = pd.DataFrame(dic)\n",
    "DF.to_csv(\"the_14st_left.csv\")"
   ]
  },
  {
   "cell_type": "code",
   "execution_count": 330,
   "metadata": {},
   "outputs": [
    {
     "name": "stdout",
     "output_type": "stream",
     "text": [
      "139\n",
      "179\n",
      "115\n",
      "147\n",
      "158\n",
      "94\n",
      "169\n",
      "177\n",
      "151\n",
      "112\n",
      "142\n",
      "203\n",
      "186\n",
      "217\n"
     ]
    }
   ],
   "source": [
    "print len(input1)\n",
    "print len(input2)\n",
    "print len(input3)\n",
    "print len(input4)\n",
    "print len(input5)\n",
    "print len(input6)\n",
    "print len(input7)\n",
    "print len(input8)\n",
    "print len(input9)\n",
    "print len(input10)\n",
    "print len(input11)\n",
    "print len(input12)\n",
    "print len(input13)\n",
    "print len(input14)"
   ]
  },
  {
   "cell_type": "code",
   "execution_count": 332,
   "metadata": {},
   "outputs": [
    {
     "data": {
      "text/plain": [
       "[('SI41312HG01-ZF-I44202-22', 250.0, 468),\n",
       " ('SI41312HG01-ZF-I44202-30', 250.0, 469),\n",
       " ('SI41301ZC01-ZF-I41103-09', 250.0, 470),\n",
       " ('SI41301ZC01-ZF-I41103-32', 250.0, 471),\n",
       " ('SI41301ZC01-ZF-I41103-35', 250.0, 472),\n",
       " ('SI41314HG01-ZF-I43803-30', 250.0, 473),\n",
       " ('SI41409ZC01-ZF-I42602-23', 250.0, 474),\n",
       " ('SI41301ZC01-ZF-I41103-16', 249.0, 476),\n",
       " ('SI41301ZC01-ZF-I41103-30', 249.0, 477),\n",
       " ('SI41314HG01-ZF-I43803-16', 249.0, 478),\n",
       " ('SI41409ZC01-ZF-I42602-20', 249.0, 479),\n",
       " ('SI41101Y046-ZF-I42401-40', 248.0, 480),\n",
       " ('SI41301ZC01-ZF-I41103-17', 248.0, 481),\n",
       " ('SI41406ZC01-ZF-I43603-23', 248.0, 482),\n",
       " ('SI41409ZC01-ZF-I42602-21', 248.0, 483),\n",
       " ('SI41305ZC01-ZF-I44702-05', 247.0, 484),\n",
       " ('SI41313HG01-ZF-I44903-24', 247.0, 485),\n",
       " ('SI41301ZC01-ZF-I41103-25', 247.0, 486),\n",
       " ('SI41305ZC01-ZF-I44702-20', 246.0, 487),\n",
       " ('SI41201ZR01-ZF-I42202-04', 246.0, 488),\n",
       " ('SI41201ZR01-ZF-I42202-49', 246.0, 489),\n",
       " ('SI41313HG01-ZF-I44903-18', 246.0, 490),\n",
       " ('SI41301ZC01-ZF-I41103-05', 246.0, 491),\n",
       " ('SI41301ZC01-ZF-I41103-11', 246.0, 492),\n",
       " ('SI41301ZC01-ZF-I41103-23', 246.0, 493),\n",
       " ('SI41314HG01-ZF-I43803-22', 246.0, 494),\n",
       " ('SI41406ZC01-ZF-I43603-28', 246.0, 495),\n",
       " ('SI41305ZC01-ZF-I44702-21', 245.0, 496),\n",
       " ('SI41201ZR01-ZF-I42202-30', 245.0, 497),\n",
       " ('SI41301ZC01-ZF-I41103-18', 245.0, 498),\n",
       " ('SI41301ZC01-ZF-I41103-44', 245.0, 499),\n",
       " ('SI41314HG01-ZF-I43803-01', 245.0, 500),\n",
       " ('SI41409ZC01-ZF-I42602-10', 245.0, 501),\n",
       " ('SI41305ZC01-ZF-I44702-15', 244.0, 502),\n",
       " ('SI41312HG01-ZF-I44202-08', 244.0, 503),\n",
       " ('SI41201ZR01-ZF-I42202-09', 243.0, 504),\n",
       " ('SI41201ZR01-ZF-I42202-43', 243.0, 505),\n",
       " ('SI41313HG01-ZF-I44903-23', 243.0, 506),\n",
       " ('SI41312HG01-ZF-I44202-05', 243.0, 507),\n",
       " ('SI41312HG01-ZF-I44202-11', 243.0, 508),\n",
       " ('SI41301ZC01-ZF-I41103-37', 243.0, 509),\n",
       " ('SI41401HG01-ZF-I42702-36', 243.0, 510),\n",
       " ('SI41315HG01-ZF-I42902-34', 242.0, 511),\n",
       " ('SI41312HG01-ZF-I44202-06', 242.0, 512),\n",
       " ('SI41312HG01-ZF-I44202-16', 242.0, 513),\n",
       " ('SI41401HG01-ZF-I42702-02', 242.0, 514),\n",
       " ('SI41403HG01-ZF-I45103-13', 242.0, 515),\n",
       " ('SI41403HG01-ZF-I45103-25', 242.0, 516),\n",
       " ('SI41409ZC01-ZF-I42602-02', 242.0, 517),\n",
       " ('SI41403HG01-ZF-I45103-19', 241.0, 518),\n",
       " ('SI41305ZC01-ZF-I44702-09', 240.0, 519),\n",
       " ('SI41201ZR01-ZF-I42202-05', 240.0, 520),\n",
       " ('SI41201ZR01-ZF-I42202-15', 240.0, 521),\n",
       " ('SI41201ZR01-ZF-I42202-23', 240.0, 522),\n",
       " ('SI41301ZC01-ZF-I41103-27', 240.0, 523),\n",
       " ('SI41301ZC01-ZF-I41103-34', 240.0, 524),\n",
       " ('SI41403HG01-ZF-I45103-06', 238.0, 526),\n",
       " ('SI41404HG01-ZF-I44602-13', 238.0, 527),\n",
       " ('SI41201ZR01-ZF-I42202-42', 237.0, 528),\n",
       " ('SI41313HG01-ZF-I44903-22', 237.0, 529),\n",
       " ('SI41409ZC01-ZF-I42602-33', 237.0, 530),\n",
       " ('SI41101Y046-ZF-I42401-45', 236.0, 531),\n",
       " ('SI41301ZC01-ZF-I41103-49', 236.0, 532),\n",
       " ('SI41401HG01-ZF-I42702-08', 236.0, 533),\n",
       " ('SI41409ZC01-ZF-I42602-03', 236.0, 534),\n",
       " ('SI41409ZC01-ZF-I42602-26', 236.0, 535),\n",
       " ('SI41305ZC01-ZF-I44702-07', 235.0, 536),\n",
       " ('SI41201ZR01-ZF-I42202-01', 235.0, 537),\n",
       " ('SI41305ZC01-ZF-I44702-16', 234.0, 538),\n",
       " ('SI41305ZC01-ZF-I44702-33', 234.0, 539),\n",
       " ('SI41201ZR01-ZF-I42202-21', 234.0, 540),\n",
       " ('SI41201ZR01-ZF-I42202-37', 234.0, 541),\n",
       " ('SI41407ZC01-ZF-I43503-26', 233.0, 542),\n",
       " ('SI41201ZR01-ZF-I42202-08', 232.0, 543),\n",
       " ('SI41201ZR01-ZF-I42202-34', 231.0, 545),\n",
       " ('SI41407ZC01-ZF-I43503-32', 231.0, 546),\n",
       " ('SI41307Y050-ZF-I40702-42', 286.0, 56),\n",
       " ('SI41307Y050-ZF-I40702-47', 286.0, 61),\n",
       " ('SI41310Y053-ZF-I42402-1', 286.0, 139),\n",
       " ('SI41310Y053-ZF-I42402-2', 286.0, 140),\n",
       " ('SI41310Y053-ZF-I42402-13', 286.0, 151),\n",
       " ('SI41310Y053-ZF-I42402-19', 286.0, 157),\n",
       " ('SI41310Y053-ZF-I42402-20', 286.0, 158),\n",
       " ('SI41310Y053-ZF-I42402-37', 286.0, 175),\n",
       " ('SI41309Y052-ZF-I40502-37', 286.0, 224),\n",
       " ('SI41309Y052-ZF-I40502-38', 286.0, 225),\n",
       " ('SI41309Y052-ZF-I40502-39', 286.0, 226),\n",
       " ('SI41503ZC01-ZF-I44403-10', 286.0, 246),\n",
       " ('SI41307Y050-ZF-I40702-45', 285.0, 59),\n",
       " ('SI41502ZC01-ZF-I44304-12', 285.0, 75),\n",
       " ('SI41310Y053-ZF-I42402-6', 285.0, 144),\n",
       " ('SI41310Y053-ZF-I42402-35', 285.0, 173),\n",
       " ('SI41310Y053-ZF-I42402-46', 285.0, 184),\n",
       " ('SI41310Y053-ZF-I42402-47', 285.0, 185),\n",
       " ('SI41309Y052-ZF-I40502-03', 285.0, 190),\n",
       " ('SI41309Y052-ZF-I40502-12', 285.0, 199),\n",
       " ('SI41309Y052-ZF-I40502-36', 285.0, 223),\n",
       " ('SI41309Y052-ZF-I40502-43', 285.0, 230),\n",
       " ('SI41309Y052-ZF-I40502-13', 284.0, 200),\n",
       " ('SI41309Y052-ZF-I40502-44', 284.0, 231),\n",
       " ('SI41309Y052-ZF-I40502-04', 283.0, 191),\n",
       " ('SI41309Y052-ZF-I40502-05', 283.0, 192),\n",
       " ('SI41309Y052-ZF-I40502-09', 283.0, 196),\n",
       " ('SI41309Y052-ZF-I40502-40', 283.0, 227),\n",
       " ('SI41309Y052-ZF-I40502-47', 283.0, 234),\n",
       " ('SI41503ZC01-ZF-I44403-01', 283.0, 237),\n",
       " ('SI41503ZC01-ZF-I44403-19', 283.0, 255),\n",
       " ('SI41309Y052-ZF-I40502-06', 281.0, 193),\n",
       " ('SI41503ZC01-ZF-I44403-22', 281.0, 258),\n",
       " ('SI41307Y050-ZF-I40702-27', 280.0, 41),\n",
       " ('SI41307Y050-ZF-I40702-40', 280.0, 54),\n",
       " ('SI41307Y050-ZF-I40702-43', 280.0, 57),\n",
       " ('SI41502ZC01-ZF-I44304-32', 280.0, 95),\n",
       " ('SI41501ZC01-ZF-I45304-31', 280.0, 133),\n",
       " ('SI41310Y053-ZF-I42402-7', 280.0, 145),\n",
       " ('SI41310Y053-ZF-I42402-21', 280.0, 159),\n",
       " ('SI41310Y053-ZF-I42402-36', 280.0, 174),\n",
       " ('SI41310Y053-ZF-I42402-41', 280.0, 179),\n",
       " ('SI41310Y053-ZF-I42402-43', 280.0, 181),\n",
       " ('SI41310Y053-ZF-I42402-49', 280.0, 187),\n",
       " ('SI41309Y052-ZF-I40502-07', 280.0, 194),\n",
       " ('SI41503ZC01-ZF-I44403-02', 280.0, 238),\n",
       " ('SI41410ZC01-ZF-I43704-12', 280.0, 284),\n",
       " ('SI41501ZC01-ZF-I45304-26', 279.0, 128),\n",
       " ('SI41309Y052-ZF-I40502-16', 279.0, 203),\n",
       " ('SI41309Y052-ZF-I40502-23', 279.0, 210),\n",
       " ('SI41309Y052-ZF-I40502-30', 279.0, 217),\n",
       " ('SI41503ZC01-ZF-I44403-34', 279.0, 270),\n",
       " ('SI41410ZC01-ZF-I43704-17', 279.0, 289),\n",
       " ('SI41307Y050-ZF-I40702-24', 278.0, 38),\n",
       " ('SI41501ZC01-ZF-I45304-09', 278.0, 111),\n",
       " ('SI41501ZC01-ZF-I45304-32', 278.0, 134),\n",
       " ('SI41310Y053-ZF-I42402-11', 278.0, 149),\n",
       " ('SI41310Y053-ZF-I42402-22', 278.0, 160),\n",
       " ('SI41310Y053-ZF-I42402-39', 278.0, 177),\n",
       " ('SI41309Y052-ZF-I40502-01', 278.0, 188),\n",
       " ('SI41309Y052-ZF-I40502-08', 278.0, 195),\n",
       " ('SI41309Y052-ZF-I40502-19', 278.0, 206),\n",
       " ('SI41309Y052-ZF-I40502-26', 278.0, 213),\n",
       " ('SI41309Y052-ZF-I40502-29', 278.0, 216),\n",
       " ('SI41503ZC01-ZF-I44403-06', 278.0, 242),\n",
       " ('SI41503ZC01-ZF-I44403-26', 278.0, 262),\n",
       " ('SI41503ZC01-ZF-I44403-28', 278.0, 264),\n",
       " ('SI41410ZC01-ZF-I43704-13', 278.0, 285),\n",
       " ('SI41310Y053-ZF-I42402-28', 277.0, 166),\n",
       " ('SI41309Y052-ZF-I40502-15', 277.0, 202),\n",
       " ('SI41309Y052-ZF-I40502-20', 277.0, 207),\n",
       " ('SI41309Y052-ZF-I40502-24', 277.0, 211),\n",
       " ('SI41309Y052-ZF-I40502-49', 277.0, 236),\n",
       " ('SI41503ZC01-ZF-I44403-08', 277.0, 244),\n",
       " ('SI41503ZC01-ZF-I44403-16', 277.0, 252),\n",
       " ('SI41309Y052-ZF-I40502-42', 276.0, 229),\n",
       " ('SI41503ZC01-ZF-I44403-33', 276.0, 269),\n",
       " ('SI41410ZC01-ZF-I43704-11', 276.0, 283),\n",
       " ('SI41307Y050-ZF-I40702-28', 275.0, 42),\n",
       " ('SI41502ZC01-ZF-I44304-08', 275.0, 71),\n",
       " ('SI41501ZC01-ZF-I45304-10', 275.0, 112),\n",
       " ('SI41501ZC01-ZF-I45304-14', 275.0, 116),\n",
       " ('SI41501ZC01-ZF-I45304-22', 275.0, 124),\n",
       " ('SI41309Y052-ZF-I40502-14', 275.0, 201),\n",
       " ('SI41503ZC01-ZF-I44403-27', 275.0, 263),\n",
       " ('SI41503ZC01-ZF-I44403-31', 275.0, 267),\n",
       " ('SI41410ZC01-ZF-I43704-10', 275.0, 282),\n",
       " ('SI41410ZC01-ZF-I43704-21', 275.0, 293),\n",
       " ('SI41502ZC01-ZF-I44304-06', 274.0, 69),\n",
       " ('SI41501ZC01-ZF-I45304-04', 274.0, 106),\n",
       " ('SI41501ZC01-ZF-I45304-05', 274.0, 107),\n",
       " ('SI41501ZC01-ZF-I45304-11', 274.0, 113),\n",
       " ('SI41501ZC01-ZF-I45304-16', 274.0, 118),\n",
       " ('SI41501ZC01-ZF-I45304-18', 274.0, 120),\n",
       " ('SI41310Y053-ZF-I42402-44', 274.0, 182),\n",
       " ('SI41309Y052-ZF-I40502-31', 274.0, 218),\n",
       " ('SI41410ZC01-ZF-I43704-04', 274.0, 276),\n",
       " ('SI41307Y050-ZF-I40702-44', 273.0, 58),\n",
       " ('SI41502ZC01-ZF-I44304-02', 273.0, 65),\n",
       " ('SI41501ZC01-ZF-I45304-07', 273.0, 109),\n",
       " ('SI41501ZC01-ZF-I45304-24', 273.0, 126),\n",
       " ('SI41309Y052-ZF-I40502-33', 273.0, 220),\n",
       " ('SI41309Y052-ZF-I40502-34', 273.0, 221),\n",
       " ('SI41410ZC01-ZF-I43704-03', 273.0, 275),\n",
       " ('SI41410ZC01-ZF-I43704-15', 273.0, 287),\n",
       " ('SI41410ZC01-ZF-I43704-16', 273.0, 288),\n",
       " ('SI41410ZC01-ZF-I43704-19', 273.0, 291),\n",
       " ('SI41410ZC01-ZF-I43704-23', 273.0, 295),\n",
       " ('SI41307Y050-ZF-I40702-18', 272.0, 32),\n",
       " ('SI41307Y050-ZF-I40702-19', 272.0, 33),\n",
       " ('SI41501ZC01-ZF-I45304-20', 272.0, 122),\n",
       " ('SI41501ZC01-ZF-I45304-27', 272.0, 129),\n",
       " ('SI41501ZC01-ZF-I45304-29', 272.0, 131),\n",
       " ('SI41501ZC01-ZF-I45304-30', 272.0, 132),\n",
       " ('SI41310Y053-ZF-I42402-33', 272.0, 171),\n",
       " ('SI41309Y052-ZF-I40502-22', 272.0, 209),\n",
       " ('SI41503ZC01-ZF-I44403-18', 272.0, 254),\n",
       " ('SI41410ZC01-ZF-I43704-06', 272.0, 278),\n",
       " ('SI41410ZC01-ZF-I43704-07', 272.0, 279),\n",
       " ('SI41410ZC01-ZF-I43704-22', 272.0, 294),\n",
       " ('SI41410ZC01-ZF-I43704-25', 272.0, 297),\n",
       " ('SI41307Y050-ZF-I40702-15', 271.0, 29),\n",
       " ('SI41310Y053-ZF-I42402-27', 271.0, 165),\n",
       " ('SI41503ZC01-ZF-I44403-07', 271.0, 243),\n",
       " ('SI41410ZC01-ZF-I43704-09', 271.0, 281),\n",
       " ('SI41410ZC01-ZF-I43704-26', 271.0, 298),\n",
       " ('SI41409ZC01-ZF-I42602-49', 270.0, 14),\n",
       " ('SI41502ZC01-ZF-I44304-21', 270.0, 84),\n",
       " ('SI41502ZC01-ZF-I44304-33', 270.0, 96),\n",
       " ('SI41501ZC01-ZF-I45304-35', 270.0, 137),\n",
       " ('SI41310Y053-ZF-I42402-23', 270.0, 161),\n",
       " ('SI41310Y053-ZF-I42402-25', 270.0, 163),\n",
       " ('SI41309Y052-ZF-I40502-18', 270.0, 205),\n",
       " ('SI41503ZC01-ZF-I44403-11', 270.0, 247),\n",
       " ('SI41410ZC01-ZF-I43704-24', 270.0, 296),\n",
       " ('SI41307Y050-ZF-I40702-17', 269.0, 31),\n",
       " ('SI41307Y050-ZF-I40702-23', 268.0, 37),\n",
       " ('SI41501ZC01-ZF-I45304-17', 268.0, 119),\n",
       " ('SI41309Y052-ZF-I40502-17', 268.0, 204),\n",
       " ('SI41309Y052-ZF-I40502-21', 268.0, 208),\n",
       " ('SI41503ZC01-ZF-I44403-05', 268.0, 241),\n",
       " ('SI41410ZC01-ZF-I43704-18', 268.0, 290),\n",
       " ('SI41502ZC01-ZF-I44304-04', 267.0, 67),\n",
       " ('SI41502ZC01-ZF-I44304-13', 267.0, 76),\n",
       " ('SI41502ZC01-ZF-I44304-31', 267.0, 94),\n",
       " ('SI41309Y052-ZF-I40502-27', 267.0, 214),\n",
       " ('SI41410ZC01-ZF-I43704-27', 267.0, 299),\n",
       " ('SI41502ZC01-ZF-I44304-14', 266.0, 77),\n",
       " ('SI41502ZC01-ZF-I44304-20', 266.0, 83),\n",
       " ('SI41501ZC01-ZF-I45304-23', 266.0, 125),\n",
       " ('SI41309Y052-ZF-I40502-35', 266.0, 222),\n",
       " ('SI41503ZC01-ZF-I44403-32', 266.0, 268),\n",
       " ('SI41410ZC01-ZF-I43704-20', 266.0, 292),\n",
       " ('SI41502ZC01-ZF-I44304-22', 265.0, 85),\n",
       " ('SI41502ZC01-ZF-I44304-24', 265.0, 87),\n",
       " ('SI41310Y053-ZF-I42402-34', 265.0, 172),\n",
       " ('SI41503ZC01-ZF-I44403-15', 265.0, 251),\n",
       " ('SI41503ZC01-ZF-I44403-21', 265.0, 257),\n",
       " ('SI41410ZC01-ZF-I43704-28', 265.0, 300),\n",
       " ('SI41502ZC01-ZF-I44304-05', 264.0, 68),\n",
       " ('SI41502ZC01-ZF-I44304-11', 264.0, 74),\n",
       " ('SI41310Y053-ZF-I42402-26', 264.0, 164),\n",
       " ('SI41409ZC01-ZF-I42602-36', 263.0, 1),\n",
       " ('SI41409ZC01-ZF-I42602-46', 263.0, 11),\n",
       " ('SI41502ZC01-ZF-I44304-19', 263.0, 82),\n",
       " ('SI41502ZC01-ZF-I44304-25', 263.0, 88),\n",
       " ('SI41410ZC01-ZF-I43704-01', 263.0, 273),\n",
       " ('SI41410ZC01-ZF-I43704-14', 263.0, 286),\n",
       " ('SI41409ZC01-ZF-I42602-39', 262.0, 4),\n",
       " ('SI41409ZC01-ZF-I42602-43', 262.0, 8),\n",
       " ('SI41307Y050-ZF-I40702-22', 262.0, 36),\n",
       " ('SI41502ZC01-ZF-I44304-30', 262.0, 93),\n",
       " ('SI41501ZC01-ZF-I45304-12', 262.0, 114),\n",
       " ('SI41410ZC01-ZF-I43704-08', 262.0, 280),\n",
       " ('SI41307Y050-ZF-I40702-38', 261.0, 52),\n",
       " ('SI41502ZC01-ZF-I44304-18', 261.0, 81),\n",
       " ('SI41409ZC01-ZF-I42602-42', 260.0, 7),\n",
       " ('SI41501ZC01-ZF-I45304-02', 260.0, 104),\n",
       " ('SI41310Y053-ZF-I42402-30', 260.0, 168),\n",
       " ('SI41502ZC01-ZF-I44304-03', 259.0, 66),\n",
       " ('SI41310Y053-ZF-I42402-24', 259.0, 162),\n",
       " ('SI41410ZC01-ZF-I43704-02', 259.0, 274),\n",
       " ('SI41502ZC01-ZF-I44304-07', 258.0, 70),\n",
       " ('SI41502ZC01-ZF-I44304-16', 258.0, 79),\n",
       " ('SI41502ZC01-ZF-I44304-34', 258.0, 97),\n",
       " ('SI41409ZC01-ZF-I42602-38', 257.0, 3),\n",
       " ('SI41409ZC01-ZF-I42602-45', 257.0, 10),\n",
       " ('SI41502ZC01-ZF-I44304-17', 257.0, 80),\n",
       " ('SI41502ZC01-ZF-I44304-23', 257.0, 86),\n",
       " ('SI41501ZC01-ZF-I45304-08', 257.0, 110),\n",
       " ('SI41502ZC01-ZF-I44304-28', 255.0, 91),\n",
       " ('SI41504ZC01-ZF-I45403-06', 255.0, 101),\n",
       " ('SI41310Y053-ZF-I42402-32', 255.0, 170),\n",
       " ('SI41309Y052-ZF-I40502-41', 255.0, 228),\n",
       " ('SI41502ZC01-ZF-I44304-15', 254.0, 78),\n",
       " ('SI41502ZC01-ZF-I44304-27', 254.0, 90),\n",
       " ('SI41501ZC01-ZF-I45304-01', 254.0, 103),\n",
       " ('SI41501ZC01-ZF-I45304-13', 254.0, 115),\n",
       " ('SI41501ZC01-ZF-I45304-19', 254.0, 121),\n",
       " ('SI41501ZC01-ZF-I45304-34', 254.0, 136),\n",
       " ('SI41409ZC01-ZF-I42602-37', 253.0, 2),\n",
       " ('SI41502ZC01-ZF-I44304-09', 253.0, 72),\n",
       " ('SI41410ZC01-ZF-I43704-05', 253.0, 277),\n",
       " ('SI41409ZC01-ZF-I42602-41', 252.0, 6),\n",
       " ('SI41501ZC01-ZF-I45304-28', 252.0, 130),\n",
       " ('SI41502ZC01-ZF-I44304-01', 251.0, 64),\n",
       " ('SI41501ZC01-ZF-I45304-25', 251.0, 127),\n",
       " ('SI41409ZC01-ZF-I42602-44', 250.0, 9),\n",
       " ('SI41409ZC01-ZF-I42602-48', 249.0, 13),\n",
       " ('SI41504ZC01-ZF-I45403-01', 248.0, 100),\n",
       " ('SI41307Y050-ZF-I40702-01', 247.0, 15),\n",
       " ('SI41502ZC01-ZF-I44304-10', 246.0, 73),\n",
       " ('SI41409ZC01-ZF-I42602-47', 244.0, 12),\n",
       " ('SI41501ZC01-ZF-I45304-06', 244.0, 108),\n",
       " ('SI41504ZC01-ZF-I45403-31', 243.0, 102),\n",
       " ('SI41501ZC01-ZF-I45304-36', 242.0, 138),\n",
       " ('SI41409ZC01-ZF-I42602-40', 235.0, 5)]"
      ]
     },
     "execution_count": 332,
     "metadata": {},
     "output_type": "execute_result"
    }
   ],
   "source": [
    "left"
   ]
  },
  {
   "cell_type": "code",
   "execution_count": null,
   "metadata": {},
   "outputs": [],
   "source": []
  },
  {
   "cell_type": "code",
   "execution_count": null,
   "metadata": {},
   "outputs": [],
   "source": []
  },
  {
   "cell_type": "code",
   "execution_count": null,
   "metadata": {},
   "outputs": [],
   "source": []
  },
  {
   "cell_type": "code",
   "execution_count": null,
   "metadata": {},
   "outputs": [],
   "source": []
  },
  {
   "cell_type": "code",
   "execution_count": null,
   "metadata": {},
   "outputs": [],
   "source": []
  },
  {
   "cell_type": "code",
   "execution_count": 303,
   "metadata": {},
   "outputs": [
    {
     "name": "stdout",
     "output_type": "stream",
     "text": [
      "271 142\n"
     ]
    }
   ],
   "source": [
    "print len(input14),len(left_data_11)"
   ]
  },
  {
   "cell_type": "code",
   "execution_count": 305,
   "metadata": {},
   "outputs": [
    {
     "data": {
      "text/plain": [
       "[('SI41401HG01-ZF-I42702-07', 266.0, 400),\n",
       " ('SI41401HG01-ZF-I42702-10', 266.0, 401),\n",
       " ('SI41401HG01-ZF-I42702-03', 265.0, 403),\n",
       " ('SI41401HG01-ZF-I42702-06', 265.0, 404),\n",
       " ('SI41401HG01-ZF-I42702-15', 265.0, 405),\n",
       " ('SI41406ZC01-ZF-I43603-24', 265.0, 406),\n",
       " ('SI41316HG01-ZF-I42803-13', 264.0, 407),\n",
       " ('SI41401HG01-ZF-I42702-09', 264.0, 408),\n",
       " ('SI41404HG01-ZF-I44602-31', 264.0, 409),\n",
       " ('SI41409ZC01-ZF-I42602-29', 264.0, 410),\n",
       " ('SI41402HG01-ZF-I45502-16', 263.0, 412),\n",
       " ('SI41402HG01-ZF-I45502-19', 263.0, 413),\n",
       " ('SI41402HG01-ZF-I45502-22', 263.0, 414),\n",
       " ('SI41402HG01-ZF-I45502-36', 263.0, 415),\n",
       " ('SI41401HG01-ZF-I42702-17', 263.0, 416),\n",
       " ('SI41401HG01-ZF-I42702-21', 263.0, 417),\n",
       " ('SI41401HG01-ZF-I42702-31', 263.0, 418),\n",
       " ('SI41314HG01-ZF-I43803-32', 262.0, 419),\n",
       " ('SI41316HG01-ZF-I42803-25', 262.0, 420),\n",
       " ('SI41402HG01-ZF-I45502-25', 262.0, 421),\n",
       " ('SI41401HG01-ZF-I42702-12', 262.0, 422),\n",
       " ('SI41401HG01-ZF-I42702-24', 262.0, 423),\n",
       " ('SI41409ZC01-ZF-I42602-28', 262.0, 424),\n",
       " ('SI41401HG01-ZF-I42702-30', 261.0, 425),\n",
       " ('SI41406ZC01-ZF-I43603-22', 261.0, 426),\n",
       " ('SI41409ZC01-ZF-I42602-05', 261.0, 427),\n",
       " ('SI41409ZC01-ZF-I42602-35', 261.0, 428),\n",
       " ('SI41402HG01-ZF-I45502-13', 260.0, 429),\n",
       " ('SI41401HG01-ZF-I42702-18', 260.0, 430),\n",
       " ('SI41401HG01-ZF-I42702-23', 260.0, 431),\n",
       " ('SI41406ZC01-ZF-I43603-07', 260.0, 432),\n",
       " ('SI41409ZC01-ZF-I42602-25', 260.0, 433),\n",
       " ('SI41407ZC01-ZF-I43503-05', 259.0, 434),\n",
       " ('SI41407ZC01-ZF-I43503-06', 259.0, 435),\n",
       " ('SI41404HG01-ZF-I44602-32', 259.0, 436),\n",
       " ('SI41409ZC01-ZF-I42602-27', 259.0, 437),\n",
       " ('SI41409ZC01-ZF-I42602-32', 259.0, 438),\n",
       " ('SI41409ZC01-ZF-I42602-34', 259.0, 439),\n",
       " ('SI41407ZC01-ZF-I43503-24', 258.0, 441),\n",
       " ('SI41402HG01-ZF-I45502-26', 258.0, 442),\n",
       " ('SI41402HG01-ZF-I45502-32', 258.0, 443),\n",
       " ('SI41406ZC01-ZF-I43603-16', 258.0, 444),\n",
       " ('SI41409ZC01-ZF-I42602-09', 258.0, 445),\n",
       " ('SI41314HG01-ZF-I43803-25', 257.0, 446),\n",
       " ('SI41409ZC01-ZF-I42602-04', 257.0, 447),\n",
       " ('SI41409ZC01-ZF-I42602-06', 257.0, 448),\n",
       " ('SI41409ZC01-ZF-I42602-12', 257.0, 449),\n",
       " ('SI41407ZC01-ZF-I43503-02', 256.0, 450),\n",
       " ('SI41407ZC01-ZF-I43503-11', 256.0, 451),\n",
       " ('SI41402HG01-ZF-I45502-04', 256.0, 452),\n",
       " ('SI41406ZC01-ZF-I43603-17', 255.0, 453),\n",
       " ('SI41409ZC01-ZF-I42602-01', 255.0, 454),\n",
       " ('SI41409ZC01-ZF-I42602-19', 255.0, 455),\n",
       " ('SI41316HG01-ZF-I42803-01', 253.0, 457),\n",
       " ('SI41409ZC01-ZF-I42602-13', 253.0, 458),\n",
       " ('SI41409ZC01-ZF-I42602-16', 253.0, 459),\n",
       " ('SI41409ZC01-ZF-I42602-07', 252.0, 460),\n",
       " ('SI41409ZC01-ZF-I42602-14', 252.0, 461),\n",
       " ('SI41406ZC01-ZF-I43603-14', 251.0, 462),\n",
       " ('SI41409ZC01-ZF-I42602-24', 251.0, 463),\n",
       " ('SI41409ZC01-ZF-I42602-31', 251.0, 464),\n",
       " ('SI41315HG01-ZF-I42902-21', 250.0, 465),\n",
       " ('SI41313HG01-ZF-I44903-30', 250.0, 466),\n",
       " ('SI41312HG01-ZF-I44202-17', 250.0, 467),\n",
       " ('SI41312HG01-ZF-I44202-22', 250.0, 468),\n",
       " ('SI41312HG01-ZF-I44202-30', 250.0, 469),\n",
       " ('SI41301ZC01-ZF-I41103-09', 250.0, 470),\n",
       " ('SI41301ZC01-ZF-I41103-32', 250.0, 471),\n",
       " ('SI41301ZC01-ZF-I41103-35', 250.0, 472),\n",
       " ('SI41314HG01-ZF-I43803-30', 250.0, 473),\n",
       " ('SI41409ZC01-ZF-I42602-23', 250.0, 474),\n",
       " ('SI41301ZC01-ZF-I41103-10', 249.0, 475),\n",
       " ('SI41301ZC01-ZF-I41103-16', 249.0, 476),\n",
       " ('SI41301ZC01-ZF-I41103-30', 249.0, 477),\n",
       " ('SI41314HG01-ZF-I43803-16', 249.0, 478),\n",
       " ('SI41409ZC01-ZF-I42602-20', 249.0, 479),\n",
       " ('SI41101Y046-ZF-I42401-40', 248.0, 480),\n",
       " ('SI41301ZC01-ZF-I41103-17', 248.0, 481),\n",
       " ('SI41406ZC01-ZF-I43603-23', 248.0, 482),\n",
       " ('SI41409ZC01-ZF-I42602-21', 248.0, 483),\n",
       " ('SI41305ZC01-ZF-I44702-05', 247.0, 484),\n",
       " ('SI41313HG01-ZF-I44903-24', 247.0, 485),\n",
       " ('SI41301ZC01-ZF-I41103-25', 247.0, 486),\n",
       " ('SI41305ZC01-ZF-I44702-20', 246.0, 487),\n",
       " ('SI41201ZR01-ZF-I42202-04', 246.0, 488),\n",
       " ('SI41201ZR01-ZF-I42202-49', 246.0, 489),\n",
       " ('SI41313HG01-ZF-I44903-18', 246.0, 490),\n",
       " ('SI41301ZC01-ZF-I41103-05', 246.0, 491),\n",
       " ('SI41301ZC01-ZF-I41103-11', 246.0, 492),\n",
       " ('SI41301ZC01-ZF-I41103-23', 246.0, 493),\n",
       " ('SI41314HG01-ZF-I43803-22', 246.0, 494),\n",
       " ('SI41406ZC01-ZF-I43603-28', 246.0, 495),\n",
       " ('SI41305ZC01-ZF-I44702-21', 245.0, 496),\n",
       " ('SI41201ZR01-ZF-I42202-30', 245.0, 497),\n",
       " ('SI41301ZC01-ZF-I41103-18', 245.0, 498),\n",
       " ('SI41301ZC01-ZF-I41103-44', 245.0, 499),\n",
       " ('SI41314HG01-ZF-I43803-01', 245.0, 500),\n",
       " ('SI41409ZC01-ZF-I42602-10', 245.0, 501),\n",
       " ('SI41305ZC01-ZF-I44702-15', 244.0, 502),\n",
       " ('SI41312HG01-ZF-I44202-08', 244.0, 503),\n",
       " ('SI41201ZR01-ZF-I42202-09', 243.0, 504),\n",
       " ('SI41201ZR01-ZF-I42202-43', 243.0, 505),\n",
       " ('SI41313HG01-ZF-I44903-23', 243.0, 506),\n",
       " ('SI41312HG01-ZF-I44202-05', 243.0, 507),\n",
       " ('SI41312HG01-ZF-I44202-11', 243.0, 508),\n",
       " ('SI41301ZC01-ZF-I41103-37', 243.0, 509),\n",
       " ('SI41401HG01-ZF-I42702-36', 243.0, 510),\n",
       " ('SI41315HG01-ZF-I42902-34', 242.0, 511),\n",
       " ('SI41312HG01-ZF-I44202-06', 242.0, 512),\n",
       " ('SI41312HG01-ZF-I44202-16', 242.0, 513),\n",
       " ('SI41401HG01-ZF-I42702-02', 242.0, 514),\n",
       " ('SI41403HG01-ZF-I45103-13', 242.0, 515),\n",
       " ('SI41403HG01-ZF-I45103-25', 242.0, 516),\n",
       " ('SI41409ZC01-ZF-I42602-02', 242.0, 517),\n",
       " ('SI41403HG01-ZF-I45103-19', 241.0, 518),\n",
       " ('SI41305ZC01-ZF-I44702-09', 240.0, 519),\n",
       " ('SI41201ZR01-ZF-I42202-05', 240.0, 520),\n",
       " ('SI41201ZR01-ZF-I42202-15', 240.0, 521),\n",
       " ('SI41201ZR01-ZF-I42202-23', 240.0, 522),\n",
       " ('SI41301ZC01-ZF-I41103-27', 240.0, 523),\n",
       " ('SI41301ZC01-ZF-I41103-34', 240.0, 524),\n",
       " ('SI41312HG01-ZF-I44202-02', 238.0, 525),\n",
       " ('SI41403HG01-ZF-I45103-06', 238.0, 526),\n",
       " ('SI41404HG01-ZF-I44602-13', 238.0, 527),\n",
       " ('SI41201ZR01-ZF-I42202-42', 237.0, 528),\n",
       " ('SI41313HG01-ZF-I44903-22', 237.0, 529),\n",
       " ('SI41409ZC01-ZF-I42602-33', 237.0, 530),\n",
       " ('SI41101Y046-ZF-I42401-45', 236.0, 531),\n",
       " ('SI41301ZC01-ZF-I41103-49', 236.0, 532),\n",
       " ('SI41401HG01-ZF-I42702-08', 236.0, 533),\n",
       " ('SI41409ZC01-ZF-I42602-03', 236.0, 534),\n",
       " ('SI41409ZC01-ZF-I42602-26', 236.0, 535),\n",
       " ('SI41305ZC01-ZF-I44702-07', 235.0, 536),\n",
       " ('SI41201ZR01-ZF-I42202-01', 235.0, 537),\n",
       " ('SI41305ZC01-ZF-I44702-16', 234.0, 538),\n",
       " ('SI41305ZC01-ZF-I44702-33', 234.0, 539),\n",
       " ('SI41201ZR01-ZF-I42202-21', 234.0, 540),\n",
       " ('SI41201ZR01-ZF-I42202-37', 234.0, 541),\n",
       " ('SI41407ZC01-ZF-I43503-26', 233.0, 542),\n",
       " ('SI41201ZR01-ZF-I42202-08', 232.0, 543),\n",
       " ('SI41201ZR01-ZF-I42202-34', 231.0, 545),\n",
       " ('SI41407ZC01-ZF-I43503-32', 231.0, 546)]"
      ]
     },
     "execution_count": 305,
     "metadata": {},
     "output_type": "execute_result"
    }
   ],
   "source": [
    "left_data_11"
   ]
  },
  {
   "cell_type": "code",
   "execution_count": null,
   "metadata": {},
   "outputs": [],
   "source": []
  }
 ],
 "metadata": {
  "kernelspec": {
   "display_name": "Python 2",
   "language": "python",
   "name": "python2"
  },
  "language_info": {
   "codemirror_mode": {
    "name": "ipython",
    "version": 2
   },
   "file_extension": ".py",
   "mimetype": "text/x-python",
   "name": "python",
   "nbconvert_exporter": "python",
   "pygments_lexer": "ipython2",
   "version": "2.7.15"
  }
 },
 "nbformat": 4,
 "nbformat_minor": 2
}
